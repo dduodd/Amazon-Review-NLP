{
  "cells": [
    {
      "cell_type": "markdown",
      "id": "421e584a",
      "metadata": {
        "execution": {
          "iopub.execute_input": "2023-03-07T23:51:01.219433Z",
          "iopub.status.busy": "2023-03-07T23:51:01.218862Z",
          "iopub.status.idle": "2023-03-07T23:51:01.332442Z",
          "shell.execute_reply": "2023-03-07T23:51:01.331156Z",
          "shell.execute_reply.started": "2023-03-07T23:51:01.219384Z"
        },
        "scrolled": true,
        "id": "421e584a"
      },
      "source": [
        "# CIS 4567.01 Project Milestone 2\n",
        "Aimee Tao, David Zhang"
      ]
    },
    {
      "cell_type": "markdown",
      "id": "389b6471",
      "metadata": {
        "execution": {
          "iopub.execute_input": "2023-03-07T01:21:27.626654Z",
          "iopub.status.busy": "2023-03-07T01:21:27.626290Z",
          "iopub.status.idle": "2023-03-07T01:21:27.706705Z",
          "shell.execute_reply": "2023-03-07T01:21:27.705736Z",
          "shell.execute_reply.started": "2023-03-07T01:21:27.626621Z"
        },
        "id": "389b6471"
      },
      "source": [
        "Objective - To make a model that can read, analyze, and compile all reviews of Amazon appliance products within the dataset\n",
        "\n",
        "Method of Analysis - To create sentiment scores and use classification/regression to analyze it\n",
        "\n",
        "Independent Variable - Product name, text review, star rating, etc.\n",
        "\n",
        "Dependent Variable - The outcome categories of the review sentiment(positive or negative)"
      ]
    },
    {
      "cell_type": "code",
      "execution_count": null,
      "id": "f6bf037a-dedb-464b-b6bc-1b963bba8e60",
      "metadata": {
        "execution": {
          "iopub.execute_input": "2023-03-07T23:36:30.218431Z",
          "iopub.status.busy": "2023-03-07T23:36:30.217873Z",
          "iopub.status.idle": "2023-03-07T23:36:30.333109Z",
          "shell.execute_reply": "2023-03-07T23:36:30.331668Z",
          "shell.execute_reply.started": "2023-03-07T23:36:30.218380Z"
        },
        "tags": [],
        "id": "f6bf037a-dedb-464b-b6bc-1b963bba8e60",
        "outputId": "7c0d1ee8-7444-46b6-c4e5-240cfe232731",
        "colab": {
          "referenced_widgets": [
            "2188f7c7ba774cb8b2f56e7e0920c538",
            ""
          ]
        }
      },
      "outputs": [
        {
          "data": {
            "application/vnd.jupyter.widget-view+json": {
              "model_id": "2188f7c7ba774cb8b2f56e7e0920c538",
              "version_major": 2,
              "version_minor": 0
            },
            "text/plain": [
              "VBox()"
            ]
          },
          "metadata": {},
          "output_type": "display_data"
        },
        {
          "name": "stdout",
          "output_type": "stream",
          "text": [
            "Starting Spark application\n"
          ]
        },
        {
          "data": {
            "text/html": [
              "<table>\n",
              "<tr><th>ID</th><th>YARN Application ID</th><th>Kind</th><th>State</th><th>Spark UI</th><th>Driver log</th><th>User</th><th>Current session?</th></tr><tr><td>0</td><td>application_1683830836502_0001</td><td>pyspark</td><td>idle</td><td><a target=\"_blank\" href=\"http://ip-172-31-93-91.ec2.internal:20888/proxy/application_1683830836502_0001/\" class=\"emr-proxy-link\" emr-resource=\"j-7G1FUXL8SCUD\n",
              "\" application-id=\"application_1683830836502_0001\">Link</a></td><td><a target=\"_blank\" href=\"http://ip-172-31-84-194.ec2.internal:8042/node/containerlogs/container_1683830836502_0001_01_000001/livy\" >Link</a></td><td>None</td><td>✔</td></tr></table>"
            ],
            "text/plain": [
              "<IPython.core.display.HTML object>"
            ]
          },
          "metadata": {},
          "output_type": "display_data"
        },
        {
          "data": {
            "application/vnd.jupyter.widget-view+json": {
              "model_id": "",
              "version_major": 2,
              "version_minor": 0
            },
            "text/plain": [
              "FloatProgress(value=0.0, bar_style='info', description='Progress:', layout=Layout(height='25px', width='50%'),…"
            ]
          },
          "metadata": {},
          "output_type": "display_data"
        },
        {
          "name": "stdout",
          "output_type": "stream",
          "text": [
            "SparkSession available as 'spark'.\n"
          ]
        },
        {
          "data": {
            "application/vnd.jupyter.widget-view+json": {
              "model_id": "",
              "version_major": 2,
              "version_minor": 0
            },
            "text/plain": [
              "FloatProgress(value=0.0, bar_style='info', description='Progress:', layout=Layout(height='25px', width='50%'),…"
            ]
          },
          "metadata": {},
          "output_type": "display_data"
        }
      ],
      "source": [
        "from pyspark.sql import Window\n",
        "from pyspark.sql import functions as F\n",
        "from pyspark.sql.functions import *\n",
        "from pyspark.sql.types import *\n",
        "import pyspark.pandas as ps\n",
        "import pandas as pd"
      ]
    },
    {
      "cell_type": "code",
      "execution_count": null,
      "id": "1a93c449-60d6-4e1b-93b6-a1fc255c5384",
      "metadata": {
        "execution": {
          "iopub.execute_input": "2023-03-07T22:29:23.646171Z",
          "iopub.status.busy": "2023-03-07T22:29:23.645810Z",
          "iopub.status.idle": "2023-03-07T22:29:37.070642Z",
          "shell.execute_reply": "2023-03-07T22:29:37.069528Z",
          "shell.execute_reply.started": "2023-03-07T22:29:23.646140Z"
        },
        "tags": [],
        "id": "1a93c449-60d6-4e1b-93b6-a1fc255c5384",
        "outputId": "528c8ac5-3d0e-4277-9e56-27e09deeae36",
        "colab": {
          "referenced_widgets": [
            "65ca454da3264478b7a539420a5058a3",
            ""
          ]
        }
      },
      "outputs": [
        {
          "data": {
            "application/vnd.jupyter.widget-view+json": {
              "model_id": "65ca454da3264478b7a539420a5058a3",
              "version_major": 2,
              "version_minor": 0
            },
            "text/plain": [
              "VBox()"
            ]
          },
          "metadata": {},
          "output_type": "display_data"
        },
        {
          "data": {
            "application/vnd.jupyter.widget-view+json": {
              "model_id": "",
              "version_major": 2,
              "version_minor": 0
            },
            "text/plain": [
              "FloatProgress(value=0.0, bar_style='info', description='Progress:', layout=Layout(height='25px', width='50%'),…"
            ]
          },
          "metadata": {},
          "output_type": "display_data"
        },
        {
          "name": "stdout",
          "output_type": "stream",
          "text": [
            "+----------+--------------------+-------+--------------------+-----------+--------------+---------------+--------------------+--------------------+--------------+--------+----+\n",
            "|      asin|               image|overall|          reviewText| reviewTime|    reviewerID|   reviewerName|               style|             summary|unixReviewTime|verified|vote|\n",
            "+----------+--------------------+-------+--------------------+-----------+--------------+---------------+--------------------+--------------------+--------------+--------+----+\n",
            "|B01EM69VT8|[https://images-n...|    5.0|Worked perfectly ...| 04 7, 2017| ALZTX4Q4Y61EP|     Mela Blust|{null, null, null...|          Five Stars|    1491523200|    true|null|\n",
            "|B0178HI1WQ|[https://images-n...|    5.0|I was looking for...| 08 7, 2018|A3CJOV8YCZK3RF|             jk|{ Stainless Steel...|BEST ICE MAKER WO...|    1533600000|    true|null|\n",
            "|B00BRX554A|[https://images-n...|    1.0|Item not as descr...|02 28, 2017|A21PHFAQIW7FDB|        rcfreud|                null|Not as detailed a...|    1488240000|    true|   5|\n",
            "|B00XYVE026|[https://images-n...|    4.0|My only complaint...|08 20, 2015| A6TC1J0RY1ND4|      Kerrie S.|                null|    Not bad, but....|    1440028800|   false|  11|\n",
            "|B00AUDA0GQ|[https://images-n...|    5.0|My parents refrig...|10 13, 2017|A27EO81CIR0063|Nathan Shiffler|                null|Repaired LG LFC23...|    1507852800|    true|   2|\n",
            "|B00AF7U1F2|[https://images-n...|    5.0|Fits great just a...|04 23, 2012|A34ELJZYF7WA2J|    J. Bushouse|                null|          Fits Great|    1335139200|    true|null|\n",
            "|B016969GWQ|[https://images-n...|    5.0|The trimer was pe...|06 28, 2017|A1N6TW5MBBKIHN|           mark|                null|Trimer was perfec...|    1498608000|    true|null|\n",
            "|B01G44XXMC|[https://images-n...|    5.0|I've been purchas...| 09 2, 2016| AAW5XI4YDGQ44|Amazon Customer|{null, null, null...|Easy to install w...|    1472774400|    true|   9|\n",
            "|B0071GKC5O|[https://images-n...|    5.0|made freezer into...| 03 9, 2017| A96RYTQTYSF49|      J.R.Watts|                null|          Five Stars|    1489017600|    true|null|\n",
            "|B00G9EHGDK|[https://images-n...|    1.0|damaged and leaki...|07 16, 2015|A34LKVINGBD8WL|  DongSheng,Guo|                null|            One Star|    1437004800|    true|  12|\n",
            "|B00C1LSJ9K|[https://images-n...|    5.0|Likes\\nPrice\\nBaf...|04 26, 2016|A2M7B0CV6HV53V|    Divaloution|                null|Great island hood...|    1461628800|    true|   5|\n",
            "|B000HE5DNI|[https://images-n...|    2.0|<div id=\"video-bl...|09 19, 2016| AFAO4KLZPQZSP|       Alison O|{ Black, null, nu...|            Not sold|    1474243200|    true|  32|\n",
            "|B0012Q1ZS2|[https://images-n...|    4.0|I just purchased ...|02 11, 2009|A1SP30YDXJVWYB|     K. Baratka|                null|         Great Value|    1234310400|   false|  10|\n",
            "|B01CC7O8JW|[https://images-n...|    5.0|Fits in my GE Fri...|08 16, 2016|A1TAH7R5RTWY5T| StormTrooper80|                null|             Fits GE|    1471305600|    true|null|\n",
            "|B01810FV68|[https://images-n...|    4.0|I thought this wa...| 07 5, 2016| ALRWJ4E9MHKJU| Christine Mele|                null|I thought this wa...|    1467676800|   false|null|\n",
            "|B0142B6DAI|[https://images-n...|    5.0|I was looking for...|04 15, 2017|A261JVZT1PRPTH|Amazon Customer|                null|It doesnt take up...|    1492214400|    true|null|\n",
            "|B00LTXYPCG|[https://images-n...|    3.0|See the  Alexande...|02 22, 2016|A3BDG7BJG87OED|          David|                null|The part is super...|    1456099200|    true|null|\n",
            "|B00HT39KVQ|[https://images-n...|    3.0|I would be truly ...|05 13, 2017|A2N8F02V6CLVV0|  Keith Halonen|{null, null, null...|LEAKS in my refri...|    1494633600|    true|   6|\n",
            "|B0123N455M|[https://images-n...|    1.0|I should have pai...|09 16, 2015| A5L2TI7VJW96O|           anon|                null|    Complete garbage|    1442361600|    true|null|\n",
            "|B0053F7UIM|[https://images-n...|    5.0|Fits my Whirlpool...|04 16, 2018|A2XG2T3I1LORRI|      F. Monica|                null|Very easy to install|    1523836800|    true|null|\n",
            "+----------+--------------------+-------+--------------------+-----------+--------------+---------------+--------------------+--------------------+--------------+--------+----+\n",
            "only showing top 20 rows"
          ]
        }
      ],
      "source": [
        "# Import Appliance db from public s3 bucket in AWS\n",
        "# The columns are not in order -- no have no control over this\n",
        "\n",
        "df = spark.read.json('s3://testcis4567/cis4567_project/Appliances.json')\n",
        "df.show()"
      ]
    },
    {
      "cell_type": "code",
      "execution_count": null,
      "id": "6f88be36",
      "metadata": {
        "id": "6f88be36",
        "outputId": "64065724-aa7e-4b3e-8c11-23c163cb22eb",
        "colab": {
          "referenced_widgets": [
            "786f59ff8f014ccbb57b734074f9f446",
            ""
          ]
        }
      },
      "outputs": [
        {
          "data": {
            "application/vnd.jupyter.widget-view+json": {
              "model_id": "786f59ff8f014ccbb57b734074f9f446",
              "version_major": 2,
              "version_minor": 0
            },
            "text/plain": [
              "VBox()"
            ]
          },
          "metadata": {},
          "output_type": "display_data"
        },
        {
          "data": {
            "application/vnd.jupyter.widget-view+json": {
              "model_id": "",
              "version_major": 2,
              "version_minor": 0
            },
            "text/plain": [
              "FloatProgress(value=0.0, bar_style='info', description='Progress:', layout=Layout(height='25px', width='50%'),…"
            ]
          },
          "metadata": {},
          "output_type": "display_data"
        }
      ],
      "source": [
        "# Dataset contains several columns unnessecary to us, drop those we don't need\n",
        "\n",
        "df = df.drop('image', 'reviewTime', 'style', 'unixReviewTime', 'verified')"
      ]
    },
    {
      "cell_type": "code",
      "execution_count": null,
      "id": "92d1b5df",
      "metadata": {
        "id": "92d1b5df",
        "outputId": "48cb9553-34a8-449f-a0fb-30db0e117cce",
        "colab": {
          "referenced_widgets": [
            "b5320e904e09403282d7144fbe8788cb",
            ""
          ]
        }
      },
      "outputs": [
        {
          "data": {
            "application/vnd.jupyter.widget-view+json": {
              "model_id": "b5320e904e09403282d7144fbe8788cb",
              "version_major": 2,
              "version_minor": 0
            },
            "text/plain": [
              "VBox()"
            ]
          },
          "metadata": {},
          "output_type": "display_data"
        },
        {
          "data": {
            "application/vnd.jupyter.widget-view+json": {
              "model_id": "",
              "version_major": 2,
              "version_minor": 0
            },
            "text/plain": [
              "FloatProgress(value=0.0, bar_style='info', description='Progress:', layout=Layout(height='25px', width='50%'),…"
            ]
          },
          "metadata": {},
          "output_type": "display_data"
        },
        {
          "name": "stdout",
          "output_type": "stream",
          "text": [
            "+----------+-------+--------------------+--------------+---------------+--------------------+----+\n",
            "|      asin|overall|          reviewText|    reviewerID|   reviewerName|             summary|vote|\n",
            "+----------+-------+--------------------+--------------+---------------+--------------------+----+\n",
            "|B01EM69VT8|    5.0|Worked perfectly ...| ALZTX4Q4Y61EP|     Mela Blust|          Five Stars|null|\n",
            "|B0178HI1WQ|    5.0|I was looking for...|A3CJOV8YCZK3RF|             jk|BEST ICE MAKER WO...|null|\n",
            "|B00BRX554A|    1.0|Item not as descr...|A21PHFAQIW7FDB|        rcfreud|Not as detailed a...|   5|\n",
            "|B00XYVE026|    4.0|My only complaint...| A6TC1J0RY1ND4|      Kerrie S.|    Not bad, but....|  11|\n",
            "|B00AUDA0GQ|    5.0|My parents refrig...|A27EO81CIR0063|Nathan Shiffler|Repaired LG LFC23...|   2|\n",
            "|B00AF7U1F2|    5.0|Fits great just a...|A34ELJZYF7WA2J|    J. Bushouse|          Fits Great|null|\n",
            "|B016969GWQ|    5.0|The trimer was pe...|A1N6TW5MBBKIHN|           mark|Trimer was perfec...|null|\n",
            "|B01G44XXMC|    5.0|I've been purchas...| AAW5XI4YDGQ44|Amazon Customer|Easy to install w...|   9|\n",
            "|B0071GKC5O|    5.0|made freezer into...| A96RYTQTYSF49|      J.R.Watts|          Five Stars|null|\n",
            "|B00G9EHGDK|    1.0|damaged and leaki...|A34LKVINGBD8WL|  DongSheng,Guo|            One Star|  12|\n",
            "|B00C1LSJ9K|    5.0|Likes\\nPrice\\nBaf...|A2M7B0CV6HV53V|    Divaloution|Great island hood...|   5|\n",
            "|B000HE5DNI|    2.0|<div id=\"video-bl...| AFAO4KLZPQZSP|       Alison O|            Not sold|  32|\n",
            "|B0012Q1ZS2|    4.0|I just purchased ...|A1SP30YDXJVWYB|     K. Baratka|         Great Value|  10|\n",
            "|B01CC7O8JW|    5.0|Fits in my GE Fri...|A1TAH7R5RTWY5T| StormTrooper80|             Fits GE|null|\n",
            "|B01810FV68|    4.0|I thought this wa...| ALRWJ4E9MHKJU| Christine Mele|I thought this wa...|null|\n",
            "|B0142B6DAI|    5.0|I was looking for...|A261JVZT1PRPTH|Amazon Customer|It doesnt take up...|null|\n",
            "|B00LTXYPCG|    3.0|See the  Alexande...|A3BDG7BJG87OED|          David|The part is super...|null|\n",
            "|B00HT39KVQ|    3.0|I would be truly ...|A2N8F02V6CLVV0|  Keith Halonen|LEAKS in my refri...|   6|\n",
            "|B0123N455M|    1.0|I should have pai...| A5L2TI7VJW96O|           anon|    Complete garbage|null|\n",
            "|B0053F7UIM|    5.0|Fits my Whirlpool...|A2XG2T3I1LORRI|      F. Monica|Very easy to install|null|\n",
            "+----------+-------+--------------------+--------------+---------------+--------------------+----+\n",
            "only showing top 20 rows"
          ]
        }
      ],
      "source": [
        "# Shows the columns we are keeping. Kept 'asin' in order to later combine the two datasets\n",
        "\n",
        "df.show()"
      ]
    },
    {
      "cell_type": "code",
      "execution_count": null,
      "id": "9f519099",
      "metadata": {
        "id": "9f519099",
        "outputId": "6f5cc512-8bfa-4246-9025-f7c41c113245",
        "colab": {
          "referenced_widgets": [
            "7a76e926946e4718ad637fffc4c03f1e",
            ""
          ]
        }
      },
      "outputs": [
        {
          "data": {
            "application/vnd.jupyter.widget-view+json": {
              "model_id": "7a76e926946e4718ad637fffc4c03f1e",
              "version_major": 2,
              "version_minor": 0
            },
            "text/plain": [
              "VBox()"
            ]
          },
          "metadata": {},
          "output_type": "display_data"
        },
        {
          "data": {
            "application/vnd.jupyter.widget-view+json": {
              "model_id": "",
              "version_major": 2,
              "version_minor": 0
            },
            "text/plain": [
              "FloatProgress(value=0.0, bar_style='info', description='Progress:', layout=Layout(height='25px', width='50%'),…"
            ]
          },
          "metadata": {},
          "output_type": "display_data"
        },
        {
          "name": "stdout",
          "output_type": "stream",
          "text": [
            "+--------------------+--------------------+----------+--------------+--------------------+-----------------+--------------------+--------------------+--------------------+---+--------------------+--------------------+--------------------+--------------------+--------------------+--------------------+--------------------+-----+--------------------+\n",
            "|            also_buy|           also_view|      asin|         brand|            category|             date|         description|             details|             feature|fit|            imageURL|     imageURLHighRes|            main_cat|               price|                rank|        similar_item|               tech1|tech2|               title|\n",
            "+--------------------+--------------------+----------+--------------+--------------------+-----------------+--------------------+--------------------+--------------------+---+--------------------+--------------------+--------------------+--------------------+--------------------+--------------------+--------------------+-----+--------------------+\n",
            "|                  []|                  []|7301113188|    Tupperware|[Appliances, Refr...|November 19, 2008|                  []|{null, null, null...|[Each 3-pc. set i...|   |                  []|                  []|          Appliances|                    |[\">#39,745 in App...|                    | class=\"a-keyvalu...|     |Tupperware Freeze...|\n",
            "|                  []|        [B004RUGHJW]|7861850250|    Tupperware|[Appliances, Refr...|     June 5, 2016|[2 X Tupperware P...|{null, null, null...|[2 X Tupperware P...|   |[https://images-n...|[https://images-n...|          Appliances|               $3.62|[\">#6,118 in Appl...|                    | class=\"a-keyvalu...|     |2 X Tupperware Pu...|\n",
            "|                  []|[B01HCAVSLK, 1632...|8792559360|The Cigar Book|[Appliances, Part...|                 |                  []|{null, null, null...|                  []|   |[https://images-n...|[https://images-n...|         Amazon Home|             $150.26|[\">#1,861,816 in ...|                    |                    |     |The Cigar - Momen...|\n",
            "|                  []|                  []|9792954481|     Caraselle|[Appliances, Part...|December 17, 2014|[Multi purpost de...|{null, null, null...|                  []|   |[https://images-n...|[https://images-n...|Tools & Home Impr...|.a-box-inner{back...|[\">#1,654,505 in ...|                    | class=\"a-keyvalu...|     |Caraselle 2X 50G ...|\n",
            "|                  []|                  []|B00002N5EL|  EATON Wiring|[Appliances, Part...| January 16, 2007|[Full gauge and s...|{null, null, null...|[Returns will not...|   |                  []|                  []|Tools & Home Impr...|               $3.43|[\">#3,066,990 in ...|                    | class=\"a-keyvalu...|     |EATON Wiring 39CH...|\n",
            "|[B000BPFZHM, B000...|                  []|B00002N7HY|       Leviton|[Appliances, Part...| November 9, 1999|[Outfit your drye...|{null, null, null...|[N/A, Made in USA...|   |                  []|                  []|Tools & Home Impr...|               $6.98|[\">#155,450 in To...| class=\"a-bordere...| class=\"a-keyvalu...|     |Leviton 5050 B01-...|\n",
            "|[B000FK9X6W, B000...|[B00002N7HY, B074...|B00002N7IL|       Leviton|[Appliances, Part...|     July 7, 2004|[Outfit your drye...|{null, null, null...|[Fits all wallpla...|   |                  []|                  []|Tools & Home Impr...|                    |[\">#411,187 in To...| class=\"a-bordere...| class=\"a-keyvalu...|     |Leviton 5206 50 A...|\n",
            "|                  []|                  []|B00002N9OE|       Amerock|[Appliances, Part...| November 8, 1999|[Amerock BP5322BJ...|{null, null, null...|[1-1/2\" diameter,...|   |                  []|                  []|Tools & Home Impr...|               $7.68|[\">#1,118,542 in ...|                    | class=\"a-keyvalu...|     |Amerock BP5322-BJ...|\n",
            "|                  []|                  []|B00002NARC|       Leviton|[Appliances, Part...|                 |[Flush dryer outl...|{null, null, null...|[N/A, 3 wire, UL ...|   |                  []|                  []|Tools & Home Impr...|               $5.79|[\">#628,182 in To...| class=\"a-bordere...|                    |     |Leviton 5207 125/...|\n",
            "|                  []|[B00LQDFOMY, B002...|B00004SQHD| Coleman Cable|[Appliances, Part...| January 13, 2009|[Coleman Cable 09...|{null, null, null...|[Range and dryer ...|   |                  []|                  []|Tools & Home Impr...|               $1.41|[\">#728,958 in To...| class=\"a-bordere...| class=\"a-keyvalu...|     |Coleman Cable 090...|\n",
            "|                  []|                  []|B00004SQHH| Coleman Cable|[Appliances, Part...| January 13, 2009|[Coleman Cable 09...|{null, null, null...|[30-Amp dryer app...|   |[https://images-n...|[https://images-n...|Tools &amp; Home ...|                    |[\">#1,695,860 in ...|                    | class=\"a-keyvalu...|     |Coleman Cable 091...|\n",
            "|                  []|                  []|B00004X18E|   Electricord|[Appliances, Part...|September 8, 2000|[The Electricord ...|{null, null, null...|[Made of \"Super-F...|   |                  []|                  []|Tools & Home Impr...|                    |[\">#4,235,625 in ...|                    | class=\"a-keyvalu...|     |Electricord A1459...|\n",
            "|                  []|                  []|B00004YUMW|       Leviton|[Appliances, Part...|  October 6, 2004|[LEVITON SURFACE ...|{null, null, null...|[\"LEVITON\" SURFAC...|   |                  []|                  []|Tools & Home Impr...|               $9.33|[\">#164,843 in To...| class=\"a-bordere...| class=\"a-keyvalu...|     |Leviton 5054 Drye...|\n",
            "|                  []|[B00002N7HY, B000...|B00004YUMU|       Leviton|[Appliances, Part...|  October 5, 2004|[Heavy-gauge, dou...|{null, null, null...|[50 Amp 125/250 V...|   |                  []|                  []|Tools & Home Impr...|               $6.95|[\">#931,071 in To...| class=\"a-bordere...| class=\"a-keyvalu...|     |Leviton 5050 Indu...|\n",
            "|                  []|                  []|B00004YWK7| Dundas Jafine|[Appliances, Part...| November 6, 2008|[Dundas Jafine Ml...|{null, null, null...|[Contains 4\" x 8'...|   |[https://images-n...|[https://images-n...|Tools &amp; Home ...|              $19.78|[\">#157,857 in To...| class=\"a-bordere...| class=\"a-keyvalu...|     |Dundas Jafine MLF...|\n",
            "|[B00Q4X2FSM, B001...|                  []|B00004YWK2| Dundas Jafine|[Appliances, Part...|    June 16, 2006|[White heat keepe...|{null, null, null...|[Directs warm, mo...|   |                  []|                  []|Tools & Home Impr...|               $9.90|[\">#78,624 in Too...| class=\"a-bordere...| class=\"a-keyvalu...|     |Dundas Jafine CHK...|\n",
            "|                  []|[B000NY6U7K, B000...|B000056J8D|       Pro Tec|[Appliances, Part...|                 |[DynaFilter&#x212...|{null, null, null...|[Vicks cool mist ...|   |                  []|                  []|         Amazon Home|                    |[\">#254,487 in Ho...| class=\"a-bordere...|                    |     |Protec DynaFilter...|\n",
            "|[B000LSWX5G, B06X...|                  []|B00005OU6T|        Holmes|[Appliances, Part...|                 |[Keep your air hu...|{null, null, null...|[Improves efficie...|   |[https://images-n...|[https://images-n...|         Amazon Home|               $5.98|[\">#1,235 in Home...| class=\"a-bordere...|                    |     |Holmes &quot;C&qu...|\n",
            "|[B0002TSA8I, B000...|                  []|B00006IV17|        Holmes|[Appliances, Part...|                 |[Holmes \"A\" Humid...|{null, null, null...|[Nullify, Importe...|   |[https://images-n...|[https://images-n...|         Amazon Home|              $11.89|[\">#1,074 in Home...| class=\"a-bordere...|                    |     |Holmes &quot;A&qu...|\n",
            "|                  []|[B0170NWHDM, B000...|B00006JKZX|         Sanyo|[Appliances, Refr...|     June 6, 2007|[BC1206 Features:...|{null, null, null...|[Cooler with 6-1/...|   |                  []|                  []|          Appliances|                    |[\">#25,110 in App...| class=\"a-bordere...| class=\"a-keyvalu...|     |Sanyo BC1206 Kege...|\n",
            "+--------------------+--------------------+----------+--------------+--------------------+-----------------+--------------------+--------------------+--------------------+---+--------------------+--------------------+--------------------+--------------------+--------------------+--------------------+--------------------+-----+--------------------+\n",
            "only showing top 20 rows"
          ]
        }
      ],
      "source": [
        "# Import Metadata db from same public s3 bucket\n",
        "# Contains detailed information of each product (name, brand, and category)\n",
        "\n",
        "df_meta = spark.read.json('s3://testcis4567/cis4567_project/meta_Appliances.json')\n",
        "df_meta.show()"
      ]
    },
    {
      "cell_type": "code",
      "execution_count": null,
      "id": "7b6d8fdf",
      "metadata": {
        "id": "7b6d8fdf",
        "outputId": "3f93af95-9076-4c12-c07e-8cbccdf7ae10",
        "colab": {
          "referenced_widgets": [
            "4a5326805d8541d7abf5eb3b3123555f",
            ""
          ]
        }
      },
      "outputs": [
        {
          "data": {
            "application/vnd.jupyter.widget-view+json": {
              "model_id": "4a5326805d8541d7abf5eb3b3123555f",
              "version_major": 2,
              "version_minor": 0
            },
            "text/plain": [
              "VBox()"
            ]
          },
          "metadata": {},
          "output_type": "display_data"
        },
        {
          "data": {
            "application/vnd.jupyter.widget-view+json": {
              "model_id": "",
              "version_major": 2,
              "version_minor": 0
            },
            "text/plain": [
              "FloatProgress(value=0.0, bar_style='info', description='Progress:', layout=Layout(height='25px', width='50%'),…"
            ]
          },
          "metadata": {},
          "output_type": "display_data"
        },
        {
          "name": "stdout",
          "output_type": "stream",
          "text": [
            "+----------+--------------+--------------------+--------------------+--------------------+\n",
            "|      asin|         brand|            category|               title|               price|\n",
            "+----------+--------------+--------------------+--------------------+--------------------+\n",
            "|7301113188|    Tupperware|[Appliances, Refr...|Tupperware Freeze...|                    |\n",
            "|7861850250|    Tupperware|[Appliances, Refr...|2 X Tupperware Pu...|               $3.62|\n",
            "|8792559360|The Cigar Book|[Appliances, Part...|The Cigar - Momen...|             $150.26|\n",
            "|9792954481|     Caraselle|[Appliances, Part...|Caraselle 2X 50G ...|.a-box-inner{back...|\n",
            "|B00002N5EL|  EATON Wiring|[Appliances, Part...|EATON Wiring 39CH...|               $3.43|\n",
            "|B00002N7HY|       Leviton|[Appliances, Part...|Leviton 5050 B01-...|               $6.98|\n",
            "|B00002N7IL|       Leviton|[Appliances, Part...|Leviton 5206 50 A...|                    |\n",
            "|B00002N9OE|       Amerock|[Appliances, Part...|Amerock BP5322-BJ...|               $7.68|\n",
            "|B00002NARC|       Leviton|[Appliances, Part...|Leviton 5207 125/...|               $5.79|\n",
            "|B00004SQHD| Coleman Cable|[Appliances, Part...|Coleman Cable 090...|               $1.41|\n",
            "|B00004SQHH| Coleman Cable|[Appliances, Part...|Coleman Cable 091...|                    |\n",
            "|B00004X18E|   Electricord|[Appliances, Part...|Electricord A1459...|                    |\n",
            "|B00004YUMW|       Leviton|[Appliances, Part...|Leviton 5054 Drye...|               $9.33|\n",
            "|B00004YUMU|       Leviton|[Appliances, Part...|Leviton 5050 Indu...|               $6.95|\n",
            "|B00004YWK7| Dundas Jafine|[Appliances, Part...|Dundas Jafine MLF...|              $19.78|\n",
            "|B00004YWK2| Dundas Jafine|[Appliances, Part...|Dundas Jafine CHK...|               $9.90|\n",
            "|B000056J8D|       Pro Tec|[Appliances, Part...|Protec DynaFilter...|                    |\n",
            "|B00005OU6T|        Holmes|[Appliances, Part...|Holmes &quot;C&qu...|               $5.98|\n",
            "|B00006IV17|        Holmes|[Appliances, Part...|Holmes &quot;A&qu...|              $11.89|\n",
            "|B00006JKZX|         Sanyo|[Appliances, Refr...|Sanyo BC1206 Kege...|                    |\n",
            "+----------+--------------+--------------------+--------------------+--------------------+\n",
            "only showing top 20 rows"
          ]
        }
      ],
      "source": [
        "# Select the necessary columns\n",
        "\n",
        "df_meta = df_meta.select('asin', 'brand', 'category', 'title', 'price')\n",
        "df_meta.show()"
      ]
    },
    {
      "cell_type": "code",
      "execution_count": null,
      "id": "d8c14542",
      "metadata": {
        "id": "d8c14542",
        "outputId": "e60d3d8a-41ba-4603-b2bd-3c4383221788",
        "colab": {
          "referenced_widgets": [
            "55fd5724c1b046b98754fb8dc43dada8",
            ""
          ]
        }
      },
      "outputs": [
        {
          "data": {
            "application/vnd.jupyter.widget-view+json": {
              "model_id": "55fd5724c1b046b98754fb8dc43dada8",
              "version_major": 2,
              "version_minor": 0
            },
            "text/plain": [
              "VBox()"
            ]
          },
          "metadata": {},
          "output_type": "display_data"
        },
        {
          "data": {
            "application/vnd.jupyter.widget-view+json": {
              "model_id": "",
              "version_major": 2,
              "version_minor": 0
            },
            "text/plain": [
              "FloatProgress(value=0.0, bar_style='info', description='Progress:', layout=Layout(height='25px', width='50%'),…"
            ]
          },
          "metadata": {},
          "output_type": "display_data"
        }
      ],
      "source": [
        "# Join the two dataframes by performing an inner join on the 'asin' column\n",
        "\n",
        "df_join = df.join(df_meta, on = 'asin', how = 'inner')"
      ]
    },
    {
      "cell_type": "code",
      "execution_count": null,
      "id": "8f84f3bd",
      "metadata": {
        "scrolled": true,
        "id": "8f84f3bd",
        "outputId": "8e8bc7ce-06e4-478e-b3c2-d112e2b19805",
        "colab": {
          "referenced_widgets": [
            "f98cd5d59f7f4e77a99d827534a3bc7e",
            ""
          ]
        }
      },
      "outputs": [
        {
          "data": {
            "application/vnd.jupyter.widget-view+json": {
              "model_id": "f98cd5d59f7f4e77a99d827534a3bc7e",
              "version_major": 2,
              "version_minor": 0
            },
            "text/plain": [
              "VBox()"
            ]
          },
          "metadata": {},
          "output_type": "display_data"
        },
        {
          "data": {
            "application/vnd.jupyter.widget-view+json": {
              "model_id": "",
              "version_major": 2,
              "version_minor": 0
            },
            "text/plain": [
              "FloatProgress(value=0.0, bar_style='info', description='Progress:', layout=Layout(height='25px', width='50%'),…"
            ]
          },
          "metadata": {},
          "output_type": "display_data"
        },
        {
          "name": "stdout",
          "output_type": "stream",
          "text": [
            "+----------+-------+--------------------+--------------+--------------------+--------------------+----+---------------+--------------------+--------------------+-------+\n",
            "|      asin|overall|          reviewText|    reviewerID|        reviewerName|             summary|vote|          brand|            category|               title|  price|\n",
            "+----------+-------+--------------------+--------------+--------------------+--------------------+----+---------------+--------------------+--------------------+-------+\n",
            "|B013M85X1W|    3.0|Doesn't come with...| AIPIC5X32C8V1|          Eaking8714|       A Good Value.|   2|           AKDY|[Appliances, Rang...|AKDY 30&quot; Wal...| $16.32|\n",
            "|B00UI24740|    5.0|I love this. I bo...|A11I8A2FLLPH03|Da&#039;Tiana Galvan|Best I've had in ...|null|     Frigidaire|[Appliances, Laun...|Frigidaire FFLE40...|       |\n",
            "|B013M85X1W|    5.0|This hood looks g...|A3UNHU9NO9IHU7|                Nope|High end look at ...|null|           AKDY|[Appliances, Rang...|AKDY 30&quot; Wal...| $16.32|\n",
            "|B00JYLTZ6Q|    5.0|This is the 43920...|A28NBTRSWMGY21|          The Prybar|Took the \"thump\" out|null|      Whirlpool|[Appliances, Part...|4392065 New Oem F...| $24.93|\n",
            "|B00YD2VC8K|    1.0|Unfortunately, th...| AAN2Z0FPWYHH5|        Stephanie L.|         Didn't Work|null|UpStart Battery|[Appliances, Part...|2-Pack Replacemen...| $24.99|\n",
            "|B00E0CWGNS|    1.0|Did not have same...|A1FXDVZ7N869CE|         kevin mccoy|            One Star|null|     Frigidaire|[Appliances, Part...|Frigidaire 218859...| $21.10|\n",
            "|B0053Y2XC6|    1.0|Rubber was not st...|A1HKARKK0YQVGD|                  SS|Rubber was not st...|null|      Whirlpool|[Appliances, Part...|Whirlpool 6100380...| $18.08|\n",
            "|B00YD2VC8K|    1.0|Doesn't actually ...|A2CVI72BWRTQE1|          Green Mama|            One Star|null|UpStart Battery|[Appliances, Part...|2-Pack Replacemen...| $24.99|\n",
            "|B00AOG6CHA|    1.0|this did not work...|A26OEN82M74ZIE|        eric percell|this did not work...|null|             LG|[Appliances, Part...|LG Electronics EB...|$215.93|\n",
            "|B0093R625S|    1.0|Not used. wrong p...|A2ZBR96PB0AAW4|     Alison L Jordan|            One Star|null|             GE|[Appliances, Part...|GE WH12X10513 Run...| $25.04|\n",
            "|B00E0CWGNS|    1.0|This is not the c...|A32FLEUG50ZGTU|         Sittingduck|      not right part|null|     Frigidaire|[Appliances, Part...|Frigidaire 218859...| $21.10|\n",
            "|B00E0CWGNS|    1.0|The Part that was...|A26X6ME6AHS1Q6|                  RC|          Wrong Part|null|     Frigidaire|[Appliances, Part...|Frigidaire 218859...| $21.10|\n",
            "|B00E0CWGNS|    1.0|did not work for ...| AUD397NY6A31I|        Rickey Moore| Did not work for me|null|     Frigidaire|[Appliances, Part...|Frigidaire 218859...| $21.10|\n",
            "|B00E0CWGNS|    1.0|Didn't fit the pr...| A7TAHZXSLFN73|             Michael|            One Star|null|     Frigidaire|[Appliances, Part...|Frigidaire 218859...| $21.10|\n",
            "|B0053Y3B72|    1.0|It was way to sho...|A180A63YLDQI94|     JEFFERY  MCGHAN|           Too Short|null|     Frigidaire|[Appliances, Part...|Frigidaire 134051...| $30.18|\n",
            "|B00E0CWGNS|    1.0|This water fill v...|A3FJT9WP6XI0TQ|               steve|This water fill v...|null|     Frigidaire|[Appliances, Part...|Frigidaire 218859...| $21.10|\n",
            "|B00UI24740|    1.0|Broke after first...|A1Z2DRUQZARMY6|    Jean Marie Davis|Broke after first...|  34|     Frigidaire|[Appliances, Laun...|Frigidaire FFLE40...|       |\n",
            "|B0053Y3B72|    2.0|So tight I have n...|A1CBWYFT9J8EA5|            D. Davis|So tight I have n...|null|     Frigidaire|[Appliances, Part...|Frigidaire 134051...| $30.18|\n",
            "|B00E0CWGNS|    2.0|This product did ...| A1ABPFYI4RXT3|         kevin Fayad|This product did ...|null|     Frigidaire|[Appliances, Part...|Frigidaire 218859...| $21.10|\n",
            "|B00EP02WAC|    2.0|the stem broke be...| AJ7OKWG3WW6O4|        billy pinson|the stem broke be...|null|      Whirlpool|[Appliances, Part...|New Genuine OEM W...| $67.97|\n",
            "+----------+-------+--------------------+--------------+--------------------+--------------------+----+---------------+--------------------+--------------------+-------+\n",
            "only showing top 20 rows"
          ]
        }
      ],
      "source": [
        "# We can now view the two combined datasets so that the Appliances file now has the corresponding columns\n",
        "df_join.show()"
      ]
    },
    {
      "cell_type": "code",
      "execution_count": null,
      "id": "ddff0d85",
      "metadata": {
        "id": "ddff0d85",
        "outputId": "23a6ce34-cbe1-4247-95dd-7d2207824ce2",
        "colab": {
          "referenced_widgets": [
            "0dd782e0a6ff41b39430493f1badbe39",
            ""
          ]
        }
      },
      "outputs": [
        {
          "data": {
            "application/vnd.jupyter.widget-view+json": {
              "model_id": "0dd782e0a6ff41b39430493f1badbe39",
              "version_major": 2,
              "version_minor": 0
            },
            "text/plain": [
              "VBox()"
            ]
          },
          "metadata": {},
          "output_type": "display_data"
        },
        {
          "data": {
            "application/vnd.jupyter.widget-view+json": {
              "model_id": "",
              "version_major": 2,
              "version_minor": 0
            },
            "text/plain": [
              "FloatProgress(value=0.0, bar_style='info', description='Progress:', layout=Layout(height='25px', width='50%'),…"
            ]
          },
          "metadata": {},
          "output_type": "display_data"
        },
        {
          "name": "stdout",
          "output_type": "stream",
          "text": [
            "+----------+-------+--------------------+--------------+--------------------+---------------+--------------------+--------------------+-------+\n",
            "|      asin|overall|          reviewText|    reviewerID|        reviewerName|          brand|            category|               title|  price|\n",
            "+----------+-------+--------------------+--------------+--------------------+---------------+--------------------+--------------------+-------+\n",
            "|B013M85X1W|    3.0|Doesn't come with...| AIPIC5X32C8V1|          Eaking8714|           AKDY|[Appliances, Rang...|AKDY 30&quot; Wal...| $16.32|\n",
            "|B00UI24740|    5.0|I love this. I bo...|A11I8A2FLLPH03|Da&#039;Tiana Galvan|     Frigidaire|[Appliances, Laun...|Frigidaire FFLE40...|       |\n",
            "|B013M85X1W|    5.0|This hood looks g...|A3UNHU9NO9IHU7|                Nope|           AKDY|[Appliances, Rang...|AKDY 30&quot; Wal...| $16.32|\n",
            "|B00JYLTZ6Q|    5.0|This is the 43920...|A28NBTRSWMGY21|          The Prybar|      Whirlpool|[Appliances, Part...|4392065 New Oem F...| $24.93|\n",
            "|B00YD2VC8K|    1.0|Unfortunately, th...| AAN2Z0FPWYHH5|        Stephanie L.|UpStart Battery|[Appliances, Part...|2-Pack Replacemen...| $24.99|\n",
            "|B00E0CWGNS|    1.0|Did not have same...|A1FXDVZ7N869CE|         kevin mccoy|     Frigidaire|[Appliances, Part...|Frigidaire 218859...| $21.10|\n",
            "|B0053Y2XC6|    1.0|Rubber was not st...|A1HKARKK0YQVGD|                  SS|      Whirlpool|[Appliances, Part...|Whirlpool 6100380...| $18.08|\n",
            "|B00YD2VC8K|    1.0|Doesn't actually ...|A2CVI72BWRTQE1|          Green Mama|UpStart Battery|[Appliances, Part...|2-Pack Replacemen...| $24.99|\n",
            "|B00AOG6CHA|    1.0|this did not work...|A26OEN82M74ZIE|        eric percell|             LG|[Appliances, Part...|LG Electronics EB...|$215.93|\n",
            "|B0093R625S|    1.0|Not used. wrong p...|A2ZBR96PB0AAW4|     Alison L Jordan|             GE|[Appliances, Part...|GE WH12X10513 Run...| $25.04|\n",
            "|B00E0CWGNS|    1.0|This is not the c...|A32FLEUG50ZGTU|         Sittingduck|     Frigidaire|[Appliances, Part...|Frigidaire 218859...| $21.10|\n",
            "|B00E0CWGNS|    1.0|The Part that was...|A26X6ME6AHS1Q6|                  RC|     Frigidaire|[Appliances, Part...|Frigidaire 218859...| $21.10|\n",
            "|B00E0CWGNS|    1.0|did not work for ...| AUD397NY6A31I|        Rickey Moore|     Frigidaire|[Appliances, Part...|Frigidaire 218859...| $21.10|\n",
            "|B00E0CWGNS|    1.0|Didn't fit the pr...| A7TAHZXSLFN73|             Michael|     Frigidaire|[Appliances, Part...|Frigidaire 218859...| $21.10|\n",
            "|B0053Y3B72|    1.0|It was way to sho...|A180A63YLDQI94|     JEFFERY  MCGHAN|     Frigidaire|[Appliances, Part...|Frigidaire 134051...| $30.18|\n",
            "|B00E0CWGNS|    1.0|This water fill v...|A3FJT9WP6XI0TQ|               steve|     Frigidaire|[Appliances, Part...|Frigidaire 218859...| $21.10|\n",
            "|B00UI24740|    1.0|Broke after first...|A1Z2DRUQZARMY6|    Jean Marie Davis|     Frigidaire|[Appliances, Laun...|Frigidaire FFLE40...|       |\n",
            "|B0053Y3B72|    2.0|So tight I have n...|A1CBWYFT9J8EA5|            D. Davis|     Frigidaire|[Appliances, Part...|Frigidaire 134051...| $30.18|\n",
            "|B00E0CWGNS|    2.0|This product did ...| A1ABPFYI4RXT3|         kevin Fayad|     Frigidaire|[Appliances, Part...|Frigidaire 218859...| $21.10|\n",
            "|B00EP02WAC|    2.0|the stem broke be...| AJ7OKWG3WW6O4|        billy pinson|      Whirlpool|[Appliances, Part...|New Genuine OEM W...| $67.97|\n",
            "+----------+-------+--------------------+--------------+--------------------+---------------+--------------------+--------------------+-------+\n",
            "only showing top 20 rows"
          ]
        }
      ],
      "source": [
        "df_join = df_join.select('asin', 'overall', 'reviewText', 'reviewerID', 'reviewerName', 'brand', 'category', 'title', 'price')\n",
        "df_join.show()"
      ]
    },
    {
      "cell_type": "code",
      "execution_count": null,
      "id": "2d25bd5c",
      "metadata": {
        "id": "2d25bd5c",
        "outputId": "52a6cc98-e527-4f63-de6b-e75903ba3ee3",
        "colab": {
          "referenced_widgets": [
            "a7e45e6408de461aa884b47fb3ebcd62",
            ""
          ]
        }
      },
      "outputs": [
        {
          "data": {
            "application/vnd.jupyter.widget-view+json": {
              "model_id": "a7e45e6408de461aa884b47fb3ebcd62",
              "version_major": 2,
              "version_minor": 0
            },
            "text/plain": [
              "VBox()"
            ]
          },
          "metadata": {},
          "output_type": "display_data"
        },
        {
          "data": {
            "application/vnd.jupyter.widget-view+json": {
              "model_id": "",
              "version_major": 2,
              "version_minor": 0
            },
            "text/plain": [
              "FloatProgress(value=0.0, bar_style='info', description='Progress:', layout=Layout(height='25px', width='50%'),…"
            ]
          },
          "metadata": {},
          "output_type": "display_data"
        },
        {
          "name": "stdout",
          "output_type": "stream",
          "text": [
            "+----------+------+--------------------+--------------+--------------------+---------------+--------------------+--------------------+-------+\n",
            "|      asin|rating|              review|   customer_ID|       customer_name|          brand|            category|        product_name|  price|\n",
            "+----------+------+--------------------+--------------+--------------------+---------------+--------------------+--------------------+-------+\n",
            "|B013M85X1W|   3.0|Doesn't come with...| AIPIC5X32C8V1|          Eaking8714|           AKDY|[Appliances, Rang...|AKDY 30&quot; Wal...| $16.32|\n",
            "|B00UI24740|   5.0|I love this. I bo...|A11I8A2FLLPH03|Da&#039;Tiana Galvan|     Frigidaire|[Appliances, Laun...|Frigidaire FFLE40...|       |\n",
            "|B013M85X1W|   5.0|This hood looks g...|A3UNHU9NO9IHU7|                Nope|           AKDY|[Appliances, Rang...|AKDY 30&quot; Wal...| $16.32|\n",
            "|B00JYLTZ6Q|   5.0|This is the 43920...|A28NBTRSWMGY21|          The Prybar|      Whirlpool|[Appliances, Part...|4392065 New Oem F...| $24.93|\n",
            "|B00YD2VC8K|   1.0|Unfortunately, th...| AAN2Z0FPWYHH5|        Stephanie L.|UpStart Battery|[Appliances, Part...|2-Pack Replacemen...| $24.99|\n",
            "|B00E0CWGNS|   1.0|Did not have same...|A1FXDVZ7N869CE|         kevin mccoy|     Frigidaire|[Appliances, Part...|Frigidaire 218859...| $21.10|\n",
            "|B0053Y2XC6|   1.0|Rubber was not st...|A1HKARKK0YQVGD|                  SS|      Whirlpool|[Appliances, Part...|Whirlpool 6100380...| $18.08|\n",
            "|B00YD2VC8K|   1.0|Doesn't actually ...|A2CVI72BWRTQE1|          Green Mama|UpStart Battery|[Appliances, Part...|2-Pack Replacemen...| $24.99|\n",
            "|B00AOG6CHA|   1.0|this did not work...|A26OEN82M74ZIE|        eric percell|             LG|[Appliances, Part...|LG Electronics EB...|$215.93|\n",
            "|B0093R625S|   1.0|Not used. wrong p...|A2ZBR96PB0AAW4|     Alison L Jordan|             GE|[Appliances, Part...|GE WH12X10513 Run...| $25.04|\n",
            "|B00E0CWGNS|   1.0|This is not the c...|A32FLEUG50ZGTU|         Sittingduck|     Frigidaire|[Appliances, Part...|Frigidaire 218859...| $21.10|\n",
            "|B00E0CWGNS|   1.0|The Part that was...|A26X6ME6AHS1Q6|                  RC|     Frigidaire|[Appliances, Part...|Frigidaire 218859...| $21.10|\n",
            "|B00E0CWGNS|   1.0|did not work for ...| AUD397NY6A31I|        Rickey Moore|     Frigidaire|[Appliances, Part...|Frigidaire 218859...| $21.10|\n",
            "|B00E0CWGNS|   1.0|Didn't fit the pr...| A7TAHZXSLFN73|             Michael|     Frigidaire|[Appliances, Part...|Frigidaire 218859...| $21.10|\n",
            "|B0053Y3B72|   1.0|It was way to sho...|A180A63YLDQI94|     JEFFERY  MCGHAN|     Frigidaire|[Appliances, Part...|Frigidaire 134051...| $30.18|\n",
            "|B00E0CWGNS|   1.0|This water fill v...|A3FJT9WP6XI0TQ|               steve|     Frigidaire|[Appliances, Part...|Frigidaire 218859...| $21.10|\n",
            "|B00UI24740|   1.0|Broke after first...|A1Z2DRUQZARMY6|    Jean Marie Davis|     Frigidaire|[Appliances, Laun...|Frigidaire FFLE40...|       |\n",
            "|B0053Y3B72|   2.0|So tight I have n...|A1CBWYFT9J8EA5|            D. Davis|     Frigidaire|[Appliances, Part...|Frigidaire 134051...| $30.18|\n",
            "|B00E0CWGNS|   2.0|This product did ...| A1ABPFYI4RXT3|         kevin Fayad|     Frigidaire|[Appliances, Part...|Frigidaire 218859...| $21.10|\n",
            "|B00EP02WAC|   2.0|the stem broke be...| AJ7OKWG3WW6O4|        billy pinson|      Whirlpool|[Appliances, Part...|New Genuine OEM W...| $67.97|\n",
            "+----------+------+--------------------+--------------+--------------------+---------------+--------------------+--------------------+-------+\n",
            "only showing top 20 rows"
          ]
        }
      ],
      "source": [
        "# Rename columns\n",
        "\n",
        "df_join = df_join.withColumnRenamed('overall', 'rating')\\\n",
        ".withColumnRenamed('reviewText', 'review')\\\n",
        ".withColumnRenamed('reviewerID', 'customer_ID')\\\n",
        ".withColumnRenamed('reviewerName', 'customer_name')\\\n",
        ".withColumnRenamed('title', 'product_name')\n",
        "\n",
        "df_join.show()"
      ]
    },
    {
      "cell_type": "code",
      "execution_count": null,
      "id": "bbc7ad3a",
      "metadata": {
        "scrolled": false,
        "id": "bbc7ad3a",
        "outputId": "9a64eedd-029d-4731-fb53-627b9a8c4ae6",
        "colab": {
          "referenced_widgets": [
            "01dd49e7e0b54a4db5c1f49f86e4a325",
            ""
          ]
        }
      },
      "outputs": [
        {
          "data": {
            "application/vnd.jupyter.widget-view+json": {
              "model_id": "01dd49e7e0b54a4db5c1f49f86e4a325",
              "version_major": 2,
              "version_minor": 0
            },
            "text/plain": [
              "VBox()"
            ]
          },
          "metadata": {},
          "output_type": "display_data"
        },
        {
          "data": {
            "application/vnd.jupyter.widget-view+json": {
              "model_id": "",
              "version_major": 2,
              "version_minor": 0
            },
            "text/plain": [
              "FloatProgress(value=0.0, bar_style='info', description='Progress:', layout=Layout(height='25px', width='50%'),…"
            ]
          },
          "metadata": {},
          "output_type": "display_data"
        },
        {
          "name": "stdout",
          "output_type": "stream",
          "text": [
            "+----------+------+--------------------+--------------+--------------------+---------------+--------------------+--------------------+-------+\n",
            "|      asin|rating|              review|   customer_ID|       customer_name|          brand|            category|        product_name|  price|\n",
            "+----------+------+--------------------+--------------+--------------------+---------------+--------------------+--------------------+-------+\n",
            "|B013M85X1W|   3.0|Doesn't come with...| AIPIC5X32C8V1|          Eaking8714|           AKDY|[Appliances, Rang...|AKDY 30&quot; Wal...| $16.32|\n",
            "|B00UI24740|   5.0|I love this. I bo...|A11I8A2FLLPH03|Da&#039;Tiana Galvan|     Frigidaire|[Appliances, Laun...|Frigidaire FFLE40...|       |\n",
            "|B013M85X1W|   5.0|This hood looks g...|A3UNHU9NO9IHU7|                Nope|           AKDY|[Appliances, Rang...|AKDY 30&quot; Wal...| $16.32|\n",
            "|B00JYLTZ6Q|   5.0|This is the 43920...|A28NBTRSWMGY21|          The Prybar|      Whirlpool|[Appliances, Part...|4392065 New Oem F...| $24.93|\n",
            "|B00YD2VC8K|   1.0|Unfortunately, th...| AAN2Z0FPWYHH5|        Stephanie L.|UpStart Battery|[Appliances, Part...|2-Pack Replacemen...| $24.99|\n",
            "|B00E0CWGNS|   1.0|Did not have same...|A1FXDVZ7N869CE|         kevin mccoy|     Frigidaire|[Appliances, Part...|Frigidaire 218859...| $21.10|\n",
            "|B0053Y2XC6|   1.0|Rubber was not st...|A1HKARKK0YQVGD|                  SS|      Whirlpool|[Appliances, Part...|Whirlpool 6100380...| $18.08|\n",
            "|B00YD2VC8K|   1.0|Doesn't actually ...|A2CVI72BWRTQE1|          Green Mama|UpStart Battery|[Appliances, Part...|2-Pack Replacemen...| $24.99|\n",
            "|B00AOG6CHA|   1.0|this did not work...|A26OEN82M74ZIE|        eric percell|             LG|[Appliances, Part...|LG Electronics EB...|$215.93|\n",
            "|B0093R625S|   1.0|Not used. wrong p...|A2ZBR96PB0AAW4|     Alison L Jordan|             GE|[Appliances, Part...|GE WH12X10513 Run...| $25.04|\n",
            "|B00E0CWGNS|   1.0|This is not the c...|A32FLEUG50ZGTU|         Sittingduck|     Frigidaire|[Appliances, Part...|Frigidaire 218859...| $21.10|\n",
            "|B00E0CWGNS|   1.0|The Part that was...|A26X6ME6AHS1Q6|                  RC|     Frigidaire|[Appliances, Part...|Frigidaire 218859...| $21.10|\n",
            "|B00E0CWGNS|   1.0|did not work for ...| AUD397NY6A31I|        Rickey Moore|     Frigidaire|[Appliances, Part...|Frigidaire 218859...| $21.10|\n",
            "|B00E0CWGNS|   1.0|Didn't fit the pr...| A7TAHZXSLFN73|             Michael|     Frigidaire|[Appliances, Part...|Frigidaire 218859...| $21.10|\n",
            "|B0053Y3B72|   1.0|It was way to sho...|A180A63YLDQI94|     JEFFERY  MCGHAN|     Frigidaire|[Appliances, Part...|Frigidaire 134051...| $30.18|\n",
            "|B00E0CWGNS|   1.0|This water fill v...|A3FJT9WP6XI0TQ|               steve|     Frigidaire|[Appliances, Part...|Frigidaire 218859...| $21.10|\n",
            "|B00UI24740|   1.0|Broke after first...|A1Z2DRUQZARMY6|    Jean Marie Davis|     Frigidaire|[Appliances, Laun...|Frigidaire FFLE40...|       |\n",
            "|B0053Y3B72|   2.0|So tight I have n...|A1CBWYFT9J8EA5|            D. Davis|     Frigidaire|[Appliances, Part...|Frigidaire 134051...| $30.18|\n",
            "|B00E0CWGNS|   2.0|This product did ...| A1ABPFYI4RXT3|         kevin Fayad|     Frigidaire|[Appliances, Part...|Frigidaire 218859...| $21.10|\n",
            "|B00EP02WAC|   2.0|the stem broke be...| AJ7OKWG3WW6O4|        billy pinson|      Whirlpool|[Appliances, Part...|New Genuine OEM W...| $67.97|\n",
            "+----------+------+--------------------+--------------+--------------------+---------------+--------------------+--------------------+-------+\n",
            "only showing top 20 rows"
          ]
        }
      ],
      "source": [
        "# Double check for dup\n",
        "# Create dup indicator and ran it for each review\n",
        "# If it exists, dup indictor will return true. Else, return false\n",
        "\n",
        "df_join.join(df_join.groupBy(df_join.columns).agg((F.count('*') > 1).cast('string').alias('Duplicate_indicator')),\n",
        "                       on = df_join.columns, how = 'inner')\n",
        "df_join.show()"
      ]
    },
    {
      "cell_type": "code",
      "execution_count": null,
      "id": "d110033b",
      "metadata": {
        "id": "d110033b",
        "outputId": "34c8cf2d-4c70-4cef-8aae-6c73078283a9",
        "colab": {
          "referenced_widgets": [
            "b14c576a254045ec909e46b217a92ecd",
            ""
          ]
        }
      },
      "outputs": [
        {
          "data": {
            "application/vnd.jupyter.widget-view+json": {
              "model_id": "b14c576a254045ec909e46b217a92ecd",
              "version_major": 2,
              "version_minor": 0
            },
            "text/plain": [
              "VBox()"
            ]
          },
          "metadata": {},
          "output_type": "display_data"
        },
        {
          "data": {
            "application/vnd.jupyter.widget-view+json": {
              "model_id": "",
              "version_major": 2,
              "version_minor": 0
            },
            "text/plain": [
              "FloatProgress(value=0.0, bar_style='info', description='Progress:', layout=Layout(height='25px', width='50%'),…"
            ]
          },
          "metadata": {},
          "output_type": "display_data"
        }
      ],
      "source": [
        "# Drop any duplicates\n",
        "\n",
        "df_join = df_join.dropDuplicates()"
      ]
    },
    {
      "cell_type": "code",
      "execution_count": null,
      "id": "44e68960",
      "metadata": {
        "scrolled": true,
        "id": "44e68960",
        "outputId": "d867cdce-2f68-4cb4-bf0d-59d5cd843cbf",
        "colab": {
          "referenced_widgets": [
            "7dbba8cdf8984c88b864010c1f98eea2",
            ""
          ]
        }
      },
      "outputs": [
        {
          "data": {
            "application/vnd.jupyter.widget-view+json": {
              "model_id": "7dbba8cdf8984c88b864010c1f98eea2",
              "version_major": 2,
              "version_minor": 0
            },
            "text/plain": [
              "VBox()"
            ]
          },
          "metadata": {},
          "output_type": "display_data"
        },
        {
          "data": {
            "application/vnd.jupyter.widget-view+json": {
              "model_id": "",
              "version_major": 2,
              "version_minor": 0
            },
            "text/plain": [
              "FloatProgress(value=0.0, bar_style='info', description='Progress:', layout=Layout(height='25px', width='50%'),…"
            ]
          },
          "metadata": {},
          "output_type": "display_data"
        }
      ],
      "source": [
        "# Drop the null values, only want reviews that contain written feedback.\n",
        "\n",
        "df_join = df_join.na.drop()"
      ]
    },
    {
      "cell_type": "code",
      "execution_count": null,
      "id": "d67eaa9f",
      "metadata": {
        "id": "d67eaa9f",
        "outputId": "3e8df027-dcce-4b9d-8527-24a531693bff",
        "colab": {
          "referenced_widgets": [
            "0904c72f9c2b44e4b0a32592e46e1e8e",
            ""
          ]
        }
      },
      "outputs": [
        {
          "data": {
            "application/vnd.jupyter.widget-view+json": {
              "model_id": "0904c72f9c2b44e4b0a32592e46e1e8e",
              "version_major": 2,
              "version_minor": 0
            },
            "text/plain": [
              "VBox()"
            ]
          },
          "metadata": {},
          "output_type": "display_data"
        },
        {
          "data": {
            "application/vnd.jupyter.widget-view+json": {
              "model_id": "",
              "version_major": 2,
              "version_minor": 0
            },
            "text/plain": [
              "FloatProgress(value=0.0, bar_style='info', description='Progress:', layout=Layout(height='25px', width='50%'),…"
            ]
          },
          "metadata": {},
          "output_type": "display_data"
        },
        {
          "name": "stdout",
          "output_type": "stream",
          "text": [
            "+----+------+------+-----------+-------------+-----+--------+------------+-----+\n",
            "|asin|rating|review|customer_ID|customer_name|brand|category|product_name|price|\n",
            "+----+------+------+-----------+-------------+-----+--------+------------+-----+\n",
            "+----+------+------+-----------+-------------+-----+--------+------------+-----+"
          ]
        }
      ],
      "source": [
        "# Check if any null values remaining after dropping, find that there are none\n",
        "\n",
        "df_join.where(col('review').isNull()).show()"
      ]
    },
    {
      "cell_type": "code",
      "execution_count": null,
      "id": "024f2bd5",
      "metadata": {
        "id": "024f2bd5",
        "outputId": "329ddad3-f449-48d6-91e4-e99479af3c8a",
        "colab": {
          "referenced_widgets": [
            "00335b210ec842928ae57e641ea92781",
            ""
          ]
        }
      },
      "outputs": [
        {
          "data": {
            "application/vnd.jupyter.widget-view+json": {
              "model_id": "00335b210ec842928ae57e641ea92781",
              "version_major": 2,
              "version_minor": 0
            },
            "text/plain": [
              "VBox()"
            ]
          },
          "metadata": {},
          "output_type": "display_data"
        },
        {
          "data": {
            "application/vnd.jupyter.widget-view+json": {
              "model_id": "",
              "version_major": 2,
              "version_minor": 0
            },
            "text/plain": [
              "FloatProgress(value=0.0, bar_style='info', description='Progress:', layout=Layout(height='25px', width='50%'),…"
            ]
          },
          "metadata": {},
          "output_type": "display_data"
        },
        {
          "name": "stdout",
          "output_type": "stream",
          "text": [
            "+----------+------+--------------------+--------------+--------------------+---------------+--------------------+--------------------+-------+\n",
            "|      asin|rating|              review|   customer_ID|       customer_name|          brand|            category|        product_name|  price|\n",
            "+----------+------+--------------------+--------------+--------------------+---------------+--------------------+--------------------+-------+\n",
            "|B013M85X1W|     3|Doesn't come with...| AIPIC5X32C8V1|          Eaking8714|           AKDY|[Appliances, Rang...|AKDY 30&quot; Wal...| $16.32|\n",
            "|B00UI24740|     5|I love this. I bo...|A11I8A2FLLPH03|Da&#039;Tiana Galvan|     Frigidaire|[Appliances, Laun...|Frigidaire FFLE40...|       |\n",
            "|B013M85X1W|     5|This hood looks g...|A3UNHU9NO9IHU7|                Nope|           AKDY|[Appliances, Rang...|AKDY 30&quot; Wal...| $16.32|\n",
            "|B00JYLTZ6Q|     5|This is the 43920...|A28NBTRSWMGY21|          The Prybar|      Whirlpool|[Appliances, Part...|4392065 New Oem F...| $24.93|\n",
            "|B00YD2VC8K|     1|Unfortunately, th...| AAN2Z0FPWYHH5|        Stephanie L.|UpStart Battery|[Appliances, Part...|2-Pack Replacemen...| $24.99|\n",
            "|B00E0CWGNS|     1|Did not have same...|A1FXDVZ7N869CE|         kevin mccoy|     Frigidaire|[Appliances, Part...|Frigidaire 218859...| $21.10|\n",
            "|B0053Y2XC6|     1|Rubber was not st...|A1HKARKK0YQVGD|                  SS|      Whirlpool|[Appliances, Part...|Whirlpool 6100380...| $18.08|\n",
            "|B00YD2VC8K|     1|Doesn't actually ...|A2CVI72BWRTQE1|          Green Mama|UpStart Battery|[Appliances, Part...|2-Pack Replacemen...| $24.99|\n",
            "|B00AOG6CHA|     1|this did not work...|A26OEN82M74ZIE|        eric percell|             LG|[Appliances, Part...|LG Electronics EB...|$215.93|\n",
            "|B0093R625S|     1|Not used. wrong p...|A2ZBR96PB0AAW4|     Alison L Jordan|             GE|[Appliances, Part...|GE WH12X10513 Run...| $25.04|\n",
            "|B00E0CWGNS|     1|This is not the c...|A32FLEUG50ZGTU|         Sittingduck|     Frigidaire|[Appliances, Part...|Frigidaire 218859...| $21.10|\n",
            "|B00E0CWGNS|     1|The Part that was...|A26X6ME6AHS1Q6|                  RC|     Frigidaire|[Appliances, Part...|Frigidaire 218859...| $21.10|\n",
            "|B00E0CWGNS|     1|did not work for ...| AUD397NY6A31I|        Rickey Moore|     Frigidaire|[Appliances, Part...|Frigidaire 218859...| $21.10|\n",
            "|B00E0CWGNS|     1|Didn't fit the pr...| A7TAHZXSLFN73|             Michael|     Frigidaire|[Appliances, Part...|Frigidaire 218859...| $21.10|\n",
            "|B0053Y3B72|     1|It was way to sho...|A180A63YLDQI94|     JEFFERY  MCGHAN|     Frigidaire|[Appliances, Part...|Frigidaire 134051...| $30.18|\n",
            "|B00E0CWGNS|     1|This water fill v...|A3FJT9WP6XI0TQ|               steve|     Frigidaire|[Appliances, Part...|Frigidaire 218859...| $21.10|\n",
            "|B00UI24740|     1|Broke after first...|A1Z2DRUQZARMY6|    Jean Marie Davis|     Frigidaire|[Appliances, Laun...|Frigidaire FFLE40...|       |\n",
            "|B0053Y3B72|     2|So tight I have n...|A1CBWYFT9J8EA5|            D. Davis|     Frigidaire|[Appliances, Part...|Frigidaire 134051...| $30.18|\n",
            "|B00E0CWGNS|     2|This product did ...| A1ABPFYI4RXT3|         kevin Fayad|     Frigidaire|[Appliances, Part...|Frigidaire 218859...| $21.10|\n",
            "|B00EP02WAC|     2|the stem broke be...| AJ7OKWG3WW6O4|        billy pinson|      Whirlpool|[Appliances, Part...|New Genuine OEM W...| $67.97|\n",
            "+----------+------+--------------------+--------------+--------------------+---------------+--------------------+--------------------+-------+\n",
            "only showing top 20 rows"
          ]
        }
      ],
      "source": [
        "# Convert rating to int\n",
        "\n",
        "df_join = df_join.withColumn('rating', col('rating').cast('int'))\n",
        "df_join.show()"
      ]
    },
    {
      "cell_type": "code",
      "execution_count": null,
      "id": "183988e7",
      "metadata": {
        "id": "183988e7",
        "outputId": "36dea21e-fb11-4ba6-c450-3ba0ded43051",
        "colab": {
          "referenced_widgets": [
            "5af1e0a12fe44545a2e4943cd48d871d",
            ""
          ]
        }
      },
      "outputs": [
        {
          "data": {
            "application/vnd.jupyter.widget-view+json": {
              "model_id": "5af1e0a12fe44545a2e4943cd48d871d",
              "version_major": 2,
              "version_minor": 0
            },
            "text/plain": [
              "VBox()"
            ]
          },
          "metadata": {},
          "output_type": "display_data"
        },
        {
          "data": {
            "application/vnd.jupyter.widget-view+json": {
              "model_id": "",
              "version_major": 2,
              "version_minor": 0
            },
            "text/plain": [
              "FloatProgress(value=0.0, bar_style='info', description='Progress:', layout=Layout(height='25px', width='50%'),…"
            ]
          },
          "metadata": {},
          "output_type": "display_data"
        },
        {
          "name": "stdout",
          "output_type": "stream",
          "text": [
            "root\n",
            " |-- asin: string (nullable = true)\n",
            " |-- rating: integer (nullable = true)\n",
            " |-- review: string (nullable = true)\n",
            " |-- customer_ID: string (nullable = true)\n",
            " |-- customer_name: string (nullable = true)\n",
            " |-- brand: string (nullable = true)\n",
            " |-- category: array (nullable = true)\n",
            " |    |-- element: string (containsNull = true)\n",
            " |-- product_name: string (nullable = true)\n",
            " |-- price: string (nullable = true)"
          ]
        }
      ],
      "source": [
        "# Was having issues sorting count by category, need to change the column to string\n",
        "\n",
        "df_join.printSchema()"
      ]
    },
    {
      "cell_type": "code",
      "execution_count": null,
      "id": "8598ddce",
      "metadata": {
        "id": "8598ddce",
        "outputId": "a0da1005-b680-46aa-8e2c-ca339cad999a",
        "colab": {
          "referenced_widgets": [
            "021a2501d3964448ae5b8b6d34f5cff2",
            ""
          ]
        }
      },
      "outputs": [
        {
          "data": {
            "application/vnd.jupyter.widget-view+json": {
              "model_id": "021a2501d3964448ae5b8b6d34f5cff2",
              "version_major": 2,
              "version_minor": 0
            },
            "text/plain": [
              "VBox()"
            ]
          },
          "metadata": {},
          "output_type": "display_data"
        },
        {
          "data": {
            "application/vnd.jupyter.widget-view+json": {
              "model_id": "",
              "version_major": 2,
              "version_minor": 0
            },
            "text/plain": [
              "FloatProgress(value=0.0, bar_style='info', description='Progress:', layout=Layout(height='25px', width='50%'),…"
            ]
          },
          "metadata": {},
          "output_type": "display_data"
        }
      ],
      "source": [
        "# Changed from array to string in order to sort by most popular appliance with a word count\n",
        "\n",
        "df_join = df_join.withColumn(\"category\", concat_ws(\", \", \"category\"))"
      ]
    },
    {
      "cell_type": "code",
      "execution_count": null,
      "id": "faac9c02",
      "metadata": {
        "id": "faac9c02",
        "outputId": "16596952-0119-43b5-a259-81a38e0ee13a",
        "colab": {
          "referenced_widgets": [
            "4f3544c213f24349b44eb92704a2aae3",
            ""
          ]
        }
      },
      "outputs": [
        {
          "data": {
            "application/vnd.jupyter.widget-view+json": {
              "model_id": "4f3544c213f24349b44eb92704a2aae3",
              "version_major": 2,
              "version_minor": 0
            },
            "text/plain": [
              "VBox()"
            ]
          },
          "metadata": {},
          "output_type": "display_data"
        },
        {
          "data": {
            "application/vnd.jupyter.widget-view+json": {
              "model_id": "",
              "version_major": 2,
              "version_minor": 0
            },
            "text/plain": [
              "FloatProgress(value=0.0, bar_style='info', description='Progress:', layout=Layout(height='25px', width='50%'),…"
            ]
          },
          "metadata": {},
          "output_type": "display_data"
        },
        {
          "name": "stdout",
          "output_type": "stream",
          "text": [
            "+--------------------+------+\n",
            "|            category| count|\n",
            "+--------------------+------+\n",
            "|          Appliances|581103|\n",
            "| Parts & Accessories|487767|\n",
            "|Refrigerator Part...|192325|\n",
            "|       Water Filters|127114|\n",
            "|Dryer Parts & Acc...| 65393|\n",
            "|Washer Parts & Ac...| 49518|\n",
            "|   Replacement Parts| 43088|\n",
            "|Range Parts & Acc...| 38432|\n",
            "|       Refrigerators| 38369|\n",
            "|Humidifier Parts ...| 36747|\n",
            "+--------------------+------+\n",
            "only showing top 10 rows"
          ]
        }
      ],
      "source": [
        "# Want to narrow appliances down to one specific category, looking for a popular item\n",
        "# Split the words to count each seperately, explode to create row for each, and count\n",
        "\n",
        "df_split = df_join.select(split(df_join.category, \",\\s*\").alias(\"category\"))\n",
        "\n",
        "df_explode = df_split.select(explode(df_split.category).alias(\"category\"))\n",
        "\n",
        "df_count = df_explode.groupBy(\"category\").count().orderBy(\"count\", ascending=False)\n",
        "df_count.show(10)"
      ]
    },
    {
      "cell_type": "code",
      "execution_count": null,
      "id": "73fe0e72",
      "metadata": {
        "id": "73fe0e72",
        "outputId": "e898b0c2-1588-44fe-c1bf-247113af0920",
        "colab": {
          "referenced_widgets": [
            "efd801950a7c44e89479bc5c3e49e9a9",
            ""
          ]
        }
      },
      "outputs": [
        {
          "data": {
            "application/vnd.jupyter.widget-view+json": {
              "model_id": "efd801950a7c44e89479bc5c3e49e9a9",
              "version_major": 2,
              "version_minor": 0
            },
            "text/plain": [
              "VBox()"
            ]
          },
          "metadata": {},
          "output_type": "display_data"
        },
        {
          "data": {
            "application/vnd.jupyter.widget-view+json": {
              "model_id": "",
              "version_major": 2,
              "version_minor": 0
            },
            "text/plain": [
              "FloatProgress(value=0.0, bar_style='info', description='Progress:', layout=Layout(height='25px', width='50%'),…"
            ]
          },
          "metadata": {},
          "output_type": "display_data"
        },
        {
          "name": "stdout",
          "output_type": "stream",
          "text": [
            "+----------+------+--------------------+--------------+-----------------+---------------+--------------------+--------------------+------+\n",
            "|      asin|rating|              review|   customer_ID|    customer_name|          brand|            category|        product_name| price|\n",
            "+----------+------+--------------------+--------------+-----------------+---------------+--------------------+--------------------+------+\n",
            "|B00YD2VC8K|     1|Unfortunately, th...| AAN2Z0FPWYHH5|     Stephanie L.|UpStart Battery|Appliances, Parts...|2-Pack Replacemen...|$24.99|\n",
            "|B00YD2VC8K|     1|Doesn't actually ...|A2CVI72BWRTQE1|       Green Mama|UpStart Battery|Appliances, Parts...|2-Pack Replacemen...|$24.99|\n",
            "|B00J4MTGGE|     5|Looks awesome, on...|A1V8TTHX9NGEV6|           Conner|       ICEDADDY|Appliances, Parts...|ICEDADDY Refriger...| $0.91|\n",
            "|B00J4MTGGE|     2|These say compati...|A3G9WZEOJIW6EF|              Raz|       ICEDADDY|Appliances, Parts...|ICEDADDY Refriger...| $0.91|\n",
            "|B016NCT8DI|     2|Made my ice cubes...|A1PAMUKF5TB9QX|    Crossdrawjohn|    Denali Pure|Appliances, Parts...|2-Pack Replacemen...|$26.99|\n",
            "|B00J4MTGGE|     2|The quality of th...|A2Y0ZQKTHO8DYV|  LightningBourne|       ICEDADDY|Appliances, Parts...|ICEDADDY Refriger...| $0.91|\n",
            "|B00J4MTGGE|     3|Really one side o...|A1FA58KTDMFZC0|    David R Tyson|       ICEDADDY|Appliances, Parts...|ICEDADDY Refriger...| $0.91|\n",
            "|B00J4MTGGE|     3|Thought this woul...|A11WE34OOZ8QN8| Zebra_Specialist|       ICEDADDY|Appliances, Parts...|ICEDADDY Refriger...| $0.91|\n",
            "|B00J4MTGGE|     3|The patch was mad...| AYU9KZJC44WBT|          flr1964|       ICEDADDY|Appliances, Parts...|ICEDADDY Refriger...| $0.91|\n",
            "|B00YD36RQG|     1|Filters fit the A...|A2B77BIQAU78UG|Brian E Schiessle|UpStart Battery|Appliances, Parts...|3-Pack Replacemen...|$39.99|\n",
            "|B00YD36RQG|     1|Made the water ta...|A3FG5QC85QGC77|         Mary  D.|UpStart Battery|Appliances, Parts...|3-Pack Replacemen...|$39.99|\n",
            "|B00YD36RQG|     2|Water does not ta...|A2RNEM77P16VQ9|        lilroxy17|UpStart Battery|Appliances, Parts...|3-Pack Replacemen...|$39.99|\n",
            "|B01G4T47ZO|     5|Fast flow, size i...|A2UJ20PPDQ4BN8|            T. Lu|     AQUA CREST|Appliances, Parts...|AQUACREST Replace...|$14.99|\n",
            "|B01G4T47ZO|     1|Probably one of t...| A4GYFAFMTQ0UT|           isingh|     AQUA CREST|Appliances, Parts...|AQUACREST Replace...|$14.99|\n",
            "|B01CULFNE4|     1|This filter does ...| A7ZT4XB823876|      Sangwoo Kim|     Aqua Fresh|Appliances, Parts...|Aqua Fresh WF278 ...|$24.21|\n",
            "|B01G4T47ZO|     1|Last about a mont...| AAROAMKO96AQP|          MareToo|     AQUA CREST|Appliances, Parts...|AQUACREST Replace...|$14.99|\n",
            "|B01G4T47ZO|     1|  not the right ones|A12BYV7IXYUDTV|    donald tucker|     AQUA CREST|Appliances, Parts...|AQUACREST Replace...|$14.99|\n",
            "|B01G4T47ZO|     1|The price was rig...|A2LRPY11FUXI6Y|           Nanaks|     AQUA CREST|Appliances, Parts...|AQUACREST Replace...|$14.99|\n",
            "|B01CULFNE4|     1|Do not buy this f...|  A16IHEYTR8J6|         Jerry Mc|     Aqua Fresh|Appliances, Parts...|Aqua Fresh WF278 ...|$24.21|\n",
            "|B01CULFNE4|     1|Water flow is muc...| A9GSUWU40BS3B|          Lloyd_S|     Aqua Fresh|Appliances, Parts...|Aqua Fresh WF278 ...|$24.21|\n",
            "+----------+------+--------------------+--------------+-----------------+---------------+--------------------+--------------------+------+\n",
            "only showing top 20 rows"
          ]
        }
      ],
      "source": [
        "# Filter the data so it only contains products related to water filters\n",
        "\n",
        "df_sorted = df_join.filter(array_contains(split(df_join.category, \", \"), \"Water Filters\"))\n",
        "df_sorted.show()"
      ]
    },
    {
      "cell_type": "markdown",
      "id": "945b8410",
      "metadata": {
        "execution": {
          "iopub.execute_input": "2023-03-07T23:45:49.641649Z",
          "iopub.status.busy": "2023-03-07T23:45:49.641271Z",
          "iopub.status.idle": "2023-03-07T23:45:49.715331Z",
          "shell.execute_reply": "2023-03-07T23:45:49.714177Z",
          "shell.execute_reply.started": "2023-03-07T23:45:49.641617Z"
        },
        "tags": [],
        "id": "945b8410"
      },
      "source": [
        "# Text Cleaning\n"
      ]
    },
    {
      "cell_type": "code",
      "execution_count": null,
      "id": "8eac941e-efb3-45f6-b3ea-1dcabc05c3bc",
      "metadata": {
        "tags": [],
        "id": "8eac941e-efb3-45f6-b3ea-1dcabc05c3bc",
        "outputId": "cc1615ea-fb0a-42cd-d10f-6383397ce7f8",
        "colab": {
          "referenced_widgets": [
            "1dcc18ff67d94dffb8ff33bc858c3f98",
            ""
          ]
        }
      },
      "outputs": [
        {
          "data": {
            "application/vnd.jupyter.widget-view+json": {
              "model_id": "1dcc18ff67d94dffb8ff33bc858c3f98",
              "version_major": 2,
              "version_minor": 0
            },
            "text/plain": [
              "VBox()"
            ]
          },
          "metadata": {},
          "output_type": "display_data"
        },
        {
          "data": {
            "application/vnd.jupyter.widget-view+json": {
              "model_id": "",
              "version_major": 2,
              "version_minor": 0
            },
            "text/plain": [
              "FloatProgress(value=0.0, bar_style='info', description='Progress:', layout=Layout(height='25px', width='50%'),…"
            ]
          },
          "metadata": {},
          "output_type": "display_data"
        }
      ],
      "source": [
        "# Import necessary libraries and resources\n",
        "\n",
        "import pandas as pd\n",
        "import pyspark.pandas as ps\n",
        "import numpy as np\n",
        "import nltk\n",
        "from nltk.tokenize import word_tokenize\n",
        "from nltk.corpus import stopwords, wordnet\n",
        "from nltk.stem import WordNetLemmatizer\n",
        "\n",
        "from pyspark.sql.functions import udf, col, lower, regexp_replace\n",
        "from pyspark.ml.feature import Tokenizer, StopWordsRemover\n",
        "from nltk.stem.snowball import SnowballStemmer\n",
        "from pyspark.sql.types import ArrayType, StringType\n",
        "from pyspark.sql.functions import concat_ws, col, lit   #for converting array<string> to string"
      ]
    },
    {
      "cell_type": "code",
      "execution_count": null,
      "id": "d06e0109",
      "metadata": {
        "scrolled": false,
        "id": "d06e0109",
        "outputId": "64ef34d0-e609-475b-a739-e05571f60a8a",
        "colab": {
          "referenced_widgets": [
            "16e85f959f97491db4f4115c5bfb7dbb",
            ""
          ]
        }
      },
      "outputs": [
        {
          "data": {
            "application/vnd.jupyter.widget-view+json": {
              "model_id": "16e85f959f97491db4f4115c5bfb7dbb",
              "version_major": 2,
              "version_minor": 0
            },
            "text/plain": [
              "VBox()"
            ]
          },
          "metadata": {},
          "output_type": "display_data"
        },
        {
          "data": {
            "application/vnd.jupyter.widget-view+json": {
              "model_id": "",
              "version_major": 2,
              "version_minor": 0
            },
            "text/plain": [
              "FloatProgress(value=0.0, bar_style='info', description='Progress:', layout=Layout(height='25px', width='50%'),…"
            ]
          },
          "metadata": {},
          "output_type": "display_data"
        },
        {
          "name": "stdout",
          "output_type": "stream",
          "text": [
            "+--------------+--------------------+--------------------+\n",
            "|   customer_ID|              review|         review_text|\n",
            "+--------------+--------------------+--------------------+\n",
            "| AAN2Z0FPWYHH5|Unfortunately, th...|unfortunately the...|\n",
            "|A2CVI72BWRTQE1|Doesn't actually ...|doesnt actually w...|\n",
            "|A1V8TTHX9NGEV6|Looks awesome, on...|looks awesome onl...|\n",
            "|A3G9WZEOJIW6EF|These say compati...|these say compati...|\n",
            "|A1PAMUKF5TB9QX|Made my ice cubes...|made my ice cubes...|\n",
            "|A2Y0ZQKTHO8DYV|The quality of th...|the quality of th...|\n",
            "|A1FA58KTDMFZC0|Really one side o...|really one side o...|\n",
            "|A11WE34OOZ8QN8|Thought this woul...|thought this woul...|\n",
            "| AYU9KZJC44WBT|The patch was mad...|the patch was mad...|\n",
            "|A2B77BIQAU78UG|Filters fit the A...|filters fit the a...|\n",
            "|A3FG5QC85QGC77|Made the water ta...|made the water ta...|\n",
            "|A2RNEM77P16VQ9|Water does not ta...|water does not ta...|\n",
            "|A2UJ20PPDQ4BN8|Fast flow, size i...|fast flow size is...|\n",
            "| A4GYFAFMTQ0UT|Probably one of t...|probably one of t...|\n",
            "| A7ZT4XB823876|This filter does ...|this filter does ...|\n",
            "| AAROAMKO96AQP|Last about a mont...|last about a mont...|\n",
            "|A12BYV7IXYUDTV|  not the right ones|  not the right ones|\n",
            "|A2LRPY11FUXI6Y|The price was rig...|the price was rig...|\n",
            "|  A16IHEYTR8J6|Do not buy this f...|do not buy this f...|\n",
            "| A9GSUWU40BS3B|Water flow is muc...|water flow is muc...|\n",
            "+--------------+--------------------+--------------------+\n",
            "only showing top 20 rows"
          ]
        }
      ],
      "source": [
        "# Lowercase the text data and remove any non-alphabetic characters. Create a new column 'review_text' with the cleaned text data\n",
        "# Keep asin column so we can join the df back\n",
        "\n",
        "df_clean = df_sorted.select('customer_ID', 'review', (lower(regexp_replace('review', '[^a-zA-Z\\\\s]', '')).alias('review_text')))\n",
        "df_clean.show()"
      ]
    },
    {
      "cell_type": "code",
      "execution_count": null,
      "id": "fc66ad2b-1b75-4b00-97ba-0e87b26210b8",
      "metadata": {
        "id": "fc66ad2b-1b75-4b00-97ba-0e87b26210b8",
        "outputId": "6da0c6d0-b241-46ea-a94b-66b0d4e2d309",
        "colab": {
          "referenced_widgets": [
            "30b36e50b40e4e4cbd27e7dde12840a7",
            ""
          ]
        }
      },
      "outputs": [
        {
          "data": {
            "application/vnd.jupyter.widget-view+json": {
              "model_id": "30b36e50b40e4e4cbd27e7dde12840a7",
              "version_major": 2,
              "version_minor": 0
            },
            "text/plain": [
              "VBox()"
            ]
          },
          "metadata": {},
          "output_type": "display_data"
        },
        {
          "data": {
            "application/vnd.jupyter.widget-view+json": {
              "model_id": "",
              "version_major": 2,
              "version_minor": 0
            },
            "text/plain": [
              "FloatProgress(value=0.0, bar_style='info', description='Progress:', layout=Layout(height='25px', width='50%'),…"
            ]
          },
          "metadata": {},
          "output_type": "display_data"
        }
      ],
      "source": [
        "# Tokenize the cleaned text\n",
        "\n",
        "tokenizer = Tokenizer(inputCol = 'review_text', outputCol = 'words_token')\n",
        "df_words_token = tokenizer.transform(df_clean).select('customer_ID', 'review_text', 'words_token')"
      ]
    },
    {
      "cell_type": "code",
      "execution_count": null,
      "id": "cb269e0f-4bee-4022-b485-1ad5a923acdb",
      "metadata": {
        "tags": [],
        "id": "cb269e0f-4bee-4022-b485-1ad5a923acdb",
        "outputId": "a1c3620f-edc8-4de7-89f4-1cc8db26a138",
        "colab": {
          "referenced_widgets": [
            "076db82ada434fbd83c9a438990ade3e",
            ""
          ]
        }
      },
      "outputs": [
        {
          "data": {
            "application/vnd.jupyter.widget-view+json": {
              "model_id": "076db82ada434fbd83c9a438990ade3e",
              "version_major": 2,
              "version_minor": 0
            },
            "text/plain": [
              "VBox()"
            ]
          },
          "metadata": {},
          "output_type": "display_data"
        },
        {
          "data": {
            "application/vnd.jupyter.widget-view+json": {
              "model_id": "",
              "version_major": 2,
              "version_minor": 0
            },
            "text/plain": [
              "FloatProgress(value=0.0, bar_style='info', description='Progress:', layout=Layout(height='25px', width='50%'),…"
            ]
          },
          "metadata": {},
          "output_type": "display_data"
        },
        {
          "name": "stdout",
          "output_type": "stream",
          "text": [
            "+--------------+--------------------+--------------------+\n",
            "|   customer_ID|         review_text|         words_clean|\n",
            "+--------------+--------------------+--------------------+\n",
            "| AAN2Z0FPWYHH5|unfortunately the...|[unfortunately, d...|\n",
            "|A2CVI72BWRTQE1|doesnt actually w...|[doesnt, actually...|\n",
            "|A1V8TTHX9NGEV6|looks awesome onl...|[looks, awesome, ...|\n",
            "|A3G9WZEOJIW6EF|these say compati...|[say, compatible,...|\n",
            "|A1PAMUKF5TB9QX|made my ice cubes...|[made, ice, cubes...|\n",
            "|A2Y0ZQKTHO8DYV|the quality of th...|[quality, patch, ...|\n",
            "|A1FA58KTDMFZC0|really one side o...|[really, one, sid...|\n",
            "|A11WE34OOZ8QN8|thought this woul...|[thought, bigger,...|\n",
            "| AYU9KZJC44WBT|the patch was mad...|[patch, made, mul...|\n",
            "|A2B77BIQAU78UG|filters fit the a...|[filters, fit, se...|\n",
            "|A3FG5QC85QGC77|made the water ta...|[made, water, tas...|\n",
            "|A2RNEM77P16VQ9|water does not ta...|[water, taste, go...|\n",
            "|A2UJ20PPDQ4BN8|fast flow size is...|[fast, flow, size...|\n",
            "| A4GYFAFMTQ0UT|probably one of t...|[probably, one, w...|\n",
            "| A7ZT4XB823876|this filter does ...|[filter, fit, ge,...|\n",
            "| AAROAMKO96AQP|last about a mont...|[last, month, wat...|\n",
            "|A12BYV7IXYUDTV|  not the right ones|       [right, ones]|\n",
            "|A2LRPY11FUXI6Y|the price was rig...|[price, right, do...|\n",
            "|  A16IHEYTR8J6|do not buy this f...|[buy, filter, sav...|\n",
            "| A9GSUWU40BS3B|water flow is muc...|[water, flow, muc...|\n",
            "+--------------+--------------------+--------------------+\n",
            "only showing top 20 rows"
          ]
        }
      ],
      "source": [
        "# Remove stopwords from the tokenized words\n",
        "\n",
        "remover = StopWordsRemover(inputCol = 'words_token', outputCol = 'words_clean')\n",
        "no_stop_word = remover.transform(df_words_token).select('customer_ID', 'review_text', 'words_clean')\n",
        "no_stop_word.show()\n"
      ]
    },
    {
      "cell_type": "code",
      "execution_count": null,
      "id": "d8876028",
      "metadata": {
        "id": "d8876028",
        "outputId": "a64d6908-5634-47f0-9213-48b0b840098d",
        "colab": {
          "referenced_widgets": [
            "a337aa86b96e41a2b7d668195983c6e4",
            ""
          ]
        }
      },
      "outputs": [
        {
          "data": {
            "application/vnd.jupyter.widget-view+json": {
              "model_id": "a337aa86b96e41a2b7d668195983c6e4",
              "version_major": 2,
              "version_minor": 0
            },
            "text/plain": [
              "VBox()"
            ]
          },
          "metadata": {},
          "output_type": "display_data"
        },
        {
          "data": {
            "application/vnd.jupyter.widget-view+json": {
              "model_id": "",
              "version_major": 2,
              "version_minor": 0
            },
            "text/plain": [
              "FloatProgress(value=0.0, bar_style='info', description='Progress:', layout=Layout(height='25px', width='50%'),…"
            ]
          },
          "metadata": {},
          "output_type": "display_data"
        },
        {
          "name": "stdout",
          "output_type": "stream",
          "text": [
            "+--------------+--------------------+--------------------+--------------------+\n",
            "|   customer_ID|         review_text|         words_clean|       words_stemmed|\n",
            "+--------------+--------------------+--------------------+--------------------+\n",
            "| AAN2Z0FPWYHH5|unfortunately the...|[unfortunately, d...|[unfortun, didnt,...|\n",
            "|A2CVI72BWRTQE1|doesnt actually w...|[doesnt, actually...|[doesnt, actual, ...|\n",
            "|A1V8TTHX9NGEV6|looks awesome onl...|[looks, awesome, ...|[look, awesom, lo...|\n",
            "|A3G9WZEOJIW6EF|these say compati...|[say, compatible,...|[say, compat, hoo...|\n",
            "|A1PAMUKF5TB9QX|made my ice cubes...|[made, ice, cubes...|[made, ice, cube,...|\n",
            "|A2Y0ZQKTHO8DYV|the quality of th...|[quality, patch, ...|[qualiti, patch, ...|\n",
            "|A1FA58KTDMFZC0|really one side o...|[really, one, sid...|[realli, one, sid...|\n",
            "|A11WE34OOZ8QN8|thought this woul...|[thought, bigger,...|[thought, bigger,...|\n",
            "| AYU9KZJC44WBT|the patch was mad...|[patch, made, mul...|[patch, made, mul...|\n",
            "|A2B77BIQAU78UG|filters fit the a...|[filters, fit, se...|[filter, fit, ser...|\n",
            "|A3FG5QC85QGC77|made the water ta...|[made, water, tas...|[made, water, tas...|\n",
            "|A2RNEM77P16VQ9|water does not ta...|[water, taste, go...|[water, tast, goo...|\n",
            "|A2UJ20PPDQ4BN8|fast flow size is...|[fast, flow, size...|[fast, flow, size...|\n",
            "| A4GYFAFMTQ0UT|probably one of t...|[probably, one, w...|[probabl, one, wo...|\n",
            "| A7ZT4XB823876|this filter does ...|[filter, fit, ge,...|[filter, fit, ge,...|\n",
            "| AAROAMKO96AQP|last about a mont...|[last, month, wat...|[last, month, wat...|\n",
            "|A12BYV7IXYUDTV|  not the right ones|       [right, ones]|        [right, one]|\n",
            "|A2LRPY11FUXI6Y|the price was rig...|[price, right, do...|[price, right, do...|\n",
            "|  A16IHEYTR8J6|do not buy this f...|[buy, filter, sav...|[buy, filter, sav...|\n",
            "| A9GSUWU40BS3B|water flow is muc...|[water, flow, muc...|[water, flow, muc...|\n",
            "+--------------+--------------------+--------------------+--------------------+\n",
            "only showing top 20 rows"
          ]
        }
      ],
      "source": [
        "# Lemmatize reviews, apply UDF on `words_clean` column\n",
        "\n",
        "stemmer = SnowballStemmer(language = 'english')\n",
        "\n",
        "def stem_words(words):\n",
        "    return [stemmer.stem(word) for word in words]\n",
        "\n",
        "stem_udf = udf(stem_words, ArrayType(StringType()))\n",
        "df_stemmed = no_stop_word.withColumn('words_stemmed', stem_udf('words_clean'))\n",
        "df_stemmed.show()\n"
      ]
    },
    {
      "cell_type": "code",
      "execution_count": null,
      "id": "32df5b74",
      "metadata": {
        "id": "32df5b74",
        "outputId": "088c4efa-abae-4eae-84dc-e076bdc2ffbc",
        "colab": {
          "referenced_widgets": [
            "48d78e539047440981f1eb63789c25f1",
            ""
          ]
        }
      },
      "outputs": [
        {
          "data": {
            "application/vnd.jupyter.widget-view+json": {
              "model_id": "48d78e539047440981f1eb63789c25f1",
              "version_major": 2,
              "version_minor": 0
            },
            "text/plain": [
              "VBox()"
            ]
          },
          "metadata": {},
          "output_type": "display_data"
        },
        {
          "data": {
            "application/vnd.jupyter.widget-view+json": {
              "model_id": "",
              "version_major": 2,
              "version_minor": 0
            },
            "text/plain": [
              "FloatProgress(value=0.0, bar_style='info', description='Progress:', layout=Layout(height='25px', width='50%'),…"
            ]
          },
          "metadata": {},
          "output_type": "display_data"
        },
        {
          "name": "stdout",
          "output_type": "stream",
          "text": [
            "+--------------+--------------------+--------------------+--------------------+--------------------+\n",
            "|   customer_ID|         review_text|         words_clean|       words_stemmed|             reviews|\n",
            "+--------------+--------------------+--------------------+--------------------+--------------------+\n",
            "| AAN2Z0FPWYHH5|unfortunately the...|[unfortunately, d...|[unfortun, didnt,...|unfortunately did...|\n",
            "|A2CVI72BWRTQE1|doesnt actually w...|[doesnt, actually...|[doesnt, actual, ...|doesnt actually w...|\n",
            "|A1V8TTHX9NGEV6|looks awesome onl...|[looks, awesome, ...|[look, awesom, lo...|looks awesome loo...|\n",
            "|A3G9WZEOJIW6EF|these say compati...|[say, compatible,...|[say, compat, hoo...|say compatible ho...|\n",
            "|A1PAMUKF5TB9QX|made my ice cubes...|[made, ice, cubes...|[made, ice, cube,...|made ice cubes bl...|\n",
            "|A2Y0ZQKTHO8DYV|the quality of th...|[quality, patch, ...|[qualiti, patch, ...|quality patch goo...|\n",
            "|A1FA58KTDMFZC0|really one side o...|[really, one, sid...|[realli, one, sid...|really one side v...|\n",
            "|A11WE34OOZ8QN8|thought this woul...|[thought, bigger,...|[thought, bigger,...|thought bigger biggy|\n",
            "| AYU9KZJC44WBT|the patch was mad...|[patch, made, mul...|[patch, made, mul...|patch made multic...|\n",
            "|A2B77BIQAU78UG|filters fit the a...|[filters, fit, se...|[filter, fit, ser...|filters fit serie...|\n",
            "|A3FG5QC85QGC77|made the water ta...|[made, water, tas...|[made, water, tas...|made water taste ...|\n",
            "|A2RNEM77P16VQ9|water does not ta...|[water, taste, go...|[water, tast, goo...|water taste good ...|\n",
            "|A2UJ20PPDQ4BN8|fast flow size is...|[fast, flow, size...|[fast, flow, size...|fast flow size on...|\n",
            "| A4GYFAFMTQ0UT|probably one of t...|[probably, one, w...|[probabl, one, wo...|probably one wors...|\n",
            "| A7ZT4XB823876|this filter does ...|[filter, fit, ge,...|[filter, fit, ge,...|filter fit ge ada...|\n",
            "| AAROAMKO96AQP|last about a mont...|[last, month, wat...|[last, month, wat...|last month water ...|\n",
            "|A12BYV7IXYUDTV|  not the right ones|       [right, ones]|        [right, one]|          right ones|\n",
            "|A2LRPY11FUXI6Y|the price was rig...|[price, right, do...|[price, right, do...|price right doesn...|\n",
            "|  A16IHEYTR8J6|do not buy this f...|[buy, filter, sav...|[buy, filter, sav...|buy filter save m...|\n",
            "| A9GSUWU40BS3B|water flow is muc...|[water, flow, muc...|[water, flow, muc...|water flow much g...|\n",
            "+--------------+--------------------+--------------------+--------------------+--------------------+\n",
            "only showing top 20 rows"
          ]
        }
      ],
      "source": [
        "# Change reviews column back into a string\n",
        "\n",
        "df_good = df_stemmed.withColumn('reviews', concat_ws(' ', 'words_clean'))\n",
        "df_good.show()"
      ]
    },
    {
      "cell_type": "code",
      "execution_count": null,
      "id": "1c0f4d13",
      "metadata": {
        "id": "1c0f4d13",
        "outputId": "8ed2ceb9-3721-42a9-cb4f-3c525b8f0029",
        "colab": {
          "referenced_widgets": [
            "79cc25d52cb1434697cf05cb5711295d",
            ""
          ]
        }
      },
      "outputs": [
        {
          "data": {
            "application/vnd.jupyter.widget-view+json": {
              "model_id": "79cc25d52cb1434697cf05cb5711295d",
              "version_major": 2,
              "version_minor": 0
            },
            "text/plain": [
              "VBox()"
            ]
          },
          "metadata": {},
          "output_type": "display_data"
        },
        {
          "data": {
            "application/vnd.jupyter.widget-view+json": {
              "model_id": "",
              "version_major": 2,
              "version_minor": 0
            },
            "text/plain": [
              "FloatProgress(value=0.0, bar_style='info', description='Progress:', layout=Layout(height='25px', width='50%'),…"
            ]
          },
          "metadata": {},
          "output_type": "display_data"
        }
      ],
      "source": [
        "# Only need to keep the cleaned 'words' category\n",
        "\n",
        "df_finish = df_good.select(['customer_ID', 'reviews'])"
      ]
    },
    {
      "cell_type": "code",
      "execution_count": null,
      "id": "b84d2d2c",
      "metadata": {
        "id": "b84d2d2c",
        "outputId": "a5982257-5f49-46cd-c6f2-97a43fb69242",
        "colab": {
          "referenced_widgets": [
            "8bfc383ff855456fbe6224fb0e78b2ce",
            ""
          ]
        }
      },
      "outputs": [
        {
          "data": {
            "application/vnd.jupyter.widget-view+json": {
              "model_id": "8bfc383ff855456fbe6224fb0e78b2ce",
              "version_major": 2,
              "version_minor": 0
            },
            "text/plain": [
              "VBox()"
            ]
          },
          "metadata": {},
          "output_type": "display_data"
        },
        {
          "data": {
            "application/vnd.jupyter.widget-view+json": {
              "model_id": "",
              "version_major": 2,
              "version_minor": 0
            },
            "text/plain": [
              "FloatProgress(value=0.0, bar_style='info', description='Progress:', layout=Layout(height='25px', width='50%'),…"
            ]
          },
          "metadata": {},
          "output_type": "display_data"
        },
        {
          "name": "stdout",
          "output_type": "stream",
          "text": [
            "+--------------------+----------+------+---------------+--------------------+--------------------+--------------------+-------+--------------------+\n",
            "|         customer_ID|      asin|rating|  customer_name|               brand|            category|        product_name|  price|             reviews|\n",
            "+--------------------+----------+------+---------------+--------------------+--------------------+--------------------+-------+--------------------+\n",
            "|A01704365WXWXHQIZMHJ|B00HT39KCU|     5|Amazon Customer|               Tier1|Appliances, Parts...|Tier1 Replacement...| $10.44|filters work perf...|\n",
            "|A0877179R3O0A41LGAGM|B00ZY6KM4E|     1|       Jackie G|             ICEPURE|Appliances, Parts...|ICEPURE DA29-0002...| $29.99|put filter fridge...|\n",
            "|      A101CDY0ZO1WPI|B00E37TR6E|     5|    Barb Thomas|             EcoAqua|Appliances, Parts...|EcoAqua EFF-6013A...| $15.59|product works per...|\n",
            "|       A101HUYQ0IP1M|B00UXG4WR8|     3|Amazon Customer|EveryDrop by Whir...|Appliances, Parts...|EveryDrop by Whir...| $49.99|must item refrige...|\n",
            "|      A102XAY1719I61|B00UB441HS|     5|  Greg McIntyre|EveryDrop by Whir...|Appliances, Parts...|Whirlpool EDR3RXD...| $49.98|perfect fridge wa...|\n",
            "|      A103F42MI4E272|B0045LLC7K|     5|   David Golden|          Frigidaire|Appliances, Parts...|Frigidaire WF3CB ...| $40.33|              needed|\n",
            "|      A104P02G0D77PO|B00KGHWNX4|     5|    Gisela Dale|          Aqua Fresh|Appliances, Parts...|Aqua Fresh WF294 ...| $23.95|         always good|\n",
            "|      A105S7R0HMR12R|B001BOTNCU|     5| George Bonilla|                 PUR|Appliances, Parts...|PUR W10186667 Pus...|       |               thank|\n",
            "|      A105V0ND2B375D|B004UB1O9Q|     5|       T. Whack|             Samsung|Appliances, Parts...|Samsung Genuine D...|$116.00|great product ser...|\n",
            "|      A105V0ND2B375D|B004UB1O9Q|     5|       T. Whack|             Samsung|Appliances, Parts...|Samsung Genuine D...|$116.00|great product ser...|\n",
            "|      A105V0ND2B375D|B00AHR3IG4|     5|       T. Whack|             Samsung|Appliances, Parts...|Samsung Genuine D...|$116.00|great product ser...|\n",
            "|      A105V0ND2B375D|B00AHR3IG4|     5|       T. Whack|             Samsung|Appliances, Parts...|Samsung Genuine D...|$116.00|great product ser...|\n",
            "|      A10726P2PM50EQ|B00W0TIZE2|     5|        Steve N|             Refresh|Appliances, Parts...|Refresh Replaceme...| $37.99|great filter much...|\n",
            "|      A108IQOSJ9DIAY|B00E37TQRO|     5|  Steve Meister|             EcoAqua|Appliances, Parts...|EcoAqua EFF-6007A...| $29.99|second time order...|\n",
            "|      A108J66OTOUVVW|B00W0XE60U|     5|         Carlos|             Refresh|Appliances, Parts...|Refresh Replaceme...| $16.99|great price commo...|\n",
            "|      A1094N9U2CMB0F|B00QFVFES6|     5|     dale huitt|             EcoAqua|Appliances, Parts...|EcoAqua EFF- WF1C...|       |        worked great|\n",
            "|      A109OU1FSHVDB3|B00E8KRFMY|     1|             BP|       WaterSentinel|Appliances, Parts...|WaterSentinel WSG...| $26.62|filter work ge ad...|\n",
            "|      A10C49HTA6EZW0|B004UB1O9Q|     5|         zezee3|             Samsung|Appliances, Parts...|Samsung Genuine D...|$116.00|good clean water ...|\n",
            "|      A10CA8GKAUU5VL|B00KJ07SEM|     1|Amazon Customer|    Waterfall Filter|Appliances, Parts...|GE MWF SmartWater...| $17.99|bought replace oe...|\n",
            "|      A10DDY5A38R1I5|B01G4W95VC|     5|Amazon Customer|          AQUA CREST|Appliances, Parts...|AQUACREST Replace...| $26.99|bought gift feedb...|\n",
            "+--------------------+----------+------+---------------+--------------------+--------------------+--------------------+-------+--------------------+\n",
            "only showing top 20 rows"
          ]
        }
      ],
      "source": [
        "# Join our 'df_sorted' and 'df_finish' together\n",
        "\n",
        "df_sorted = df_sorted.drop('review')\n",
        "df_final = df_sorted.join(df_finish.select('customer_ID', 'reviews'), on = 'customer_ID', how ='inner')\n",
        "df_final.show()\n"
      ]
    },
    {
      "cell_type": "markdown",
      "id": "b82e5ac5",
      "metadata": {
        "id": "b82e5ac5"
      },
      "source": [
        "# Counting Top Reviewed Products"
      ]
    },
    {
      "cell_type": "code",
      "execution_count": null,
      "id": "c5b50ba9",
      "metadata": {
        "id": "c5b50ba9",
        "outputId": "e73d66e2-2db9-48ed-bddc-5f66a4a6bb9e",
        "colab": {
          "referenced_widgets": [
            "e01b03579c5944e19a2c7466abdc0a5d",
            ""
          ]
        }
      },
      "outputs": [
        {
          "data": {
            "application/vnd.jupyter.widget-view+json": {
              "model_id": "e01b03579c5944e19a2c7466abdc0a5d",
              "version_major": 2,
              "version_minor": 0
            },
            "text/plain": [
              "VBox()"
            ]
          },
          "metadata": {},
          "output_type": "display_data"
        },
        {
          "data": {
            "application/vnd.jupyter.widget-view+json": {
              "model_id": "",
              "version_major": 2,
              "version_minor": 0
            },
            "text/plain": [
              "FloatProgress(value=0.0, bar_style='info', description='Progress:', layout=Layout(height='25px', width='50%'),…"
            ]
          },
          "metadata": {},
          "output_type": "display_data"
        },
        {
          "name": "stdout",
          "output_type": "stream",
          "text": [
            "+----------+--------------------+------------+\n",
            "|      asin|        product_name|review_count|\n",
            "+----------+--------------------+------------+\n",
            "|B000AST3AK|General Electric ...|        6509|\n",
            "|B004UB1O9Q|Samsung Genuine D...|        5698|\n",
            "|B00KJ07SEM|GE MWF SmartWater...|        3199|\n",
            "|B0045LLC7K|Frigidaire WF3CB ...|        2933|\n",
            "|B00E37TQV0|EcoAqua DA29-0002...|        2314|\n",
            "|B0042ACZU2|LG LT700P Refrige...|        2032|\n",
            "|B00AHR3IG4|Samsung Genuine D...|        1699|\n",
            "|B009PCI2JU|GE RPWFE Refriger...|        1444|\n",
            "|B00UXG4WR8|EveryDrop by Whir...|        1403|\n",
            "|B01CC7O8JW|Waterdrop MWF Ref...|        1279|\n",
            "+----------+--------------------+------------+\n",
            "only showing top 10 rows"
          ]
        }
      ],
      "source": [
        "# Counting the total amount of reviews per water filter product\n",
        "\n",
        "asin_count = df_sorted.groupBy('asin', 'product_name').count().sort(desc('count'))\n",
        "asin_count = asin_count.withColumnRenamed('count', 'review_count')\n",
        "asin_count.show(10)"
      ]
    },
    {
      "cell_type": "code",
      "execution_count": null,
      "id": "79c786bc",
      "metadata": {
        "id": "79c786bc",
        "outputId": "f02ad209-420d-46b4-f50a-da6c6f98bdee",
        "colab": {
          "referenced_widgets": [
            "414f0acad43d41f2877bb644069b4c3c",
            ""
          ]
        }
      },
      "outputs": [
        {
          "data": {
            "application/vnd.jupyter.widget-view+json": {
              "model_id": "414f0acad43d41f2877bb644069b4c3c",
              "version_major": 2,
              "version_minor": 0
            },
            "text/plain": [
              "VBox()"
            ]
          },
          "metadata": {},
          "output_type": "display_data"
        },
        {
          "data": {
            "application/vnd.jupyter.widget-view+json": {
              "model_id": "",
              "version_major": 2,
              "version_minor": 0
            },
            "text/plain": [
              "FloatProgress(value=0.0, bar_style='info', description='Progress:', layout=Layout(height='25px', width='50%'),…"
            ]
          },
          "metadata": {},
          "output_type": "display_data"
        },
        {
          "name": "stdout",
          "output_type": "stream",
          "text": [
            "+--------------------+-----------+\n",
            "|               brand|brand_count|\n",
            "+--------------------+-----------+\n",
            "|           Waterdrop|      15178|\n",
            "|             EcoAqua|      11043|\n",
            "|                  GE|       9867|\n",
            "|             Samsung|       8685|\n",
            "|    Waterfall Filter|       6284|\n",
            "|EveryDrop by Whir...|       5778|\n",
            "|             Refresh|       5580|\n",
            "|             ICEPURE|       5574|\n",
            "|               Tier1|       5439|\n",
            "|       WaterSentinel|       5426|\n",
            "+--------------------+-----------+\n",
            "only showing top 10 rows"
          ]
        }
      ],
      "source": [
        "# Counting the total amount of brands per water filter product\n",
        "\n",
        "brand_count = df_sorted.groupBy('brand').count().sort(desc('count'))\n",
        "brand_count = brand_count.withColumnRenamed('count', 'brand_count')\n",
        "brand_count.show(10)"
      ]
    },
    {
      "cell_type": "code",
      "execution_count": null,
      "id": "9a6106b5",
      "metadata": {
        "id": "9a6106b5",
        "outputId": "9b25550b-3eca-4cfb-8aec-3d2eae335806",
        "colab": {
          "referenced_widgets": [
            "01b633fe113e4f3f87dc097cfd9af489",
            ""
          ]
        }
      },
      "outputs": [
        {
          "data": {
            "application/vnd.jupyter.widget-view+json": {
              "model_id": "01b633fe113e4f3f87dc097cfd9af489",
              "version_major": 2,
              "version_minor": 0
            },
            "text/plain": [
              "VBox()"
            ]
          },
          "metadata": {},
          "output_type": "display_data"
        },
        {
          "data": {
            "application/vnd.jupyter.widget-view+json": {
              "model_id": "",
              "version_major": 2,
              "version_minor": 0
            },
            "text/plain": [
              "FloatProgress(value=0.0, bar_style='info', description='Progress:', layout=Layout(height='25px', width='50%'),…"
            ]
          },
          "metadata": {},
          "output_type": "display_data"
        }
      ],
      "source": [
        "# Create a function that returns the rating counts for each product to use\n",
        "\n",
        "def get_rating_counts(df_sorted, asin):\n",
        "    rating_counts = df_sorted.filter(col('asin') == asin).groupBy('rating').agg(count('*').alias('count')).orderBy('rating', ascending = False)\n",
        "    return rating_counts"
      ]
    },
    {
      "cell_type": "code",
      "execution_count": null,
      "id": "4f629a21",
      "metadata": {
        "id": "4f629a21",
        "outputId": "8b6f9276-33b9-4227-f7f9-8227a969a466",
        "colab": {
          "referenced_widgets": [
            "e5f1e02045d44ed8803293b07576c2dc",
            ""
          ]
        }
      },
      "outputs": [
        {
          "data": {
            "application/vnd.jupyter.widget-view+json": {
              "model_id": "e5f1e02045d44ed8803293b07576c2dc",
              "version_major": 2,
              "version_minor": 0
            },
            "text/plain": [
              "VBox()"
            ]
          },
          "metadata": {},
          "output_type": "display_data"
        },
        {
          "data": {
            "application/vnd.jupyter.widget-view+json": {
              "model_id": "",
              "version_major": 2,
              "version_minor": 0
            },
            "text/plain": [
              "FloatProgress(value=0.0, bar_style='info', description='Progress:', layout=Layout(height='25px', width='50%'),…"
            ]
          },
          "metadata": {},
          "output_type": "display_data"
        },
        {
          "name": "stdout",
          "output_type": "stream",
          "text": [
            "+------+-----+\n",
            "|rating|count|\n",
            "+------+-----+\n",
            "|     5| 4665|\n",
            "|     4|  960|\n",
            "|     3|  292|\n",
            "|     2|  152|\n",
            "|     1|  440|\n",
            "+------+-----+"
          ]
        }
      ],
      "source": [
        "# 1 - Counting the total amount of ratings for the first top appliance item: asin = 'B000AST3AK'\n",
        "\n",
        "asin_1 = 'B000AST3AK'\n",
        "rating_1 = get_rating_counts(df_sorted, asin_1)\n",
        "rating_1.show()"
      ]
    },
    {
      "cell_type": "code",
      "execution_count": null,
      "id": "39057d1a",
      "metadata": {
        "id": "39057d1a",
        "outputId": "29fe058b-90fc-4bcd-d278-a882314b51fa",
        "colab": {
          "referenced_widgets": [
            "e026ef4a9475489d9a078162c1098fc9",
            ""
          ]
        }
      },
      "outputs": [
        {
          "data": {
            "application/vnd.jupyter.widget-view+json": {
              "model_id": "e026ef4a9475489d9a078162c1098fc9",
              "version_major": 2,
              "version_minor": 0
            },
            "text/plain": [
              "VBox()"
            ]
          },
          "metadata": {},
          "output_type": "display_data"
        },
        {
          "data": {
            "application/vnd.jupyter.widget-view+json": {
              "model_id": "",
              "version_major": 2,
              "version_minor": 0
            },
            "text/plain": [
              "FloatProgress(value=0.0, bar_style='info', description='Progress:', layout=Layout(height='25px', width='50%'),…"
            ]
          },
          "metadata": {},
          "output_type": "display_data"
        },
        {
          "name": "stdout",
          "output_type": "stream",
          "text": [
            "+------+-----+\n",
            "|rating|count|\n",
            "+------+-----+\n",
            "|     5| 4048|\n",
            "|     4|  769|\n",
            "|     3|  201|\n",
            "|     2|  139|\n",
            "|     1|  541|\n",
            "+------+-----+"
          ]
        }
      ],
      "source": [
        "# 2 - Counting the total amount of ratings for the second top appliance item: asin = 'B004UB1O9Q'\n",
        "\n",
        "asin_2 = 'B004UB1O9Q'\n",
        "rating_2 = get_rating_counts(df_sorted, asin_2)\n",
        "rating_2.show()"
      ]
    },
    {
      "cell_type": "code",
      "execution_count": null,
      "id": "25025d77",
      "metadata": {
        "id": "25025d77",
        "outputId": "3eb5fa6c-081b-49c4-9cd0-78a70624f41d",
        "colab": {
          "referenced_widgets": [
            "c069868de8a54e5bb29ae0453ad10a44",
            ""
          ]
        }
      },
      "outputs": [
        {
          "data": {
            "application/vnd.jupyter.widget-view+json": {
              "model_id": "c069868de8a54e5bb29ae0453ad10a44",
              "version_major": 2,
              "version_minor": 0
            },
            "text/plain": [
              "VBox()"
            ]
          },
          "metadata": {},
          "output_type": "display_data"
        },
        {
          "data": {
            "application/vnd.jupyter.widget-view+json": {
              "model_id": "",
              "version_major": 2,
              "version_minor": 0
            },
            "text/plain": [
              "FloatProgress(value=0.0, bar_style='info', description='Progress:', layout=Layout(height='25px', width='50%'),…"
            ]
          },
          "metadata": {},
          "output_type": "display_data"
        },
        {
          "name": "stdout",
          "output_type": "stream",
          "text": [
            "+------+-----+\n",
            "|rating|count|\n",
            "+------+-----+\n",
            "|     5| 2408|\n",
            "|     4|  344|\n",
            "|     3|   77|\n",
            "|     2|   88|\n",
            "|     1|  282|\n",
            "+------+-----+"
          ]
        }
      ],
      "source": [
        "# 3 - Counting the total amount of ratings for the third top appliance item: asin = 'B00KJ07SEM'\n",
        "\n",
        "asin_3 = 'B00KJ07SEM'\n",
        "rating_3 = get_rating_counts(df_sorted, asin_3)\n",
        "rating_3.show()"
      ]
    },
    {
      "cell_type": "code",
      "execution_count": null,
      "id": "f674a550",
      "metadata": {
        "id": "f674a550",
        "outputId": "4f0f9e8d-e75b-4d30-fb45-e20e5ef6fa6d",
        "colab": {
          "referenced_widgets": [
            "59e0e736206f43adae3005d05b2560cc",
            ""
          ]
        }
      },
      "outputs": [
        {
          "data": {
            "application/vnd.jupyter.widget-view+json": {
              "model_id": "59e0e736206f43adae3005d05b2560cc",
              "version_major": 2,
              "version_minor": 0
            },
            "text/plain": [
              "VBox()"
            ]
          },
          "metadata": {},
          "output_type": "display_data"
        },
        {
          "data": {
            "application/vnd.jupyter.widget-view+json": {
              "model_id": "",
              "version_major": 2,
              "version_minor": 0
            },
            "text/plain": [
              "FloatProgress(value=0.0, bar_style='info', description='Progress:', layout=Layout(height='25px', width='50%'),…"
            ]
          },
          "metadata": {},
          "output_type": "display_data"
        },
        {
          "name": "stdout",
          "output_type": "stream",
          "text": [
            "+------+-----+\n",
            "|rating|count|\n",
            "+------+-----+\n",
            "|     5| 2133|\n",
            "|     4|  373|\n",
            "|     3|  129|\n",
            "|     2|   71|\n",
            "|     1|  227|\n",
            "+------+-----+"
          ]
        }
      ],
      "source": [
        "# 4 - Counting the total amount of ratings for the fourth top appliance item: asin = 'B0045LLC7K'\n",
        "\n",
        "asin_4 = 'B0045LLC7K'\n",
        "rating_4 = get_rating_counts(df_sorted, asin_4)\n",
        "rating_4.show()"
      ]
    },
    {
      "cell_type": "code",
      "execution_count": null,
      "id": "464f64b5",
      "metadata": {
        "id": "464f64b5",
        "outputId": "6dd13023-0a74-46b2-e96d-8377594efa02",
        "colab": {
          "referenced_widgets": [
            "c13e327876544b7bab329899ceb53b1f",
            ""
          ]
        }
      },
      "outputs": [
        {
          "data": {
            "application/vnd.jupyter.widget-view+json": {
              "model_id": "c13e327876544b7bab329899ceb53b1f",
              "version_major": 2,
              "version_minor": 0
            },
            "text/plain": [
              "VBox()"
            ]
          },
          "metadata": {},
          "output_type": "display_data"
        },
        {
          "data": {
            "application/vnd.jupyter.widget-view+json": {
              "model_id": "",
              "version_major": 2,
              "version_minor": 0
            },
            "text/plain": [
              "FloatProgress(value=0.0, bar_style='info', description='Progress:', layout=Layout(height='25px', width='50%'),…"
            ]
          },
          "metadata": {},
          "output_type": "display_data"
        },
        {
          "name": "stdout",
          "output_type": "stream",
          "text": [
            "+------+-----+\n",
            "|rating|count|\n",
            "+------+-----+\n",
            "|     5| 1701|\n",
            "|     4|  276|\n",
            "|     3|   66|\n",
            "|     2|   60|\n",
            "|     1|  211|\n",
            "+------+-----+"
          ]
        }
      ],
      "source": [
        "# 5 - Counting the total amount of ratings for the fifth top appliance item: asin = 'B00E37TQV0'\n",
        "\n",
        "asin_5 = 'B00E37TQV0'\n",
        "rating_5 = get_rating_counts(df_sorted, asin_5)\n",
        "rating_5.show()"
      ]
    },
    {
      "cell_type": "code",
      "execution_count": null,
      "id": "ad686d44",
      "metadata": {
        "scrolled": true,
        "id": "ad686d44",
        "outputId": "2c224508-d789-42ea-a479-61df65601dee",
        "colab": {
          "referenced_widgets": [
            "0c55a50ea05a4fbfa6dcfe2d833eef14",
            ""
          ]
        }
      },
      "outputs": [
        {
          "data": {
            "application/vnd.jupyter.widget-view+json": {
              "model_id": "0c55a50ea05a4fbfa6dcfe2d833eef14",
              "version_major": 2,
              "version_minor": 0
            },
            "text/plain": [
              "VBox()"
            ]
          },
          "metadata": {},
          "output_type": "display_data"
        },
        {
          "data": {
            "application/vnd.jupyter.widget-view+json": {
              "model_id": "",
              "version_major": 2,
              "version_minor": 0
            },
            "text/plain": [
              "FloatProgress(value=0.0, bar_style='info', description='Progress:', layout=Layout(height='25px', width='50%'),…"
            ]
          },
          "metadata": {},
          "output_type": "display_data"
        },
        {
          "name": "stdout",
          "output_type": "stream",
          "text": [
            "+------+-----+\n",
            "|rating|count|\n",
            "+------+-----+\n",
            "|     5|91645|\n",
            "|     4|15074|\n",
            "|     1|12769|\n",
            "|     3| 4285|\n",
            "|     2| 3341|\n",
            "+------+-----+"
          ]
        }
      ],
      "source": [
        "# TOTAL - Counting the total amount of ratings per star\n",
        "\n",
        "rating_count = df_sorted.groupBy('rating').count().sort(desc('count'))\n",
        "rating_count.show()"
      ]
    },
    {
      "cell_type": "code",
      "execution_count": null,
      "id": "7245a99a",
      "metadata": {
        "scrolled": true,
        "id": "7245a99a",
        "outputId": "55f20f8b-d341-4378-c9e5-985abd3f676f",
        "colab": {
          "referenced_widgets": [
            "3d58dc05605d406cba1bbe1ee67107e6",
            ""
          ]
        }
      },
      "outputs": [
        {
          "data": {
            "application/vnd.jupyter.widget-view+json": {
              "model_id": "3d58dc05605d406cba1bbe1ee67107e6",
              "version_major": 2,
              "version_minor": 0
            },
            "text/plain": [
              "VBox()"
            ]
          },
          "metadata": {},
          "output_type": "display_data"
        },
        {
          "data": {
            "application/vnd.jupyter.widget-view+json": {
              "model_id": "",
              "version_major": 2,
              "version_minor": 0
            },
            "text/plain": [
              "FloatProgress(value=0.0, bar_style='info', description='Progress:', layout=Layout(height='25px', width='50%'),…"
            ]
          },
          "metadata": {},
          "output_type": "display_data"
        },
        {
          "name": "stdout",
          "output_type": "stream",
          "text": [
            "+------------+------+\n",
            "|        word| count|\n",
            "+------------+------+\n",
            "|            |124415|\n",
            "|      filter| 72982|\n",
            "|       water| 64847|\n",
            "|       great| 41416|\n",
            "|       price| 28831|\n",
            "|       works| 27276|\n",
            "|     filters| 25789|\n",
            "|        good| 25650|\n",
            "|     product| 21961|\n",
            "|         one| 19880|\n",
            "|         fit| 18040|\n",
            "|refrigerator| 16253|\n",
            "|      fridge| 14642|\n",
            "|        well| 14148|\n",
            "|       taste| 13326|\n",
            "|        easy| 12361|\n",
            "|     samsung| 12180|\n",
            "|       brand| 11869|\n",
            "|        like| 11868|\n",
            "|        time| 11661|\n",
            "|        work| 11643|\n",
            "| replacement| 11632|\n",
            "|          ge| 11146|\n",
            "|         buy| 11066|\n",
            "|        much| 10114|\n",
            "|     install| 10098|\n",
            "|     perfect|  9739|\n",
            "|   perfectly|  9648|\n",
            "|        fine|  9268|\n",
            "|      tastes|  8691|\n",
            "|    original|  8315|\n",
            "|        fits|  7978|\n",
            "|      better|  7607|\n",
            "|      months|  7246|\n",
            "|   installed|  7083|\n",
            "|      worked|  6808|\n",
            "|         get|  6770|\n",
            "|         oem|  6641|\n",
            "|      bought|  6387|\n",
            "|   expensive|  6336|\n",
            "|         new|  6197|\n",
            "|     cheaper|  6163|\n",
            "|       first|  5996|\n",
            "|        cost|  5857|\n",
            "|        less|  5794|\n",
            "|         use|  5790|\n",
            "|        dont|  5652|\n",
            "|     quality|  5469|\n",
            "|         ice|  5386|\n",
            "|     replace|  5134|\n",
            "+------------+------+\n",
            "only showing top 50 rows"
          ]
        }
      ],
      "source": [
        "count_df = df_final.withColumn('word', F.explode(F.split(F.col('reviews'), ' ')))\\\n",
        "    .groupBy('word')\\\n",
        "    .count()\\\n",
        "    .sort('count', ascending = False)\n",
        "\n",
        "count_df.show(50)"
      ]
    },
    {
      "cell_type": "markdown",
      "id": "0a361b2b",
      "metadata": {
        "id": "0a361b2b"
      },
      "source": [
        "# Data Visualizations"
      ]
    },
    {
      "cell_type": "code",
      "execution_count": null,
      "id": "48a113b7",
      "metadata": {
        "id": "48a113b7",
        "outputId": "b6c98b27-5274-43eb-9d38-c72a1f18c17a",
        "colab": {
          "referenced_widgets": [
            "4dab9953ba7d4bf8b896d09744a89f6e",
            ""
          ]
        }
      },
      "outputs": [
        {
          "data": {
            "application/vnd.jupyter.widget-view+json": {
              "model_id": "4dab9953ba7d4bf8b896d09744a89f6e",
              "version_major": 2,
              "version_minor": 0
            },
            "text/plain": [
              "VBox()"
            ]
          },
          "metadata": {},
          "output_type": "display_data"
        },
        {
          "data": {
            "application/vnd.jupyter.widget-view+json": {
              "model_id": "",
              "version_major": 2,
              "version_minor": 0
            },
            "text/plain": [
              "FloatProgress(value=0.0, bar_style='info', description='Progress:', layout=Layout(height='25px', width='50%'),…"
            ]
          },
          "metadata": {},
          "output_type": "display_data"
        }
      ],
      "source": [
        "# Importing necessary resources\n",
        "\n",
        "import matplotlib.pyplot as plt\n",
        "import pyspark.pandas as ps\n",
        "ps.set_option('plotting.backend', 'matplotlib')"
      ]
    },
    {
      "cell_type": "code",
      "execution_count": null,
      "id": "1b1c8266",
      "metadata": {
        "scrolled": false,
        "id": "1b1c8266",
        "outputId": "bf82318f-103d-4dc7-fe57-043670438d50",
        "colab": {
          "referenced_widgets": [
            "921f7c2dfbe44c068fdcdf0cc3a32d07",
            ""
          ]
        }
      },
      "outputs": [
        {
          "data": {
            "application/vnd.jupyter.widget-view+json": {
              "model_id": "921f7c2dfbe44c068fdcdf0cc3a32d07",
              "version_major": 2,
              "version_minor": 0
            },
            "text/plain": [
              "VBox()"
            ]
          },
          "metadata": {},
          "output_type": "display_data"
        },
        {
          "data": {
            "application/vnd.jupyter.widget-view+json": {
              "model_id": "",
              "version_major": 2,
              "version_minor": 0
            },
            "text/plain": [
              "FloatProgress(value=0.0, bar_style='info', description='Progress:', layout=Layout(height='25px', width='50%'),…"
            ]
          },
          "metadata": {},
          "output_type": "display_data"
        },
        {
          "data": {
            "image/png": "[encoded data removed]",
            "text/plain": [
              "<IPython.core.display.Image object>"
            ]
          },
          "metadata": {},
          "output_type": "display_data"
        }
      ],
      "source": [
        "# Generate a bar chart of the top 10 most reviewed products within our appliance dataset based on thier 'asin'\n",
        "\n",
        "plt.clf()\n",
        "top_prod = asin_count.toPandas()\n",
        "\n",
        "fig, ax = plt.subplots(figsize = (10, 7))\n",
        "plt.bar(top_prod['product_name'][:10], top_prod['review_count'][:10])\n",
        "plt.xticks(rotation = 45, ha = 'right')\n",
        "plt.xlabel('Product Name')\n",
        "plt.ylabel('Review Count')\n",
        "plt.title('Top 10 Most Reviewed Products')\n",
        "\n",
        "\n",
        "%matplot plt\n"
      ]
    },
    {
      "cell_type": "code",
      "execution_count": null,
      "id": "bd448785",
      "metadata": {
        "id": "bd448785",
        "outputId": "91c73983-c3fe-4d21-af9f-84bbc3fd30c4",
        "colab": {
          "referenced_widgets": [
            "be3d00988bde4cfa941e125f0cd4bbeb",
            ""
          ]
        }
      },
      "outputs": [
        {
          "data": {
            "application/vnd.jupyter.widget-view+json": {
              "model_id": "be3d00988bde4cfa941e125f0cd4bbeb",
              "version_major": 2,
              "version_minor": 0
            },
            "text/plain": [
              "VBox()"
            ]
          },
          "metadata": {},
          "output_type": "display_data"
        },
        {
          "data": {
            "application/vnd.jupyter.widget-view+json": {
              "model_id": "",
              "version_major": 2,
              "version_minor": 0
            },
            "text/plain": [
              "FloatProgress(value=0.0, bar_style='info', description='Progress:', layout=Layout(height='25px', width='50%'),…"
            ]
          },
          "metadata": {},
          "output_type": "display_data"
        },
        {
          "data": {
            "image/png": "[encoded data removed]",
            "text/plain": [
              "<IPython.core.display.Image object>"
            ]
          },
          "metadata": {},
          "output_type": "display_data"
        }
      ],
      "source": [
        "# Bar chart of the top 10 brands\n",
        "\n",
        "plt.clf()\n",
        "top_prod = brand_count.toPandas()\n",
        "\n",
        "fig, ax = plt.subplots(figsize = (10, 7))\n",
        "plt.bar(top_prod['brand'][:10], top_prod['brand_count'][:10])\n",
        "plt.xticks(rotation = 45, ha = 'right')\n",
        "plt.xlabel('Brand')\n",
        "plt.ylabel('Review Count')\n",
        "plt.title('Top 10 Most Reviewed Brands')\n",
        "\n",
        "\n",
        "%matplot plt\n"
      ]
    },
    {
      "cell_type": "code",
      "execution_count": null,
      "id": "4dfa696d",
      "metadata": {
        "id": "4dfa696d",
        "outputId": "4225eba1-91d7-4256-ad85-7c2c73d68a3e",
        "colab": {
          "referenced_widgets": [
            "f97e355a30af4cb8bf5ad5547a9fa16b",
            ""
          ]
        }
      },
      "outputs": [
        {
          "data": {
            "application/vnd.jupyter.widget-view+json": {
              "model_id": "f97e355a30af4cb8bf5ad5547a9fa16b",
              "version_major": 2,
              "version_minor": 0
            },
            "text/plain": [
              "VBox()"
            ]
          },
          "metadata": {},
          "output_type": "display_data"
        },
        {
          "data": {
            "application/vnd.jupyter.widget-view+json": {
              "model_id": "",
              "version_major": 2,
              "version_minor": 0
            },
            "text/plain": [
              "FloatProgress(value=0.0, bar_style='info', description='Progress:', layout=Layout(height='25px', width='50%'),…"
            ]
          },
          "metadata": {},
          "output_type": "display_data"
        },
        {
          "data": {
            "image/png": "[encoded data removed]",
            "text/plain": [
              "<IPython.core.display.Image object>"
            ]
          },
          "metadata": {},
          "output_type": "display_data"
        }
      ],
      "source": [
        "# Create a histogram of the first rating's category with 5 bins for each star rating. People with 2 and 3 star ratings are less than those who gave the product a bad 1-star review.\n",
        "\n",
        "plt.clf()\n",
        "\n",
        "ratings_1 = rating_1.select('rating').rdd.flatMap(lambda x: x).collect()\n",
        "counts_1 = rating_1.select('count').rdd.flatMap(lambda x: x).collect()\n",
        "\n",
        "plt.figure(figsize = (6,4))\n",
        "plt.hist(ratings_1, bins = 5, weights = counts_1)\n",
        "plt.xlabel('Ratings')\n",
        "plt.ylabel('Count')\n",
        "plt.title('Histogram of Ratings: \\n Product B000AST3AK')\n",
        "\n",
        "%matplot plt"
      ]
    },
    {
      "cell_type": "code",
      "execution_count": null,
      "id": "395696dd",
      "metadata": {
        "id": "395696dd",
        "outputId": "df3fe773-fcf0-4738-b7fc-c3d475e2cd45",
        "colab": {
          "referenced_widgets": [
            "fa376e891ac54d688dc61a0f13a00247",
            ""
          ]
        }
      },
      "outputs": [
        {
          "data": {
            "application/vnd.jupyter.widget-view+json": {
              "model_id": "fa376e891ac54d688dc61a0f13a00247",
              "version_major": 2,
              "version_minor": 0
            },
            "text/plain": [
              "VBox()"
            ]
          },
          "metadata": {},
          "output_type": "display_data"
        },
        {
          "data": {
            "application/vnd.jupyter.widget-view+json": {
              "model_id": "",
              "version_major": 2,
              "version_minor": 0
            },
            "text/plain": [
              "FloatProgress(value=0.0, bar_style='info', description='Progress:', layout=Layout(height='25px', width='50%'),…"
            ]
          },
          "metadata": {},
          "output_type": "display_data"
        },
        {
          "data": {
            "image/png": "[encoded data removed]",
            "text/plain": [
              "<IPython.core.display.Image object>"
            ]
          },
          "metadata": {},
          "output_type": "display_data"
        }
      ],
      "source": [
        "# Create a histogram of the second rating's category. Similar to product B000AST3AK above, over 500 people gave it a 1-star review. We can analyze the reviews for this product to find out why\n",
        "\n",
        "plt.clf()\n",
        "\n",
        "ratings_2 = rating_2.select('rating').rdd.flatMap(lambda x: x).collect()\n",
        "counts_2 = rating_2.select('count').rdd.flatMap(lambda x: x).collect()\n",
        "\n",
        "plt.figure(figsize = (6,4))\n",
        "plt.hist(ratings_2, bins = 5, weights = counts_2)\n",
        "plt.xlabel('Ratings')\n",
        "plt.ylabel('Count')\n",
        "plt.title('Histogram of Ratings: \\n Product B004UB1O9Q')\n",
        "\n",
        "%matplot plt"
      ]
    },
    {
      "cell_type": "code",
      "execution_count": null,
      "id": "210e4074",
      "metadata": {
        "id": "210e4074",
        "outputId": "926739fa-9cb1-4c44-cb39-728bbdb84c0c",
        "colab": {
          "referenced_widgets": [
            "5a509a09245b4e0a978801e22902780c",
            ""
          ]
        }
      },
      "outputs": [
        {
          "data": {
            "application/vnd.jupyter.widget-view+json": {
              "model_id": "5a509a09245b4e0a978801e22902780c",
              "version_major": 2,
              "version_minor": 0
            },
            "text/plain": [
              "VBox()"
            ]
          },
          "metadata": {},
          "output_type": "display_data"
        },
        {
          "data": {
            "application/vnd.jupyter.widget-view+json": {
              "model_id": "",
              "version_major": 2,
              "version_minor": 0
            },
            "text/plain": [
              "FloatProgress(value=0.0, bar_style='info', description='Progress:', layout=Layout(height='25px', width='50%'),…"
            ]
          },
          "metadata": {},
          "output_type": "display_data"
        },
        {
          "data": {
            "image/png": "[encoded data removed]",
            "text/plain": [
              "<IPython.core.display.Image object>"
            ]
          },
          "metadata": {},
          "output_type": "display_data"
        }
      ],
      "source": [
        "# Create a histogram of the third rating's category. This product has the best reviews so far, considering they have less than 100 1-star ratings!\n",
        "\n",
        "plt.clf()\n",
        "\n",
        "ratings_3 = rating_3.select('rating').rdd.flatMap(lambda x: x).collect()\n",
        "counts_3 = rating_3.select('count').rdd.flatMap(lambda x: x).collect()\n",
        "\n",
        "plt.figure(figsize = (6,4))\n",
        "plt.hist(ratings_3, bins = 5, weights = counts_3)\n",
        "plt.xlabel('Ratings')\n",
        "plt.ylabel('Count')\n",
        "plt.title('Histogram of Ratings: \\n Product B0014CN8Y8')\n",
        "\n",
        "%matplot plt"
      ]
    },
    {
      "cell_type": "code",
      "execution_count": null,
      "id": "d9d2fcbc",
      "metadata": {
        "id": "d9d2fcbc",
        "outputId": "0afbd020-1478-4a1c-e3b8-f7cbfdd52744",
        "colab": {
          "referenced_widgets": [
            "c9b81431ac654003b167cc29be368e08",
            ""
          ]
        }
      },
      "outputs": [
        {
          "data": {
            "application/vnd.jupyter.widget-view+json": {
              "model_id": "c9b81431ac654003b167cc29be368e08",
              "version_major": 2,
              "version_minor": 0
            },
            "text/plain": [
              "VBox()"
            ]
          },
          "metadata": {},
          "output_type": "display_data"
        },
        {
          "data": {
            "application/vnd.jupyter.widget-view+json": {
              "model_id": "",
              "version_major": 2,
              "version_minor": 0
            },
            "text/plain": [
              "FloatProgress(value=0.0, bar_style='info', description='Progress:', layout=Layout(height='25px', width='50%'),…"
            ]
          },
          "metadata": {},
          "output_type": "display_data"
        },
        {
          "data": {
            "image/png": "[encoded data removed]",
            "text/plain": [
              "<IPython.core.display.Image object>"
            ]
          },
          "metadata": {},
          "output_type": "display_data"
        }
      ],
      "source": [
        "# Create a histogram of the fourth rating's category. While most customers found this product more than satisfactory, some still were not happy.\n",
        "\n",
        "plt.clf()\n",
        "\n",
        "ratings_4 = rating_4.select('rating').rdd.flatMap(lambda x: x).collect()\n",
        "counts_4 = rating_4.select('count').rdd.flatMap(lambda x: x).collect()\n",
        "\n",
        "plt.figure(figsize = (6,4))\n",
        "plt.hist(ratings_4, bins = 5, weights = counts_4)\n",
        "plt.xlabel('Ratings')\n",
        "plt.ylabel('Count')\n",
        "plt.title('Histogram of Ratings: \\n Product B00KJ07SEM')\n",
        "\n",
        "%matplot plt"
      ]
    },
    {
      "cell_type": "code",
      "execution_count": null,
      "id": "434b38e3",
      "metadata": {
        "id": "434b38e3",
        "outputId": "361acc66-e055-46a7-d28f-84e41a3790c3",
        "colab": {
          "referenced_widgets": [
            "d63ac1cd89c24543a9a387d6d6928408",
            ""
          ]
        }
      },
      "outputs": [
        {
          "data": {
            "application/vnd.jupyter.widget-view+json": {
              "model_id": "d63ac1cd89c24543a9a387d6d6928408",
              "version_major": 2,
              "version_minor": 0
            },
            "text/plain": [
              "VBox()"
            ]
          },
          "metadata": {},
          "output_type": "display_data"
        },
        {
          "data": {
            "application/vnd.jupyter.widget-view+json": {
              "model_id": "",
              "version_major": 2,
              "version_minor": 0
            },
            "text/plain": [
              "FloatProgress(value=0.0, bar_style='info', description='Progress:', layout=Layout(height='25px', width='50%'),…"
            ]
          },
          "metadata": {},
          "output_type": "display_data"
        },
        {
          "data": {
            "image/png": "[encoded data removed]",
            "text/plain": [
              "<IPython.core.display.Image object>"
            ]
          },
          "metadata": {},
          "output_type": "display_data"
        }
      ],
      "source": [
        "# Create a histogram of the fifth rating's category. This distribution is a good sign, most customers were happy with product B0002YTM0I\n",
        "\n",
        "plt.clf()\n",
        "\n",
        "ratings_5 = rating_5.select('rating').rdd.flatMap(lambda x: x).collect()\n",
        "counts_5 = rating_5.select('count').rdd.flatMap(lambda x: x).collect()\n",
        "\n",
        "plt.figure(figsize = (6,4))\n",
        "plt.hist(ratings_5, bins = 5, weights = counts_5)\n",
        "plt.xlabel('Ratings')\n",
        "plt.ylabel('Count')\n",
        "plt.title('Histogram of Ratings: \\n Product B0002YTM0I')\n",
        "\n",
        "%matplot plt"
      ]
    },
    {
      "cell_type": "code",
      "execution_count": null,
      "id": "ab1e7318",
      "metadata": {
        "id": "ab1e7318",
        "outputId": "e5f8d97f-29ee-4e1c-a14e-d336dc4cd4b5",
        "colab": {
          "referenced_widgets": [
            "c78bd082bf3742b7ae4ea091c10dabe5",
            ""
          ]
        }
      },
      "outputs": [
        {
          "data": {
            "application/vnd.jupyter.widget-view+json": {
              "model_id": "c78bd082bf3742b7ae4ea091c10dabe5",
              "version_major": 2,
              "version_minor": 0
            },
            "text/plain": [
              "VBox()"
            ]
          },
          "metadata": {},
          "output_type": "display_data"
        },
        {
          "data": {
            "application/vnd.jupyter.widget-view+json": {
              "model_id": "",
              "version_major": 2,
              "version_minor": 0
            },
            "text/plain": [
              "FloatProgress(value=0.0, bar_style='info', description='Progress:', layout=Layout(height='25px', width='50%'),…"
            ]
          },
          "metadata": {},
          "output_type": "display_data"
        },
        {
          "data": {
            "image/png": "[encoded data removed]",
            "text/plain": [
              "<IPython.core.display.Image object>"
            ]
          },
          "metadata": {},
          "output_type": "display_data"
        }
      ],
      "source": [
        "# Creating a bar chart of the ratings category. We see that overall, a majority of the products get a 5 star review!\n",
        "\n",
        "plt.clf()\n",
        "rating_count_pd = rating_count.toPandas()\n",
        "\n",
        "plt.bar(rating_count_pd[\"rating\"], rating_count_pd[\"count\"])\n",
        "plt.xlabel(\"Rating\")\n",
        "plt.ylabel(\"Count\")\n",
        "plt.title(\"Total Ratings of Water Filters\")\n",
        "\n",
        "%matplot plt"
      ]
    },
    {
      "cell_type": "code",
      "execution_count": null,
      "id": "6a6109e8",
      "metadata": {
        "id": "6a6109e8",
        "outputId": "f5f96dec-7252-4dc3-af40-1250c57d105c",
        "colab": {
          "referenced_widgets": [
            "4ca096ac2a7e4d20a334690f13751a60",
            ""
          ]
        }
      },
      "outputs": [
        {
          "data": {
            "application/vnd.jupyter.widget-view+json": {
              "model_id": "4ca096ac2a7e4d20a334690f13751a60",
              "version_major": 2,
              "version_minor": 0
            },
            "text/plain": [
              "VBox()"
            ]
          },
          "metadata": {},
          "output_type": "display_data"
        },
        {
          "data": {
            "application/vnd.jupyter.widget-view+json": {
              "model_id": "",
              "version_major": 2,
              "version_minor": 0
            },
            "text/plain": [
              "FloatProgress(value=0.0, bar_style='info', description='Progress:', layout=Layout(height='25px', width='50%'),…"
            ]
          },
          "metadata": {},
          "output_type": "display_data"
        },
        {
          "data": {
            "image/png": "[encoded data removed]",
            "text/plain": [
              "<IPython.core.display.Image object>"
            ]
          },
          "metadata": {},
          "output_type": "display_data"
        }
      ],
      "source": [
        "# Create a scatter plot of the words used in the dataset\n",
        "\n",
        "plt.clf()\n",
        "plot_words = count_df.toPandas()\n",
        "\n",
        "plt.scatter(plot_words['word'], plot_words['count'])\n",
        "plt.xticks(ha = 'right')\n",
        "plt.xlabel('Word')\n",
        "plt.ylabel('Count')\n",
        "plt.title('Words Used to Describe Water Filters Sold on Amazon')\n",
        "\n",
        "%matplot plt"
      ]
    },
    {
      "cell_type": "code",
      "execution_count": null,
      "id": "4b7441ad",
      "metadata": {
        "id": "4b7441ad",
        "outputId": "913087ff-8568-43e0-c9ed-bb8edbe0f318",
        "colab": {
          "referenced_widgets": [
            "4378190c80ce45039e960b387ad9aef2",
            ""
          ]
        }
      },
      "outputs": [
        {
          "data": {
            "application/vnd.jupyter.widget-view+json": {
              "model_id": "4378190c80ce45039e960b387ad9aef2",
              "version_major": 2,
              "version_minor": 0
            },
            "text/plain": [
              "VBox()"
            ]
          },
          "metadata": {},
          "output_type": "display_data"
        },
        {
          "data": {
            "application/vnd.jupyter.widget-view+json": {
              "model_id": "",
              "version_major": 2,
              "version_minor": 0
            },
            "text/plain": [
              "FloatProgress(value=0.0, bar_style='info', description='Progress:', layout=Layout(height='25px', width='50%'),…"
            ]
          },
          "metadata": {},
          "output_type": "display_data"
        },
        {
          "data": {
            "image/png": "[encoded data removed]",
            "text/plain": [
              "<IPython.core.display.Image object>"
            ]
          },
          "metadata": {},
          "output_type": "display_data"
        }
      ],
      "source": [
        "# Since the scatter visual is too compacted, we will narrow it down to the top 50 words used in the dataset. \n",
        "# We will probably see that a great handful of words consist of \"water\" and \"filter\" and remove them as outliers\n",
        "\n",
        "plt.clf()\n",
        "\n",
        "n_top = 50\n",
        "top_words = count_df.sort('count', ascending = False).limit(n_top).toPandas()\n",
        "\n",
        "plt.scatter(top_words['word'], top_words['count'])\n",
        "plt.xticks(rotation = 45, ha = 'right')\n",
        "plt.xlabel('Word')\n",
        "plt.ylabel('Count')\n",
        "plt.title('Most Common Words Used')\n",
        "\n",
        "%matplot plt"
      ]
    },
    {
      "cell_type": "code",
      "execution_count": null,
      "id": "9b5aefd4",
      "metadata": {
        "id": "9b5aefd4"
      },
      "outputs": [],
      "source": []
    },
    {
      "cell_type": "markdown",
      "id": "2a7cf83c",
      "metadata": {
        "id": "2a7cf83c"
      },
      "source": [
        "# Outliers"
      ]
    },
    {
      "cell_type": "code",
      "execution_count": null,
      "id": "69ef9732",
      "metadata": {
        "id": "69ef9732",
        "outputId": "0ec23ef8-efa9-4ef8-fc92-0e7d17e3cb82",
        "colab": {
          "referenced_widgets": [
            "b1a03ca10e0e4422bb8f7e02e292328b",
            ""
          ]
        }
      },
      "outputs": [
        {
          "data": {
            "application/vnd.jupyter.widget-view+json": {
              "model_id": "b1a03ca10e0e4422bb8f7e02e292328b",
              "version_major": 2,
              "version_minor": 0
            },
            "text/plain": [
              "VBox()"
            ]
          },
          "metadata": {},
          "output_type": "display_data"
        },
        {
          "data": {
            "application/vnd.jupyter.widget-view+json": {
              "model_id": "",
              "version_major": 2,
              "version_minor": 0
            },
            "text/plain": [
              "FloatProgress(value=0.0, bar_style='info', description='Progress:', layout=Layout(height='25px', width='50%'),…"
            ]
          },
          "metadata": {},
          "output_type": "display_data"
        },
        {
          "name": "stderr",
          "output_type": "stream",
          "text": [
            "An error was encountered:\n",
            "name 'imputed' is not defined\n",
            "Traceback (most recent call last):\n",
            "NameError: name 'imputed' is not defined\n",
            "\n"
          ]
        }
      ],
      "source": [
        "# Since the dataset is already categorized as Water Filters, the words \"water\" and \"filter\" are given in the descriptions and occur too frequently\n",
        "\n",
        "no_outliers = imputed[imputed.FuelEconomy < 40]"
      ]
    },
    {
      "cell_type": "code",
      "execution_count": null,
      "id": "725718d1",
      "metadata": {
        "id": "725718d1",
        "outputId": "cc4040b9-1ad4-4e0e-9bf5-e840c19ab88f",
        "colab": {
          "referenced_widgets": [
            "bef97e0d84294c09a16eab1db45bbf6a",
            ""
          ]
        }
      },
      "outputs": [
        {
          "data": {
            "application/vnd.jupyter.widget-view+json": {
              "model_id": "bef97e0d84294c09a16eab1db45bbf6a",
              "version_major": 2,
              "version_minor": 0
            },
            "text/plain": [
              "VBox()"
            ]
          },
          "metadata": {},
          "output_type": "display_data"
        },
        {
          "data": {
            "application/vnd.jupyter.widget-view+json": {
              "model_id": "",
              "version_major": 2,
              "version_minor": 0
            },
            "text/plain": [
              "FloatProgress(value=0.0, bar_style='info', description='Progress:', layout=Layout(height='25px', width='50%'),…"
            ]
          },
          "metadata": {},
          "output_type": "display_data"
        },
        {
          "name": "stderr",
          "output_type": "stream",
          "text": [
            "An error was encountered:\n",
            "name 'no_outliers' is not defined\n",
            "Traceback (most recent call last):\n",
            "NameError: name 'no_outliers' is not defined\n",
            "\n"
          ]
        }
      ],
      "source": [
        "descriptive_stats = no_outliers.describe()\n",
        "descriptive_stats"
      ]
    },
    {
      "cell_type": "markdown",
      "id": "d980a85b",
      "metadata": {
        "id": "d980a85b"
      },
      "source": [
        "# Removal of Outliers Visuals"
      ]
    },
    {
      "cell_type": "code",
      "execution_count": null,
      "id": "d8a44736",
      "metadata": {
        "id": "d8a44736",
        "outputId": "394b40ef-af39-4c9a-c305-b319d3e3f2d0",
        "colab": {
          "referenced_widgets": [
            "aa6654ecaa8149e09b2b98a04ad59f3b",
            ""
          ]
        }
      },
      "outputs": [
        {
          "data": {
            "application/vnd.jupyter.widget-view+json": {
              "model_id": "aa6654ecaa8149e09b2b98a04ad59f3b",
              "version_major": 2,
              "version_minor": 0
            },
            "text/plain": [
              "VBox()"
            ]
          },
          "metadata": {},
          "output_type": "display_data"
        },
        {
          "data": {
            "application/vnd.jupyter.widget-view+json": {
              "model_id": "",
              "version_major": 2,
              "version_minor": 0
            },
            "text/plain": [
              "FloatProgress(value=0.0, bar_style='info', description='Progress:', layout=Layout(height='25px', width='50%'),…"
            ]
          },
          "metadata": {},
          "output_type": "display_data"
        },
        {
          "data": {
            "image/png": "[encoded data removed]",
            "text/plain": [
              "<IPython.core.display.Image object>"
            ]
          },
          "metadata": {},
          "output_type": "display_data"
        }
      ],
      "source": [
        "# Re-create the scatter plot of the top 50 words to see that \"water\" and \"filter\" are now removed\n",
        "\n",
        "plt.clf()\n",
        "\n",
        "n_top = 50\n",
        "top_words = count_df.sort('count', ascending = False).limit(n_top).toPandas()\n",
        "\n",
        "plt.scatter(top_words['word'], top_words['count'])\n",
        "plt.xticks(rotation = 45, ha = 'right')\n",
        "plt.xlabel('Word')\n",
        "plt.ylabel('Count')\n",
        "plt.title('Most Common Words Used')\n",
        "\n",
        "%matplot plt"
      ]
    },
    {
      "cell_type": "markdown",
      "id": "badfbd47",
      "metadata": {
        "id": "badfbd47"
      },
      "source": [
        "# Project Milestone 3: Modeling"
      ]
    },
    {
      "cell_type": "markdown",
      "id": "14f986ed",
      "metadata": {
        "id": "14f986ed"
      },
      "source": [
        "# Logistic Regression"
      ]
    },
    {
      "cell_type": "code",
      "execution_count": null,
      "id": "51b76074",
      "metadata": {
        "id": "51b76074",
        "outputId": "98791f72-02a0-4553-b74d-94fa7762698a",
        "colab": {
          "referenced_widgets": [
            "a57b59a94e3f4cad9bcb821937263112",
            ""
          ]
        }
      },
      "outputs": [
        {
          "data": {
            "application/vnd.jupyter.widget-view+json": {
              "model_id": "a57b59a94e3f4cad9bcb821937263112",
              "version_major": 2,
              "version_minor": 0
            },
            "text/plain": [
              "VBox()"
            ]
          },
          "metadata": {},
          "output_type": "display_data"
        },
        {
          "data": {
            "application/vnd.jupyter.widget-view+json": {
              "model_id": "",
              "version_major": 2,
              "version_minor": 0
            },
            "text/plain": [
              "FloatProgress(value=0.0, bar_style='info', description='Progress:', layout=Layout(height='25px', width='50%'),…"
            ]
          },
          "metadata": {},
          "output_type": "display_data"
        }
      ],
      "source": [
        "import pyspark.ml.stat as st\n",
        "import pyspark.ml.feature as feat\n",
        "import pyspark.sql.functions as F\n",
        "from pyspark.ml import *\n",
        "from pyspark.ml.feature import *\n",
        "from pyspark.ml.stat import *\n",
        "from pyspark.ml.classification import *\n",
        "from pyspark.ml.evaluation import *\n",
        "from pyspark.ml.tuning import *"
      ]
    },
    {
      "cell_type": "code",
      "execution_count": null,
      "id": "e6056923",
      "metadata": {
        "id": "e6056923",
        "outputId": "3d40c7fa-3436-438a-b439-455c44f599ea",
        "colab": {
          "referenced_widgets": [
            "abef3d4d307b47e5b9076e8c6e8a51ed",
            ""
          ]
        }
      },
      "outputs": [
        {
          "data": {
            "application/vnd.jupyter.widget-view+json": {
              "model_id": "abef3d4d307b47e5b9076e8c6e8a51ed",
              "version_major": 2,
              "version_minor": 0
            },
            "text/plain": [
              "VBox()"
            ]
          },
          "metadata": {},
          "output_type": "display_data"
        },
        {
          "data": {
            "application/vnd.jupyter.widget-view+json": {
              "model_id": "",
              "version_major": 2,
              "version_minor": 0
            },
            "text/plain": [
              "FloatProgress(value=0.0, bar_style='info', description='Progress:', layout=Layout(height='25px', width='50%'),…"
            ]
          },
          "metadata": {},
          "output_type": "display_data"
        },
        {
          "name": "stderr",
          "output_type": "stream",
          "text": [
            "An error was encountered:\n",
            "corr() missing 2 required positional arguments: 'col1' and 'col2'\n",
            "Traceback (most recent call last):\n",
            "TypeError: corr() missing 2 required positional arguments: 'col1' and 'col2'\n",
            "\n"
          ]
        }
      ],
      "source": [
        "corrr_matrix = df_final.corr()"
      ]
    },
    {
      "cell_type": "code",
      "execution_count": null,
      "id": "cde86536",
      "metadata": {
        "id": "cde86536",
        "outputId": "5a83b42c-eb44-4460-adc6-1d3419606345",
        "colab": {
          "referenced_widgets": [
            "b656e50caca54f14ae8548f6f9f9022c",
            ""
          ]
        }
      },
      "outputs": [
        {
          "data": {
            "application/vnd.jupyter.widget-view+json": {
              "model_id": "b656e50caca54f14ae8548f6f9f9022c",
              "version_major": 2,
              "version_minor": 0
            },
            "text/plain": [
              "VBox()"
            ]
          },
          "metadata": {},
          "output_type": "display_data"
        },
        {
          "data": {
            "application/vnd.jupyter.widget-view+json": {
              "model_id": "",
              "version_major": 2,
              "version_minor": 0
            },
            "text/plain": [
              "FloatProgress(value=0.0, bar_style='info', description='Progress:', layout=Layout(height='25px', width='50%'),…"
            ]
          },
          "metadata": {},
          "output_type": "display_data"
        },
        {
          "name": "stdout",
          "output_type": "stream",
          "text": [
            "+--------------------+------+\n",
            "|             reviews|rating|\n",
            "+--------------------+------+\n",
            "|great price commo...|     5|\n",
            "|easy install appe...|     5|\n",
            "|two days ordered ...|     5|\n",
            "|great product fas...|     5|\n",
            "|second purchase p...|     1|\n",
            "|    exactly expected|     5|\n",
            "|purchased product...|     5|\n",
            "|fits like origina...|     4|\n",
            "|convenient  bette...|     5|\n",
            "|third order filte...|     4|\n",
            "|third order filte...|     5|\n",
            "|third order filte...|     5|\n",
            "|filter want top s...|     1|\n",
            "|product arrived t...|     5|\n",
            "|good price fast d...|     5|\n",
            "|product described...|     5|\n",
            "|filter chlorine t...|     1|\n",
            "|works well good p...|     5|\n",
            "|works well good p...|     5|\n",
            "|bought replacemen...|     5|\n",
            "+--------------------+------+\n",
            "only showing top 20 rows"
          ]
        }
      ],
      "source": [
        "df_review = df_final.select('reviews', col('rating').cast('Int'))\n",
        "df_review.show()"
      ]
    },
    {
      "cell_type": "code",
      "execution_count": null,
      "id": "47dd9657",
      "metadata": {
        "id": "47dd9657",
        "outputId": "945c959a-62e2-4991-d298-efdda0c857b8",
        "colab": {
          "referenced_widgets": [
            "538c1c9d65b5419c9ad2616ad8a59ba2",
            ""
          ]
        }
      },
      "outputs": [
        {
          "data": {
            "application/vnd.jupyter.widget-view+json": {
              "model_id": "538c1c9d65b5419c9ad2616ad8a59ba2",
              "version_major": 2,
              "version_minor": 0
            },
            "text/plain": [
              "VBox()"
            ]
          },
          "metadata": {},
          "output_type": "display_data"
        },
        {
          "data": {
            "application/vnd.jupyter.widget-view+json": {
              "model_id": "",
              "version_major": 2,
              "version_minor": 0
            },
            "text/plain": [
              "FloatProgress(value=0.0, bar_style='info', description='Progress:', layout=Layout(height='25px', width='50%'),…"
            ]
          },
          "metadata": {},
          "output_type": "display_data"
        },
        {
          "name": "stdout",
          "output_type": "stream",
          "text": [
            "Train: 109054 \n",
            "Test: 36258"
          ]
        }
      ],
      "source": [
        "#Train test data according to 75-25 rule\n",
        "\n",
        "test_train_data = df_review.randomSplit([0.75, 0.25], seed = 6666)\n",
        "\n",
        "train_data = test_train_data[0]\n",
        "test_data = test_train_data[1]\n",
        "\n",
        "print('Train:', train_data.count(), '\\nTest:', test_data.count())"
      ]
    },
    {
      "cell_type": "code",
      "execution_count": null,
      "id": "ad58c68e",
      "metadata": {
        "id": "ad58c68e",
        "outputId": "e1fe5d86-dbd0-4d02-9607-e3dbf1390d0b",
        "colab": {
          "referenced_widgets": [
            "d6ada474c71745a8bb84c7ea4206b7e9",
            ""
          ]
        }
      },
      "outputs": [
        {
          "data": {
            "application/vnd.jupyter.widget-view+json": {
              "model_id": "d6ada474c71745a8bb84c7ea4206b7e9",
              "version_major": 2,
              "version_minor": 0
            },
            "text/plain": [
              "VBox()"
            ]
          },
          "metadata": {},
          "output_type": "display_data"
        },
        {
          "data": {
            "application/vnd.jupyter.widget-view+json": {
              "model_id": "",
              "version_major": 2,
              "version_minor": 0
            },
            "text/plain": [
              "FloatProgress(value=0.0, bar_style='info', description='Progress:', layout=Layout(height='25px', width='50%'),…"
            ]
          },
          "metadata": {},
          "output_type": "display_data"
        },
        {
          "name": "stdout",
          "output_type": "stream",
          "text": [
            "+--------------------+------+--------------------+\n",
            "|             reviews|rating|           sentiment|\n",
            "+--------------------+------+--------------------+\n",
            "|                    |     4|                  []|\n",
            "|                    |     4|                  []|\n",
            "|                    |     5|                  []|\n",
            "|                    |     5|                  []|\n",
            "|                    |     5|                  []|\n",
            "|                    |     5|                  []|\n",
            "|                    |     5|                  []|\n",
            "|                    |     5|                  []|\n",
            "|  days water tast...|     1|[, , days, water,...|\n",
            "| bought   month a...|     1|[, bought, , , mo...|\n",
            "| bought new lg re...|     5|[, bought, new, l...|\n",
            "| boxes opened  su...|     1|[, boxes, opened,...|\n",
            "| cents time reord...|     3|[, cents, time, r...|\n",
            "| concerns  handle...|     1|[, concerns, , ha...|\n",
            "| days started lea...|     1|[, days, started,...|\n",
            "| filter cheapest ...|     5|[, filter, cheape...|\n",
            "| filters less pri...|     5|[, filters, less,...|\n",
            "|           fit first|     4|      [, fit, first]|\n",
            "| gal usage vs oth...|     5|[, gal, usage, vs...|\n",
            "| gallon pond didn...|     1|[, gallon, pond, ...|\n",
            "+--------------------+------+--------------------+\n",
            "only showing top 20 rows"
          ]
        }
      ],
      "source": [
        "# Tokenize the text\n",
        "\n",
        "tokenizer = Tokenizer(inputCol = \"reviews\", outputCol = \"sentiment\")\n",
        "tokenizedTrain = tokenizer.transform(train_data)\n",
        "tokenizedTrain.show()"
      ]
    },
    {
      "cell_type": "code",
      "execution_count": null,
      "id": "11d4732e",
      "metadata": {
        "id": "11d4732e",
        "outputId": "5b1d5cfb-ceed-48e8-d79a-1e170261d10c",
        "colab": {
          "referenced_widgets": [
            "4d744cc6e08243aeb39a97ba9c0bbde2",
            ""
          ]
        }
      },
      "outputs": [
        {
          "data": {
            "application/vnd.jupyter.widget-view+json": {
              "model_id": "4d744cc6e08243aeb39a97ba9c0bbde2",
              "version_major": 2,
              "version_minor": 0
            },
            "text/plain": [
              "VBox()"
            ]
          },
          "metadata": {},
          "output_type": "display_data"
        },
        {
          "data": {
            "application/vnd.jupyter.widget-view+json": {
              "model_id": "",
              "version_major": 2,
              "version_minor": 0
            },
            "text/plain": [
              "FloatProgress(value=0.0, bar_style='info', description='Progress:', layout=Layout(height='25px', width='50%'),…"
            ]
          },
          "metadata": {},
          "output_type": "display_data"
        }
      ],
      "source": [
        "# See that there are some null values, remove them\n",
        "\n",
        "tokenizedTrain = tokenizedTrain.na.drop()\n",
        "tokenizedTrain = tokenizedTrain.dropDuplicates()"
      ]
    },
    {
      "cell_type": "code",
      "execution_count": null,
      "id": "c80b3e8d",
      "metadata": {
        "scrolled": true,
        "id": "c80b3e8d",
        "outputId": "cd326b88-20dd-43ae-f156-8bac34873366",
        "colab": {
          "referenced_widgets": [
            "1d7e090d4c7a43b9a2fdf441a1de4349",
            ""
          ]
        }
      },
      "outputs": [
        {
          "data": {
            "application/vnd.jupyter.widget-view+json": {
              "model_id": "1d7e090d4c7a43b9a2fdf441a1de4349",
              "version_major": 2,
              "version_minor": 0
            },
            "text/plain": [
              "VBox()"
            ]
          },
          "metadata": {},
          "output_type": "display_data"
        },
        {
          "data": {
            "application/vnd.jupyter.widget-view+json": {
              "model_id": "",
              "version_major": 2,
              "version_minor": 0
            },
            "text/plain": [
              "FloatProgress(value=0.0, bar_style='info', description='Progress:', layout=Layout(height='25px', width='50%'),…"
            ]
          },
          "metadata": {},
          "output_type": "display_data"
        },
        {
          "name": "stdout",
          "output_type": "stream",
          "text": [
            "+--------------------+------+--------------------+--------------------+\n",
            "|             reviews|rating|           sentiment|            features|\n",
            "+--------------------+------+--------------------+--------------------+\n",
            "|best flow filter ...|     5|[best, flow, filt...|(262144,[67117,10...|\n",
            "|                 buy|     5|               [buy]|(262144,[213760],...|\n",
            "|comparable  learn...|     1|[comparable, , le...|(262144,[11941,31...|\n",
            "|far filter works ...|     4|[far, filter, wor...|(262144,[107201,1...|\n",
            "|filter leaked eve...|     1|[filter, leaked, ...|(262144,[18176,21...|\n",
            "|great item  fast ...|     5|[great, item, , f...|(262144,[113503,1...|\n",
            "|great replacement...|     5|[great, replaceme...|(262144,[26143,52...|\n",
            "|item arrived time...|     5|[item, arrived, t...|(262144,[77073,12...|\n",
            "|little leaking wa...|     3|[little, leaking,...|(262144,[3834,671...|\n",
            "|works good name b...|     5|[works, good, nam...|(262144,[3834,351...|\n",
            "|correct fit works...|     5|[correct, fit, wo...|(262144,[2325,643...|\n",
            "|fits well works w...|     5|[fits, well, work...|(262144,[3121,113...|\n",
            "|  great easy install|     5|[great, easy, ins...|(262144,[82787,96...|\n",
            "|great filter rece...|     5|[great, filter, r...|(262144,[52879,68...|\n",
            "|installed fine pr...|     5|[installed, fine,...|(262144,[8538,246...|\n",
            "|product arrived t...|     5|[product, arrived...|(262144,[24645,32...|\n",
            "|quality filter go...|     5|[quality, filter,...|(262144,[26143,43...|\n",
            "|unfortunatly goin...|     1|[unfortunatly, go...|(262144,[20719,23...|\n",
            "|great  arrived da...|     5|[great, , arrived...|(262144,[24698,56...|\n",
            "|inexpensive time ...|     4|[inexpensive, tim...|(262144,[31866,52...|\n",
            "+--------------------+------+--------------------+--------------------+\n",
            "only showing top 20 rows"
          ]
        }
      ],
      "source": [
        "# Convert the words into feature vectors\n",
        "\n",
        "hashing_tf = HashingTF(inputCol = \"sentiment\", outputCol = \"features\")\n",
        "hashed_td = hashing_tf.transform(tokenizedTrain)\n",
        "hashed_td.show()"
      ]
    },
    {
      "cell_type": "code",
      "execution_count": null,
      "id": "90abcd03",
      "metadata": {
        "id": "90abcd03",
        "outputId": "26927b7d-de33-4429-f121-ebce87e2689d",
        "colab": {
          "referenced_widgets": [
            "ee40d01d66f74678bbf9b8b628e57988",
            ""
          ]
        }
      },
      "outputs": [
        {
          "data": {
            "application/vnd.jupyter.widget-view+json": {
              "model_id": "ee40d01d66f74678bbf9b8b628e57988",
              "version_major": 2,
              "version_minor": 0
            },
            "text/plain": [
              "VBox()"
            ]
          },
          "metadata": {},
          "output_type": "display_data"
        },
        {
          "data": {
            "application/vnd.jupyter.widget-view+json": {
              "model_id": "",
              "version_major": 2,
              "version_minor": 0
            },
            "text/plain": [
              "FloatProgress(value=0.0, bar_style='info', description='Progress:', layout=Layout(height='25px', width='50%'),…"
            ]
          },
          "metadata": {},
          "output_type": "display_data"
        }
      ],
      "source": [
        "# Unable to proceed unless \"sentiment\" column is a string\n",
        "\n",
        "hashed_td = hashed_td.withColumn(\"sentiment\", col(\"sentiment\").cast(\"string\"))"
      ]
    },
    {
      "cell_type": "code",
      "execution_count": null,
      "id": "028b73d5",
      "metadata": {
        "id": "028b73d5",
        "outputId": "91e764cc-fbcb-42da-8d5e-461ea7f96b63",
        "colab": {
          "referenced_widgets": [
            "61f8dc956be54160806aa8b687e967ca",
            ""
          ]
        }
      },
      "outputs": [
        {
          "data": {
            "application/vnd.jupyter.widget-view+json": {
              "model_id": "61f8dc956be54160806aa8b687e967ca",
              "version_major": 2,
              "version_minor": 0
            },
            "text/plain": [
              "VBox()"
            ]
          },
          "metadata": {},
          "output_type": "display_data"
        },
        {
          "data": {
            "application/vnd.jupyter.widget-view+json": {
              "model_id": "",
              "version_major": 2,
              "version_minor": 0
            },
            "text/plain": [
              "FloatProgress(value=0.0, bar_style='info', description='Progress:', layout=Layout(height='25px', width='50%'),…"
            ]
          },
          "metadata": {},
          "output_type": "display_data"
        },
        {
          "name": "stdout",
          "output_type": "stream",
          "text": [
            "Training Done"
          ]
        }
      ],
      "source": [
        "lr = LogisticRegression(labelCol = \"rating\", featuresCol = \"features\", \n",
        "                        maxIter = 10, regParam = 0.01)\n",
        "model = lr.fit(hashed_td)\n",
        "print (\"Training Done\")"
      ]
    },
    {
      "cell_type": "code",
      "execution_count": null,
      "id": "1bc98429",
      "metadata": {
        "id": "1bc98429",
        "outputId": "471b3cb7-8446-4fc2-ff14-bb276d8b7633",
        "colab": {
          "referenced_widgets": [
            "349d9bf2c9fa4cf18009cd86b8d1ea7d",
            ""
          ]
        }
      },
      "outputs": [
        {
          "data": {
            "application/vnd.jupyter.widget-view+json": {
              "model_id": "349d9bf2c9fa4cf18009cd86b8d1ea7d",
              "version_major": 2,
              "version_minor": 0
            },
            "text/plain": [
              "VBox()"
            ]
          },
          "metadata": {},
          "output_type": "display_data"
        },
        {
          "data": {
            "application/vnd.jupyter.widget-view+json": {
              "model_id": "",
              "version_major": 2,
              "version_minor": 0
            },
            "text/plain": [
              "FloatProgress(value=0.0, bar_style='info', description='Progress:', layout=Layout(height='25px', width='50%'),…"
            ]
          },
          "metadata": {},
          "output_type": "display_data"
        },
        {
          "name": "stderr",
          "output_type": "stream",
          "text": [
            "An error was encountered:\n",
            "unexpected EOF while parsing (<stdin>, line 62)\n",
            "  File \"<stdin>\", line 62\n",
            "    .addGrid(logReg_obj.elasticNetParam, [0\n",
            "                                          ^\n",
            "SyntaxError: unexpected EOF while parsing\n",
            "\n"
          ]
        }
      ],
      "source": [
        "from pyspark.ml import Pipeline\n",
        "from pyspark.ml.feature import VectorAssembler, OneHotEncoder, StringIndexer\n",
        "from pyspark.ml.classification import LogisticRegression, RandomForestClassifier\n",
        "from pyspark.ml.evaluation import MulticlassClassificationEvaluator\n",
        "from pyspark.ml.tuning import ParamGridBuilder, CrossValidator\n",
        "\n",
        "# split into train and test sets\n",
        "forest_train, forest_test = (\n",
        "    forest_df\n",
        "    .randomSplit([0.7, 0.3], seed=666)\n",
        ")\n",
        "\n",
        "# create string indexer for categorical columns\n",
        "indexer = StringIndexer(inputCols=[\"col1\", \"col2\"], outputCols=[\"col1_indexed\", \"col2_indexed\"])\n",
        "\n",
        "# create one-hot encoder for categorical columns\n",
        "encoder = OneHotEncoder(inputCols=[\"col1_indexed\", \"col2_indexed\"], outputCols=[\"col1_encoded\", \"col2_encoded\"])\n",
        "\n",
        "# convert all features to vector except for last column\n",
        "vectorAssembler = VectorAssembler(inputCols=[x for x in forest_train.columns if x != 'CoverType'], outputCol='features')\n",
        "\n",
        "# select top 10 predictors\n",
        "selector = ChiSqSelector(numTopFeatures=10, outputCol=\"selectedFeatures\", labelCol=\"CoverType\", featuresCol=\"features\")\n",
        "\n",
        "# create logistic regression object\n",
        "# DV has 7 classes\n",
        "logReg_obj = LogisticRegression(labelCol='CoverType', featuresCol='selectedFeatures', regParam=0.01, elasticNetParam=1.0, family='multinomial')\n",
        "\n",
        "# create random forest object\n",
        "rf_obj = RandomForestClassifier(labelCol='CoverType', featuresCol='features', numTrees=10, seed=666)\n",
        "\n",
        "# create pipeline of 1) string indexer, 2) one-hot encoder, 3) vector, 4) chisquare selector, 5) logistic regression\n",
        "pipeline_logReg = Pipeline(stages=[indexer, encoder, vectorAssembler, selector, logReg_obj])\n",
        "\n",
        "# create pipeline of 1) vector, 2) random forest\n",
        "pipeline_rf = Pipeline(stages=[vectorAssembler, rf_obj])\n",
        "\n",
        "# train the models\n",
        "logReg_model = pipeline_logReg.fit(forest_train)\n",
        "rf_model = pipeline_rf.fit(forest_train)\n",
        "\n",
        "# make predictions on test data\n",
        "logReg_predictions = logReg_model.transform(forest_test)\n",
        "rf_predictions = rf_model.transform(forest_test)\n",
        "\n",
        "# evaluate the models\n",
        "logReg_evaluator = MulticlassClassificationEvaluator(labelCol=\"CoverType\", predictionCol=\"prediction\", metricName=\"accuracy\")\n",
        "rf_evaluator = MulticlassClassificationEvaluator(labelCol=\"CoverType\", predictionCol=\"prediction\", metricName=\"accuracy\")\n",
        "\n",
        "logReg_accuracy = logReg_evaluator.evaluate(logReg_predictions)\n",
        "rf_accuracy = rf_evaluator.evaluate(rf_predictions)\n",
        "\n",
        "# print the accuracies\n",
        "print(\"Logistic Regression accuracy:\", logReg_accuracy)\n",
        "print(\"Random Forest accuracy:\", rf_accuracy)\n",
        "\n",
        "# use ParamGridBuilder to build a grid of parameters\n",
        "logReg_paramGrid = (ParamGridBuilder()\n",
        "                   # try 4 values for regParam\n",
        "                   .addGrid(logReg_obj.regParam, [0.0, 0.01, 0.02])\n",
        "                   # try 4 values for elasticNetParam\n",
        "                   .addGrid(logReg_obj.elasticNetParam, [0\n"
      ]
    },
    {
      "cell_type": "code",
      "execution_count": null,
      "id": "dc64ff32",
      "metadata": {
        "id": "dc64ff32",
        "outputId": "08490b25-9a55-4b53-c3fc-4288f1b05a81",
        "colab": {
          "referenced_widgets": [
            "5c9888d1bc20405ba86cdb485a97138f",
            ""
          ]
        }
      },
      "outputs": [
        {
          "data": {
            "application/vnd.jupyter.widget-view+json": {
              "model_id": "5c9888d1bc20405ba86cdb485a97138f",
              "version_major": 2,
              "version_minor": 0
            },
            "text/plain": [
              "VBox()"
            ]
          },
          "metadata": {},
          "output_type": "display_data"
        },
        {
          "data": {
            "application/vnd.jupyter.widget-view+json": {
              "model_id": "",
              "version_major": 2,
              "version_minor": 0
            },
            "text/plain": [
              "FloatProgress(value=0.0, bar_style='info', description='Progress:', layout=Layout(height='25px', width='50%'),…"
            ]
          },
          "metadata": {},
          "output_type": "display_data"
        },
        {
          "name": "stderr",
          "output_type": "stream",
          "text": [
            "An error was encountered:\n",
            "'LogisticRegressionModel' object has no attribute 'columns'\n",
            "Traceback (most recent call last):\n",
            "AttributeError: 'LogisticRegressionModel' object has no attribute 'columns'\n",
            "\n"
          ]
        }
      ],
      "source": [
        "\n",
        "# Convert all features to vector except for sentiment column\n",
        "vector_assembler = feat.VectorAssembler(\n",
        "    inputCols=[c for c in model.columns if c != 'sentiment'],\n",
        "    outputCol='features'\n",
        ")\n",
        "\n",
        "# Select top 10 predictors\n",
        "selector = feat.UnivariateFeatureSelector(\n",
        "    labelCol='sentiment',\n",
        "    outputCol='selected',\n",
        "    selectionMode='numTopFeatures'\n",
        ").setFeatureType(\"categorical\"\n",
        ").setLabelType(\"categorical\"\n",
        ").setSelectionThreshold(10) # Select top 10 features\n",
        "\n",
        "# Create a logistic regression object\n",
        "log_reg = cl.LogisticRegression(\n",
        "    labelCol='sentiment',\n",
        "    featuresCol=selector.getOutputCol(),\n",
        "    regParam=0.01,\n",
        "    elasticNetParam=1.0,\n",
        "    family='binomial' # Use binomial family for binary classification\n",
        ")\n",
        "\n",
        "# Create pipeline of 1) vector, 2) chi-square selector, 3) logistic regression\n",
        "pipeline = Pipeline(\n",
        "    stages=[\n",
        "        vector_assembler,\n",
        "        selector,\n",
        "        log_reg\n",
        "    ]\n",
        ")\n",
        "\n",
        "# Train the model\n",
        "model = pipeline.fit(train_data)\n"
      ]
    },
    {
      "cell_type": "code",
      "execution_count": null,
      "id": "0f3b8698",
      "metadata": {
        "id": "0f3b8698",
        "outputId": "c92ad9ff-d4cf-4974-bbc6-7482edc24f19",
        "colab": {
          "referenced_widgets": [
            "8333f15bfc804e3ebda89dfbfb4967ea",
            ""
          ]
        }
      },
      "outputs": [
        {
          "data": {
            "application/vnd.jupyter.widget-view+json": {
              "model_id": "8333f15bfc804e3ebda89dfbfb4967ea",
              "version_major": 2,
              "version_minor": 0
            },
            "text/plain": [
              "VBox()"
            ]
          },
          "metadata": {},
          "output_type": "display_data"
        },
        {
          "data": {
            "application/vnd.jupyter.widget-view+json": {
              "model_id": "",
              "version_major": 2,
              "version_minor": 0
            },
            "text/plain": [
              "FloatProgress(value=0.0, bar_style='info', description='Progress:', layout=Layout(height='25px', width='50%'),…"
            ]
          },
          "metadata": {},
          "output_type": "display_data"
        },
        {
          "name": "stderr",
          "output_type": "stream",
          "text": [
            "An error was encountered:\n",
            "An error occurred while calling o6501.fit.\n",
            ": org.apache.spark.SparkException: Job aborted due to stage failure: Task 1 in stage 841.0 failed 4 times, most recent failure: Lost task 1.3 in stage 841.0 (TID 6542) (ip-172-31-87-133.ec2.internal executor 7): org.apache.spark.SparkException: Failed to execute user defined function (StringIndexerModel$$Lambda$6058/444397385: (string) => double)\n",
            "\tat org.apache.spark.sql.errors.QueryExecutionErrors$.failedExecuteUserDefinedFunctionError(QueryExecutionErrors.scala:177)\n",
            "\tat org.apache.spark.sql.errors.QueryExecutionErrors.failedExecuteUserDefinedFunctionError(QueryExecutionErrors.scala)\n",
            "\tat org.apache.spark.sql.catalyst.expressions.GeneratedClass$GeneratedIteratorForCodegenStage14.hashAgg_doAggregateWithKeysOutput_0$(Unknown Source)\n",
            "\tat org.apache.spark.sql.catalyst.expressions.GeneratedClass$GeneratedIteratorForCodegenStage14.processNext(Unknown Source)\n",
            "\tat org.apache.spark.sql.execution.BufferedRowIterator.hasNext(BufferedRowIterator.java:35)\n",
            "\tat org.apache.spark.sql.catalyst.expressions.GeneratedClass$GeneratedIteratorForCodegenStage14.hasNext(Unknown Source)\n",
            "\tat org.apache.spark.sql.execution.WholeStageCodegenExec$$anon$1.hasNext(WholeStageCodegenExec.scala:968)\n",
            "\tat scala.collection.Iterator$$anon$10.hasNext(Iterator.scala:460)\n",
            "\tat scala.collection.Iterator$$anon$10.hasNext(Iterator.scala:460)\n",
            "\tat scala.collection.Iterator$$anon$10.hasNext(Iterator.scala:460)\n",
            "\tat scala.collection.Iterator.foreach(Iterator.scala:943)\n",
            "\tat scala.collection.Iterator.foreach$(Iterator.scala:943)\n",
            "\tat scala.collection.AbstractIterator.foreach(Iterator.scala:1431)\n",
            "\tat scala.collection.TraversableOnce.foldLeft(TraversableOnce.scala:199)\n",
            "\tat scala.collection.TraversableOnce.foldLeft$(TraversableOnce.scala:192)\n",
            "\tat scala.collection.AbstractIterator.foldLeft(Iterator.scala:1431)\n",
            "\tat scala.collection.TraversableOnce.aggregate(TraversableOnce.scala:260)\n",
            "\tat scala.collection.TraversableOnce.aggregate$(TraversableOnce.scala:260)\n",
            "\tat scala.collection.AbstractIterator.aggregate(Iterator.scala:1431)\n",
            "\tat org.apache.spark.rdd.RDD.$anonfun$treeAggregate$4(RDD.scala:1236)\n",
            "\tat org.apache.spark.rdd.RDD.$anonfun$treeAggregate$6(RDD.scala:1237)\n",
            "\tat org.apache.spark.rdd.RDD.$anonfun$mapPartitions$2(RDD.scala:855)\n",
            "\tat org.apache.spark.rdd.RDD.$anonfun$mapPartitions$2$adapted(RDD.scala:855)\n",
            "\tat org.apache.spark.rdd.MapPartitionsRDD.compute(MapPartitionsRDD.scala:52)\n",
            "\tat org.apache.spark.rdd.RDD.computeOrReadCheckpoint(RDD.scala:365)\n",
            "\tat org.apache.spark.rdd.RDD.iterator(RDD.scala:329)\n",
            "\tat org.apache.spark.rdd.MapPartitionsRDD.compute(MapPartitionsRDD.scala:52)\n",
            "\tat org.apache.spark.rdd.RDD.computeOrReadCheckpoint(RDD.scala:365)\n",
            "\tat org.apache.spark.rdd.RDD.iterator(RDD.scala:329)\n",
            "\tat org.apache.spark.shuffle.ShuffleWriteProcessor.write(ShuffleWriteProcessor.scala:59)\n",
            "\tat org.apache.spark.scheduler.ShuffleMapTask.runTask(ShuffleMapTask.scala:99)\n",
            "\tat org.apache.spark.scheduler.ShuffleMapTask.runTask(ShuffleMapTask.scala:52)\n",
            "\tat org.apache.spark.scheduler.Task.run(Task.scala:138)\n",
            "\tat org.apache.spark.executor.Executor$TaskRunner.$anonfun$run$3(Executor.scala:548)\n",
            "\tat org.apache.spark.util.Utils$.tryWithSafeFinally(Utils.scala:1516)\n",
            "\tat org.apache.spark.executor.Executor$TaskRunner.run(Executor.scala:551)\n",
            "\tat java.util.concurrent.ThreadPoolExecutor.runWorker(ThreadPoolExecutor.java:1149)\n",
            "\tat java.util.concurrent.ThreadPoolExecutor$Worker.run(ThreadPoolExecutor.java:624)\n",
            "\tat java.lang.Thread.run(Thread.java:750)\n",
            "Caused by: org.apache.spark.SparkException: Unseen label: [well, really, sure, happened, looked, online, said, fit, fridge, looks, exactly, old, one, leaked, night, happy, camper, like, said, fault]. To handle unseen labels, set Param handleInvalid to keep.\n",
            "\tat org.apache.spark.ml.feature.StringIndexerModel.$anonfun$getIndexer$1(StringIndexer.scala:406)\n",
            "\tat org.apache.spark.ml.feature.StringIndexerModel.$anonfun$getIndexer$1$adapted(StringIndexer.scala:391)\n",
            "\t... 37 more\n",
            "\n",
            "Driver stacktrace:\n",
            "\tat org.apache.spark.scheduler.DAGScheduler.failJobAndIndependentStages(DAGScheduler.scala:2863)\n",
            "\tat org.apache.spark.scheduler.DAGScheduler.$anonfun$abortStage$2(DAGScheduler.scala:2799)\n",
            "\tat org.apache.spark.scheduler.DAGScheduler.$anonfun$abortStage$2$adapted(DAGScheduler.scala:2798)\n",
            "\tat scala.collection.mutable.ResizableArray.foreach(ResizableArray.scala:62)\n",
            "\tat scala.collection.mutable.ResizableArray.foreach$(ResizableArray.scala:55)\n",
            "\tat scala.collection.mutable.ArrayBuffer.foreach(ArrayBuffer.scala:49)\n",
            "\tat org.apache.spark.scheduler.DAGScheduler.abortStage(DAGScheduler.scala:2798)\n",
            "\tat org.apache.spark.scheduler.DAGScheduler.$anonfun$handleTaskSetFailed$1(DAGScheduler.scala:1239)\n",
            "\tat org.apache.spark.scheduler.DAGScheduler.$anonfun$handleTaskSetFailed$1$adapted(DAGScheduler.scala:1239)\n",
            "\tat scala.Option.foreach(Option.scala:407)\n",
            "\tat org.apache.spark.scheduler.DAGScheduler.handleTaskSetFailed(DAGScheduler.scala:1239)\n",
            "\tat org.apache.spark.scheduler.DAGSchedulerEventProcessLoop.doOnReceive(DAGScheduler.scala:3051)\n",
            "\tat org.apache.spark.scheduler.DAGSchedulerEventProcessLoop.onReceive(DAGScheduler.scala:2993)\n",
            "\tat org.apache.spark.scheduler.DAGSchedulerEventProcessLoop.onReceive(DAGScheduler.scala:2982)\n",
            "\tat org.apache.spark.util.EventLoop$$anon$1.run(EventLoop.scala:49)\n",
            "\tat org.apache.spark.scheduler.DAGScheduler.runJob(DAGScheduler.scala:1009)\n",
            "\tat org.apache.spark.SparkContext.runJob(SparkContext.scala:2229)\n",
            "\tat org.apache.spark.SparkContext.runJob(SparkContext.scala:2324)\n",
            "\tat org.apache.spark.rdd.RDD.$anonfun$fold$1(RDD.scala:1174)\n",
            "\tat org.apache.spark.rdd.RDDOperationScope$.withScope(RDDOperationScope.scala:151)\n",
            "\tat org.apache.spark.rdd.RDDOperationScope$.withScope(RDDOperationScope.scala:112)\n",
            "\tat org.apache.spark.rdd.RDD.withScope(RDD.scala:406)\n",
            "\tat org.apache.spark.rdd.RDD.fold(RDD.scala:1168)\n",
            "\tat org.apache.spark.rdd.RDD.$anonfun$treeAggregate$2(RDD.scala:1267)\n",
            "\tat org.apache.spark.rdd.RDDOperationScope$.withScope(RDDOperationScope.scala:151)\n",
            "\tat org.apache.spark.rdd.RDDOperationScope$.withScope(RDDOperationScope.scala:112)\n",
            "\tat org.apache.spark.rdd.RDD.withScope(RDD.scala:406)\n",
            "\tat org.apache.spark.rdd.RDD.treeAggregate(RDD.scala:1228)\n",
            "\tat org.apache.spark.rdd.RDD.$anonfun$treeAggregate$1(RDD.scala:1214)\n",
            "\tat org.apache.spark.rdd.RDDOperationScope$.withScope(RDDOperationScope.scala:151)\n",
            "\tat org.apache.spark.rdd.RDDOperationScope$.withScope(RDDOperationScope.scala:112)\n",
            "\tat org.apache.spark.rdd.RDD.withScope(RDD.scala:406)\n",
            "\tat org.apache.spark.rdd.RDD.treeAggregate(RDD.scala:1214)\n",
            "\tat org.apache.spark.ml.stat.Summarizer$.getClassificationSummarizers(Summarizer.scala:233)\n",
            "\tat org.apache.spark.ml.classification.LogisticRegression.$anonfun$train$1(LogisticRegression.scala:512)\n",
            "\tat org.apache.spark.ml.util.Instrumentation$.$anonfun$instrumented$1(Instrumentation.scala:191)\n",
            "\tat scala.util.Try$.apply(Try.scala:213)\n",
            "\tat org.apache.spark.ml.util.Instrumentation$.instrumented(Instrumentation.scala:191)\n",
            "\tat org.apache.spark.ml.classification.LogisticRegression.train(LogisticRegression.scala:496)\n",
            "\tat org.apache.spark.ml.classification.LogisticRegression.train(LogisticRegression.scala:286)\n",
            "\tat org.apache.spark.ml.Predictor.fit(Predictor.scala:151)\n",
            "\tat sun.reflect.NativeMethodAccessorImpl.invoke0(Native Method)\n",
            "\tat sun.reflect.NativeMethodAccessorImpl.invoke(NativeMethodAccessorImpl.java:62)\n",
            "\tat sun.reflect.DelegatingMethodAccessorImpl.invoke(DelegatingMethodAccessorImpl.java:43)\n",
            "\tat java.lang.reflect.Method.invoke(Method.java:498)\n",
            "\tat py4j.reflection.MethodInvoker.invoke(MethodInvoker.java:244)\n",
            "\tat py4j.reflection.ReflectionEngine.invoke(ReflectionEngine.java:357)\n",
            "\tat py4j.Gateway.invoke(Gateway.java:282)\n",
            "\tat py4j.commands.AbstractCommand.invokeMethod(AbstractCommand.java:132)\n",
            "\tat py4j.commands.CallCommand.execute(CallCommand.java:79)\n",
            "\tat py4j.GatewayConnection.run(GatewayConnection.java:238)\n",
            "\tat java.lang.Thread.run(Thread.java:750)\n",
            "Caused by: org.apache.spark.SparkException: Failed to execute user defined function (StringIndexerModel$$Lambda$6058/444397385: (string) => double)\n",
            "\tat org.apache.spark.sql.errors.QueryExecutionErrors$.failedExecuteUserDefinedFunctionError(QueryExecutionErrors.scala:177)\n",
            "\tat org.apache.spark.sql.errors.QueryExecutionErrors.failedExecuteUserDefinedFunctionError(QueryExecutionErrors.scala)\n",
            "\tat org.apache.spark.sql.catalyst.expressions.GeneratedClass$GeneratedIteratorForCodegenStage14.hashAgg_doAggregateWithKeysOutput_0$(Unknown Source)\n",
            "\tat org.apache.spark.sql.catalyst.expressions.GeneratedClass$GeneratedIteratorForCodegenStage14.processNext(Unknown Source)\n",
            "\tat org.apache.spark.sql.execution.BufferedRowIterator.hasNext(BufferedRowIterator.java:35)\n",
            "\tat org.apache.spark.sql.catalyst.expressions.GeneratedClass$GeneratedIteratorForCodegenStage14.hasNext(Unknown Source)\n",
            "\tat org.apache.spark.sql.execution.WholeStageCodegenExec$$anon$1.hasNext(WholeStageCodegenExec.scala:968)\n",
            "\tat scala.collection.Iterator$$anon$10.hasNext(Iterator.scala:460)\n",
            "\tat scala.collection.Iterator$$anon$10.hasNext(Iterator.scala:460)\n",
            "\tat scala.collection.Iterator$$anon$10.hasNext(Iterator.scala:460)\n",
            "\tat scala.collection.Iterator.foreach(Iterator.scala:943)\n",
            "\tat scala.collection.Iterator.foreach$(Iterator.scala:943)\n",
            "\tat scala.collection.AbstractIterator.foreach(Iterator.scala:1431)\n",
            "\tat scala.collection.TraversableOnce.foldLeft(TraversableOnce.scala:199)\n",
            "\tat scala.collection.TraversableOnce.foldLeft$(TraversableOnce.scala:192)\n",
            "\tat scala.collection.AbstractIterator.foldLeft(Iterator.scala:1431)\n",
            "\tat scala.collection.TraversableOnce.aggregate(TraversableOnce.scala:260)\n",
            "\tat scala.collection.TraversableOnce.aggregate$(TraversableOnce.scala:260)\n",
            "\tat scala.collection.AbstractIterator.aggregate(Iterator.scala:1431)\n",
            "\tat org.apache.spark.rdd.RDD.$anonfun$treeAggregate$4(RDD.scala:1236)\n",
            "\tat org.apache.spark.rdd.RDD.$anonfun$treeAggregate$6(RDD.scala:1237)\n",
            "\tat org.apache.spark.rdd.RDD.$anonfun$mapPartitions$2(RDD.scala:855)\n",
            "\tat org.apache.spark.rdd.RDD.$anonfun$mapPartitions$2$adapted(RDD.scala:855)\n",
            "\tat org.apache.spark.rdd.MapPartitionsRDD.compute(MapPartitionsRDD.scala:52)\n",
            "\tat org.apache.spark.rdd.RDD.computeOrReadCheckpoint(RDD.scala:365)\n",
            "\tat org.apache.spark.rdd.RDD.iterator(RDD.scala:329)\n",
            "\tat org.apache.spark.rdd.MapPartitionsRDD.compute(MapPartitionsRDD.scala:52)\n",
            "\tat org.apache.spark.rdd.RDD.computeOrReadCheckpoint(RDD.scala:365)\n",
            "\tat org.apache.spark.rdd.RDD.iterator(RDD.scala:329)\n",
            "\tat org.apache.spark.shuffle.ShuffleWriteProcessor.write(ShuffleWriteProcessor.scala:59)\n",
            "\tat org.apache.spark.scheduler.ShuffleMapTask.runTask(ShuffleMapTask.scala:99)\n",
            "\tat org.apache.spark.scheduler.ShuffleMapTask.runTask(ShuffleMapTask.scala:52)\n",
            "\tat org.apache.spark.scheduler.Task.run(Task.scala:138)\n",
            "\tat org.apache.spark.executor.Executor$TaskRunner.$anonfun$run$3(Executor.scala:548)\n",
            "\tat org.apache.spark.util.Utils$.tryWithSafeFinally(Utils.scala:1516)\n",
            "\tat org.apache.spark.executor.Executor$TaskRunner.run(Executor.scala:551)\n",
            "\tat java.util.concurrent.ThreadPoolExecutor.runWorker(ThreadPoolExecutor.java:1149)\n",
            "\tat java.util.concurrent.ThreadPoolExecutor$Worker.run(ThreadPoolExecutor.java:624)\n",
            "\t... 1 more\n",
            "Caused by: org.apache.spark.SparkException: Unseen label: [well, really, sure, happened, looked, online, said, fit, fridge, looks, exactly, old, one, leaked, night, happy, camper, like, said, fault]. To handle unseen labels, set Param handleInvalid to keep.\n",
            "\tat org.apache.spark.ml.feature.StringIndexerModel.$anonfun$getIndexer$1(StringIndexer.scala:406)\n",
            "\tat org.apache.spark.ml.feature.StringIndexerModel.$anonfun$getIndexer$1$adapted(StringIndexer.scala:391)\n",
            "\t... 37 more\n",
            "\n",
            "Traceback (most recent call last):\n",
            "  File \"/mnt1/yarn/usercache/livy/appcache/application_1683768549765_0001/container_1683768549765_0001_01_000001/pyspark.zip/pyspark/ml/base.py\", line 205, in fit\n",
            "    return self._fit(dataset)\n",
            "  File \"/mnt1/yarn/usercache/livy/appcache/application_1683768549765_0001/container_1683768549765_0001_01_000001/pyspark.zip/pyspark/ml/wrapper.py\", line 379, in _fit\n",
            "    java_model = self._fit_java(dataset)\n",
            "  File \"/mnt1/yarn/usercache/livy/appcache/application_1683768549765_0001/container_1683768549765_0001_01_000001/pyspark.zip/pyspark/ml/wrapper.py\", line 376, in _fit_java\n",
            "    return self._java_obj.fit(dataset._jdf)\n",
            "  File \"/mnt1/yarn/usercache/livy/appcache/application_1683768549765_0001/container_1683768549765_0001_01_000001/py4j-0.10.9.5-src.zip/py4j/java_gateway.py\", line 1322, in __call__\n",
            "    answer, self.gateway_client, self.target_id, self.name)\n",
            "  File \"/mnt1/yarn/usercache/livy/appcache/application_1683768549765_0001/container_1683768549765_0001_01_000001/pyspark.zip/pyspark/sql/utils.py\", line 190, in deco\n",
            "    return f(*a, **kw)\n",
            "  File \"/mnt1/yarn/usercache/livy/appcache/application_1683768549765_0001/container_1683768549765_0001_01_000001/py4j-0.10.9.5-src.zip/py4j/protocol.py\", line 328, in get_return_value\n",
            "    format(target_id, \".\", name), value)\n",
            "py4j.protocol.Py4JJavaError: An error occurred while calling o6501.fit.\n",
            ": org.apache.spark.SparkException: Job aborted due to stage failure: Task 1 in stage 841.0 failed 4 times, most recent failure: Lost task 1.3 in stage 841.0 (TID 6542) (ip-172-31-87-133.ec2.internal executor 7): org.apache.spark.SparkException: Failed to execute user defined function (StringIndexerModel$$Lambda$6058/444397385: (string) => double)\n",
            "\tat org.apache.spark.sql.errors.QueryExecutionErrors$.failedExecuteUserDefinedFunctionError(QueryExecutionErrors.scala:177)\n",
            "\tat org.apache.spark.sql.errors.QueryExecutionErrors.failedExecuteUserDefinedFunctionError(QueryExecutionErrors.scala)\n",
            "\tat org.apache.spark.sql.catalyst.expressions.GeneratedClass$GeneratedIteratorForCodegenStage14.hashAgg_doAggregateWithKeysOutput_0$(Unknown Source)\n",
            "\tat org.apache.spark.sql.catalyst.expressions.GeneratedClass$GeneratedIteratorForCodegenStage14.processNext(Unknown Source)\n",
            "\tat org.apache.spark.sql.execution.BufferedRowIterator.hasNext(BufferedRowIterator.java:35)\n",
            "\tat org.apache.spark.sql.catalyst.expressions.GeneratedClass$GeneratedIteratorForCodegenStage14.hasNext(Unknown Source)\n",
            "\tat org.apache.spark.sql.execution.WholeStageCodegenExec$$anon$1.hasNext(WholeStageCodegenExec.scala:968)\n",
            "\tat scala.collection.Iterator$$anon$10.hasNext(Iterator.scala:460)\n",
            "\tat scala.collection.Iterator$$anon$10.hasNext(Iterator.scala:460)\n",
            "\tat scala.collection.Iterator$$anon$10.hasNext(Iterator.scala:460)\n",
            "\tat scala.collection.Iterator.foreach(Iterator.scala:943)\n",
            "\tat scala.collection.Iterator.foreach$(Iterator.scala:943)\n",
            "\tat scala.collection.AbstractIterator.foreach(Iterator.scala:1431)\n",
            "\tat scala.collection.TraversableOnce.foldLeft(TraversableOnce.scala:199)\n",
            "\tat scala.collection.TraversableOnce.foldLeft$(TraversableOnce.scala:192)\n",
            "\tat scala.collection.AbstractIterator.foldLeft(Iterator.scala:1431)\n",
            "\tat scala.collection.TraversableOnce.aggregate(TraversableOnce.scala:260)\n",
            "\tat scala.collection.TraversableOnce.aggregate$(TraversableOnce.scala:260)\n",
            "\tat scala.collection.AbstractIterator.aggregate(Iterator.scala:1431)\n",
            "\tat org.apache.spark.rdd.RDD.$anonfun$treeAggregate$4(RDD.scala:1236)\n",
            "\tat org.apache.spark.rdd.RDD.$anonfun$treeAggregate$6(RDD.scala:1237)\n",
            "\tat org.apache.spark.rdd.RDD.$anonfun$mapPartitions$2(RDD.scala:855)\n",
            "\tat org.apache.spark.rdd.RDD.$anonfun$mapPartitions$2$adapted(RDD.scala:855)\n",
            "\tat org.apache.spark.rdd.MapPartitionsRDD.compute(MapPartitionsRDD.scala:52)\n",
            "\tat org.apache.spark.rdd.RDD.computeOrReadCheckpoint(RDD.scala:365)\n",
            "\tat org.apache.spark.rdd.RDD.iterator(RDD.scala:329)\n",
            "\tat org.apache.spark.rdd.MapPartitionsRDD.compute(MapPartitionsRDD.scala:52)\n",
            "\tat org.apache.spark.rdd.RDD.computeOrReadCheckpoint(RDD.scala:365)\n",
            "\tat org.apache.spark.rdd.RDD.iterator(RDD.scala:329)\n",
            "\tat org.apache.spark.shuffle.ShuffleWriteProcessor.write(ShuffleWriteProcessor.scala:59)\n",
            "\tat org.apache.spark.scheduler.ShuffleMapTask.runTask(ShuffleMapTask.scala:99)\n",
            "\tat org.apache.spark.scheduler.ShuffleMapTask.runTask(ShuffleMapTask.scala:52)\n",
            "\tat org.apache.spark.scheduler.Task.run(Task.scala:138)\n",
            "\tat org.apache.spark.executor.Executor$TaskRunner.$anonfun$run$3(Executor.scala:548)\n",
            "\tat org.apache.spark.util.Utils$.tryWithSafeFinally(Utils.scala:1516)\n",
            "\tat org.apache.spark.executor.Executor$TaskRunner.run(Executor.scala:551)\n",
            "\tat java.util.concurrent.ThreadPoolExecutor.runWorker(ThreadPoolExecutor.java:1149)\n",
            "\tat java.util.concurrent.ThreadPoolExecutor$Worker.run(ThreadPoolExecutor.java:624)\n",
            "\tat java.lang.Thread.run(Thread.java:750)\n",
            "Caused by: org.apache.spark.SparkException: Unseen label: [well, really, sure, happened, looked, online, said, fit, fridge, looks, exactly, old, one, leaked, night, happy, camper, like, said, fault]. To handle unseen labels, set Param handleInvalid to keep.\n",
            "\tat org.apache.spark.ml.feature.StringIndexerModel.$anonfun$getIndexer$1(StringIndexer.scala:406)\n",
            "\tat org.apache.spark.ml.feature.StringIndexerModel.$anonfun$getIndexer$1$adapted(StringIndexer.scala:391)\n",
            "\t... 37 more\n",
            "\n",
            "Driver stacktrace:\n",
            "\tat org.apache.spark.scheduler.DAGScheduler.failJobAndIndependentStages(DAGScheduler.scala:2863)\n",
            "\tat org.apache.spark.scheduler.DAGScheduler.$anonfun$abortStage$2(DAGScheduler.scala:2799)\n",
            "\tat org.apache.spark.scheduler.DAGScheduler.$anonfun$abortStage$2$adapted(DAGScheduler.scala:2798)\n",
            "\tat scala.collection.mutable.ResizableArray.foreach(ResizableArray.scala:62)\n",
            "\tat scala.collection.mutable.ResizableArray.foreach$(ResizableArray.scala:55)\n",
            "\tat scala.collection.mutable.ArrayBuffer.foreach(ArrayBuffer.scala:49)\n",
            "\tat org.apache.spark.scheduler.DAGScheduler.abortStage(DAGScheduler.scala:2798)\n",
            "\tat org.apache.spark.scheduler.DAGScheduler.$anonfun$handleTaskSetFailed$1(DAGScheduler.scala:1239)\n",
            "\tat org.apache.spark.scheduler.DAGScheduler.$anonfun$handleTaskSetFailed$1$adapted(DAGScheduler.scala:1239)\n",
            "\tat scala.Option.foreach(Option.scala:407)\n",
            "\tat org.apache.spark.scheduler.DAGScheduler.handleTaskSetFailed(DAGScheduler.scala:1239)\n",
            "\tat org.apache.spark.scheduler.DAGSchedulerEventProcessLoop.doOnReceive(DAGScheduler.scala:3051)\n",
            "\tat org.apache.spark.scheduler.DAGSchedulerEventProcessLoop.onReceive(DAGScheduler.scala:2993)\n",
            "\tat org.apache.spark.scheduler.DAGSchedulerEventProcessLoop.onReceive(DAGScheduler.scala:2982)\n",
            "\tat org.apache.spark.util.EventLoop$$anon$1.run(EventLoop.scala:49)\n",
            "\tat org.apache.spark.scheduler.DAGScheduler.runJob(DAGScheduler.scala:1009)\n",
            "\tat org.apache.spark.SparkContext.runJob(SparkContext.scala:2229)\n",
            "\tat org.apache.spark.SparkContext.runJob(SparkContext.scala:2324)\n",
            "\tat org.apache.spark.rdd.RDD.$anonfun$fold$1(RDD.scala:1174)\n",
            "\tat org.apache.spark.rdd.RDDOperationScope$.withScope(RDDOperationScope.scala:151)\n",
            "\tat org.apache.spark.rdd.RDDOperationScope$.withScope(RDDOperationScope.scala:112)\n",
            "\tat org.apache.spark.rdd.RDD.withScope(RDD.scala:406)\n",
            "\tat org.apache.spark.rdd.RDD.fold(RDD.scala:1168)\n",
            "\tat org.apache.spark.rdd.RDD.$anonfun$treeAggregate$2(RDD.scala:1267)\n",
            "\tat org.apache.spark.rdd.RDDOperationScope$.withScope(RDDOperationScope.scala:151)\n",
            "\tat org.apache.spark.rdd.RDDOperationScope$.withScope(RDDOperationScope.scala:112)\n",
            "\tat org.apache.spark.rdd.RDD.withScope(RDD.scala:406)\n",
            "\tat org.apache.spark.rdd.RDD.treeAggregate(RDD.scala:1228)\n",
            "\tat org.apache.spark.rdd.RDD.$anonfun$treeAggregate$1(RDD.scala:1214)\n",
            "\tat org.apache.spark.rdd.RDDOperationScope$.withScope(RDDOperationScope.scala:151)\n",
            "\tat org.apache.spark.rdd.RDDOperationScope$.withScope(RDDOperationScope.scala:112)\n",
            "\tat org.apache.spark.rdd.RDD.withScope(RDD.scala:406)\n",
            "\tat org.apache.spark.rdd.RDD.treeAggregate(RDD.scala:1214)\n",
            "\tat org.apache.spark.ml.stat.Summarizer$.getClassificationSummarizers(Summarizer.scala:233)\n",
            "\tat org.apache.spark.ml.classification.LogisticRegression.$anonfun$train$1(LogisticRegression.scala:512)\n",
            "\tat org.apache.spark.ml.util.Instrumentation$.$anonfun$instrumented$1(Instrumentation.scala:191)\n",
            "\tat scala.util.Try$.apply(Try.scala:213)\n",
            "\tat org.apache.spark.ml.util.Instrumentation$.instrumented(Instrumentation.scala:191)\n",
            "\tat org.apache.spark.ml.classification.LogisticRegression.train(LogisticRegression.scala:496)\n",
            "\tat org.apache.spark.ml.classification.LogisticRegression.train(LogisticRegression.scala:286)\n",
            "\tat org.apache.spark.ml.Predictor.fit(Predictor.scala:151)\n",
            "\tat sun.reflect.NativeMethodAccessorImpl.invoke0(Native Method)\n",
            "\tat sun.reflect.NativeMethodAccessorImpl.invoke(NativeMethodAccessorImpl.java:62)\n",
            "\tat sun.reflect.DelegatingMethodAccessorImpl.invoke(DelegatingMethodAccessorImpl.java:43)\n",
            "\tat java.lang.reflect.Method.invoke(Method.java:498)\n",
            "\tat py4j.reflection.MethodInvoker.invoke(MethodInvoker.java:244)\n",
            "\tat py4j.reflection.ReflectionEngine.invoke(ReflectionEngine.java:357)\n",
            "\tat py4j.Gateway.invoke(Gateway.java:282)\n",
            "\tat py4j.commands.AbstractCommand.invokeMethod(AbstractCommand.java:132)\n",
            "\tat py4j.commands.CallCommand.execute(CallCommand.java:79)\n",
            "\tat py4j.GatewayConnection.run(GatewayConnection.java:238)\n",
            "\tat java.lang.Thread.run(Thread.java:750)\n",
            "Caused by: org.apache.spark.SparkException: Failed to execute user defined function (StringIndexerModel$$Lambda$6058/444397385: (string) => double)\n",
            "\tat org.apache.spark.sql.errors.QueryExecutionErrors$.failedExecuteUserDefinedFunctionError(QueryExecutionErrors.scala:177)\n",
            "\tat org.apache.spark.sql.errors.QueryExecutionErrors.failedExecuteUserDefinedFunctionError(QueryExecutionErrors.scala)\n",
            "\tat org.apache.spark.sql.catalyst.expressions.GeneratedClass$GeneratedIteratorForCodegenStage14.hashAgg_doAggregateWithKeysOutput_0$(Unknown Source)\n",
            "\tat org.apache.spark.sql.catalyst.expressions.GeneratedClass$GeneratedIteratorForCodegenStage14.processNext(Unknown Source)\n",
            "\tat org.apache.spark.sql.execution.BufferedRowIterator.hasNext(BufferedRowIterator.java:35)\n",
            "\tat org.apache.spark.sql.catalyst.expressions.GeneratedClass$GeneratedIteratorForCodegenStage14.hasNext(Unknown Source)\n",
            "\tat org.apache.spark.sql.execution.WholeStageCodegenExec$$anon$1.hasNext(WholeStageCodegenExec.scala:968)\n",
            "\tat scala.collection.Iterator$$anon$10.hasNext(Iterator.scala:460)\n",
            "\tat scala.collection.Iterator$$anon$10.hasNext(Iterator.scala:460)\n",
            "\tat scala.collection.Iterator$$anon$10.hasNext(Iterator.scala:460)\n",
            "\tat scala.collection.Iterator.foreach(Iterator.scala:943)\n",
            "\tat scala.collection.Iterator.foreach$(Iterator.scala:943)\n",
            "\tat scala.collection.AbstractIterator.foreach(Iterator.scala:1431)\n",
            "\tat scala.collection.TraversableOnce.foldLeft(TraversableOnce.scala:199)\n",
            "\tat scala.collection.TraversableOnce.foldLeft$(TraversableOnce.scala:192)\n",
            "\tat scala.collection.AbstractIterator.foldLeft(Iterator.scala:1431)\n",
            "\tat scala.collection.TraversableOnce.aggregate(TraversableOnce.scala:260)\n",
            "\tat scala.collection.TraversableOnce.aggregate$(TraversableOnce.scala:260)\n",
            "\tat scala.collection.AbstractIterator.aggregate(Iterator.scala:1431)\n",
            "\tat org.apache.spark.rdd.RDD.$anonfun$treeAggregate$4(RDD.scala:1236)\n",
            "\tat org.apache.spark.rdd.RDD.$anonfun$treeAggregate$6(RDD.scala:1237)\n",
            "\tat org.apache.spark.rdd.RDD.$anonfun$mapPartitions$2(RDD.scala:855)\n",
            "\tat org.apache.spark.rdd.RDD.$anonfun$mapPartitions$2$adapted(RDD.scala:855)\n",
            "\tat org.apache.spark.rdd.MapPartitionsRDD.compute(MapPartitionsRDD.scala:52)\n",
            "\tat org.apache.spark.rdd.RDD.computeOrReadCheckpoint(RDD.scala:365)\n",
            "\tat org.apache.spark.rdd.RDD.iterator(RDD.scala:329)\n",
            "\tat org.apache.spark.rdd.MapPartitionsRDD.compute(MapPartitionsRDD.scala:52)\n",
            "\tat org.apache.spark.rdd.RDD.computeOrReadCheckpoint(RDD.scala:365)\n",
            "\tat org.apache.spark.rdd.RDD.iterator(RDD.scala:329)\n",
            "\tat org.apache.spark.shuffle.ShuffleWriteProcessor.write(ShuffleWriteProcessor.scala:59)\n",
            "\tat org.apache.spark.scheduler.ShuffleMapTask.runTask(ShuffleMapTask.scala:99)\n",
            "\tat org.apache.spark.scheduler.ShuffleMapTask.runTask(ShuffleMapTask.scala:52)\n",
            "\tat org.apache.spark.scheduler.Task.run(Task.scala:138)\n",
            "\tat org.apache.spark.executor.Executor$TaskRunner.$anonfun$run$3(Executor.scala:548)\n",
            "\tat org.apache.spark.util.Utils$.tryWithSafeFinally(Utils.scala:1516)\n",
            "\tat org.apache.spark.executor.Executor$TaskRunner.run(Executor.scala:551)\n",
            "\tat java.util.concurrent.ThreadPoolExecutor.runWorker(ThreadPoolExecutor.java:1149)\n",
            "\tat java.util.concurrent.ThreadPoolExecutor$Worker.run(ThreadPoolExecutor.java:624)\n",
            "\t... 1 more\n",
            "Caused by: org.apache.spark.SparkException: Unseen label: [well, really, sure, happened, looked, online, said, fit, fridge, looks, exactly, old, one, leaked, night, happy, camper, like, said, fault]. To handle unseen labels, set Param handleInvalid to keep.\n",
            "\tat org.apache.spark.ml.feature.StringIndexerModel.$anonfun$getIndexer$1(StringIndexer.scala:406)\n",
            "\tat org.apache.spark.ml.feature.StringIndexerModel.$anonfun$getIndexer$1$adapted(StringIndexer.scala:391)\n",
            "\t... 37 more\n",
            "\n",
            "\n"
          ]
        }
      ],
      "source": [
        "# Define LabelIndexer\n",
        "label_idx = StringIndexer(inputCol = 'sentiment', outputCol = 'sentiment_class')\n",
        "indexed_td = label_idx.fit(hashed_td).transform(hashed_td)\n",
        "\n",
        "\n",
        "# Define VectorAssembler\n",
        "va = VectorAssembler(inputCols = ['features'], outputCol = 'features_vector')\n",
        "ass_td = va.transform(indexed_td)\n",
        "\n",
        "# Create logistics regression for classification\n",
        "lr = LogisticRegression(featuresCol = 'features_vector', labelCol = 'sentiment_class')\n",
        "lr_model = lr.fit(ass_td)\n"
      ]
    },
    {
      "cell_type": "code",
      "execution_count": null,
      "id": "008933db",
      "metadata": {
        "id": "008933db"
      },
      "outputs": [],
      "source": [
        "\n",
        "# Define evaluator for classification\n",
        "evaluator = MulticlassClassificationEvaluator(\n",
        "    labelCol = 'sentiment_class',\n",
        "    predictionCol = 'prediction',\n",
        "    metricName = 'accuracy'\n",
        ")"
      ]
    },
    {
      "cell_type": "code",
      "execution_count": null,
      "id": "addb5152",
      "metadata": {
        "id": "addb5152",
        "outputId": "9a9de6de-ddb3-4269-fe98-4406d9032944",
        "colab": {
          "referenced_widgets": [
            "68dc4b2c32c64ffea926f1963f42ffe1",
            ""
          ]
        }
      },
      "outputs": [
        {
          "data": {
            "application/vnd.jupyter.widget-view+json": {
              "model_id": "68dc4b2c32c64ffea926f1963f42ffe1",
              "version_major": 2,
              "version_minor": 0
            },
            "text/plain": [
              "VBox()"
            ]
          },
          "metadata": {},
          "output_type": "display_data"
        },
        {
          "data": {
            "application/vnd.jupyter.widget-view+json": {
              "model_id": "",
              "version_major": 2,
              "version_minor": 0
            },
            "text/plain": [
              "FloatProgress(value=0.0, bar_style='info', description='Progress:', layout=Layout(height='25px', width='50%'),…"
            ]
          },
          "metadata": {},
          "output_type": "display_data"
        },
        {
          "name": "stderr",
          "output_type": "stream",
          "text": [
            "An error was encountered:\n",
            "name 'va' is not defined\n",
            "Traceback (most recent call last):\n",
            "NameError: name 'va' is not defined\n",
            "\n"
          ]
        }
      ],
      "source": [
        "#Create a pipeline\n",
        "\n",
        "pipeline = Pipeline(stages = [tokenizer, hashing_tf, label_idx, va, lr])"
      ]
    },
    {
      "cell_type": "code",
      "execution_count": null,
      "id": "bf940076",
      "metadata": {
        "id": "bf940076",
        "outputId": "fba088df-cd76-4016-db8f-b4f84a43b4f1",
        "colab": {
          "referenced_widgets": [
            "3db0789d258d4d4d832256650f93384c",
            ""
          ]
        }
      },
      "outputs": [
        {
          "data": {
            "application/vnd.jupyter.widget-view+json": {
              "model_id": "3db0789d258d4d4d832256650f93384c",
              "version_major": 2,
              "version_minor": 0
            },
            "text/plain": [
              "VBox()"
            ]
          },
          "metadata": {},
          "output_type": "display_data"
        },
        {
          "data": {
            "application/vnd.jupyter.widget-view+json": {
              "model_id": "",
              "version_major": 2,
              "version_minor": 0
            },
            "text/plain": [
              "FloatProgress(value=0.0, bar_style='info', description='Progress:', layout=Layout(height='25px', width='50%'),…"
            ]
          },
          "metadata": {},
          "output_type": "display_data"
        },
        {
          "name": "stderr",
          "output_type": "stream",
          "text": [
            "An error was encountered:\n",
            "name 'lr' is not defined\n",
            "Traceback (most recent call last):\n",
            "NameError: name 'lr' is not defined\n",
            "\n"
          ]
        }
      ],
      "source": [
        "# Use ParamGridBuilder to build a grid of parameters\n",
        "\n",
        "param_grid = (\n",
        "    ParamGridBuilder()\n",
        "    # Test 4 values for regParam\n",
        "    .addGrid(lr.regParam, [0.0, 0.01, 0.02])\n",
        "    # Test 4 values for elasticNetParam\n",
        "    .addGrid(lr.elasticNetParam, [0.0, 0.5, 1.0])\n",
        "    .build()\n",
        ")"
      ]
    },
    {
      "cell_type": "code",
      "execution_count": null,
      "id": "839507f7",
      "metadata": {
        "id": "839507f7",
        "outputId": "ea9e19cb-40ec-4094-a8d8-f6d1920b1a27",
        "colab": {
          "referenced_widgets": [
            "16e7b3a0cbbe4557aa306becef4747cb",
            ""
          ]
        }
      },
      "outputs": [
        {
          "data": {
            "application/vnd.jupyter.widget-view+json": {
              "model_id": "16e7b3a0cbbe4557aa306becef4747cb",
              "version_major": 2,
              "version_minor": 0
            },
            "text/plain": [
              "VBox()"
            ]
          },
          "metadata": {},
          "output_type": "display_data"
        },
        {
          "data": {
            "application/vnd.jupyter.widget-view+json": {
              "model_id": "",
              "version_major": 2,
              "version_minor": 0
            },
            "text/plain": [
              "FloatProgress(value=0.0, bar_style='info', description='Progress:', layout=Layout(height='25px', width='50%'),…"
            ]
          },
          "metadata": {},
          "output_type": "display_data"
        },
        {
          "name": "stderr",
          "output_type": "stream",
          "text": [
            "An error was encountered:\n",
            "name 'pipeline' is not defined\n",
            "Traceback (most recent call last):\n",
            "NameError: name 'pipeline' is not defined\n",
            "\n"
          ]
        }
      ],
      "source": [
        "# CrossValidator will search over the parameter grid made and determine the best model\n",
        "\n",
        "cv = CrossValidator(\n",
        "    estimator = pipeline,\n",
        "    estimatorParamMaps = param_grid,\n",
        "    evaluator = evaluator,\n",
        "    numFolds = 10\n",
        ")"
      ]
    },
    {
      "cell_type": "code",
      "execution_count": null,
      "id": "52e07165",
      "metadata": {
        "id": "52e07165",
        "outputId": "6871c7a5-1bcc-40a2-cb82-4b8288c5bb3f",
        "colab": {
          "referenced_widgets": [
            "66613a1393674ec6b69b04a8276957ac",
            ""
          ]
        }
      },
      "outputs": [
        {
          "data": {
            "application/vnd.jupyter.widget-view+json": {
              "model_id": "66613a1393674ec6b69b04a8276957ac",
              "version_major": 2,
              "version_minor": 0
            },
            "text/plain": [
              "VBox()"
            ]
          },
          "metadata": {},
          "output_type": "display_data"
        },
        {
          "data": {
            "application/vnd.jupyter.widget-view+json": {
              "model_id": "",
              "version_major": 2,
              "version_minor": 0
            },
            "text/plain": [
              "FloatProgress(value=0.0, bar_style='info', description='Progress:', layout=Layout(height='25px', width='50%'),…"
            ]
          },
          "metadata": {},
          "output_type": "display_data"
        },
        {
          "name": "stdout",
          "output_type": "stream",
          "text": [
            "['reviews', 'rating']"
          ]
        }
      ],
      "source": [
        "# Tokenize the text\n",
        "tokenizer = Tokenizer(inputCol=\"reviewText\", outputCol=\"sentiment\")\n",
        "\n",
        "# Convert the words into feature vectors\n",
        "hashing_tf = HashingTF(inputCol=\"sentiment\", outputCol=\"features\")\n",
        "\n",
        "# Define LabelIndexer\n",
        "label_idx = StringIndexer(inputCol='overall', outputCol='label')\n",
        "\n",
        "# Define VectorAssembler\n",
        "assembler = VectorAssembler(inputCols=['features'], outputCol='features_vec')\n",
        "\n",
        "# Create a logistic regression model\n",
        "lr = LogisticRegression(featuresCol='features_vec', labelCol='label')\n",
        "\n",
        "# Define evaluator for classification\n",
        "evaluator = MulticlassClassificationEvaluator(labelCol='label', predictionCol='prediction', metricName='accuracy')\n",
        "\n",
        "# Create a pipeline\n",
        "pipeline = Pipeline(stages=[tokenizer, hashing_tf, label_idx, assembler, lr])\n"
      ]
    },
    {
      "cell_type": "code",
      "execution_count": null,
      "id": "83e18490",
      "metadata": {
        "id": "83e18490",
        "outputId": "c13370af-6f5d-4bb1-9b0b-6acb7cc9ee9f",
        "colab": {
          "referenced_widgets": [
            "c2cfe322d0db4f9398f0e5a09f4b9bb3",
            ""
          ]
        }
      },
      "outputs": [
        {
          "data": {
            "application/vnd.jupyter.widget-view+json": {
              "model_id": "c2cfe322d0db4f9398f0e5a09f4b9bb3",
              "version_major": 2,
              "version_minor": 0
            },
            "text/plain": [
              "VBox()"
            ]
          },
          "metadata": {},
          "output_type": "display_data"
        },
        {
          "data": {
            "application/vnd.jupyter.widget-view+json": {
              "model_id": "",
              "version_major": 2,
              "version_minor": 0
            },
            "text/plain": [
              "FloatProgress(value=0.0, bar_style='info', description='Progress:', layout=Layout(height='25px', width='50%'),…"
            ]
          },
          "metadata": {},
          "output_type": "display_data"
        },
        {
          "name": "stderr",
          "output_type": "stream",
          "text": [
            "An error was encountered:\n",
            "name 'cv' is not defined\n",
            "Traceback (most recent call last):\n",
            "NameError: name 'cv' is not defined\n",
            "\n"
          ]
        }
      ],
      "source": [
        "# Fit the model\n",
        "\n",
        "cv_model = cv.fit(train_data)\n",
        "pred = cv_model.transform(test_data)\n",
        "accuracy = evaluator.evaluate(pred)\n",
        "print(\"Accuracy: {}\".format(accuracy))\n"
      ]
    },
    {
      "cell_type": "code",
      "execution_count": null,
      "id": "cc6e9a12",
      "metadata": {
        "id": "cc6e9a12",
        "outputId": "fb75a35c-12e0-408d-d016-618e40d446d2",
        "colab": {
          "referenced_widgets": [
            "f1e9095da10e4048b32dbfcdeec5630e",
            ""
          ]
        }
      },
      "outputs": [
        {
          "data": {
            "application/vnd.jupyter.widget-view+json": {
              "model_id": "f1e9095da10e4048b32dbfcdeec5630e",
              "version_major": 2,
              "version_minor": 0
            },
            "text/plain": [
              "VBox()"
            ]
          },
          "metadata": {},
          "output_type": "display_data"
        },
        {
          "data": {
            "application/vnd.jupyter.widget-view+json": {
              "model_id": "",
              "version_major": 2,
              "version_minor": 0
            },
            "text/plain": [
              "FloatProgress(value=0.0, bar_style='info', description='Progress:', layout=Layout(height='25px', width='50%'),…"
            ]
          },
          "metadata": {},
          "output_type": "display_data"
        },
        {
          "name": "stderr",
          "output_type": "stream",
          "text": [
            "An error was encountered:\n",
            "name 'hashTF' is not defined\n",
            "Traceback (most recent call last):\n",
            "NameError: name 'hashTF' is not defined\n",
            "\n"
          ]
        }
      ],
      "source": [
        "numericTrain = hashTF.transform(df_final)\n",
        "numericTrain.show()"
      ]
    },
    {
      "cell_type": "code",
      "execution_count": null,
      "id": "6013f1f8",
      "metadata": {
        "id": "6013f1f8",
        "outputId": "b5c77c84-f830-49da-b576-36d38a9b9ef7",
        "colab": {
          "referenced_widgets": [
            "d6cc18edaff0451caf998941e1328858",
            ""
          ]
        }
      },
      "outputs": [
        {
          "data": {
            "application/vnd.jupyter.widget-view+json": {
              "model_id": "d6cc18edaff0451caf998941e1328858",
              "version_major": 2,
              "version_minor": 0
            },
            "text/plain": [
              "VBox()"
            ]
          },
          "metadata": {},
          "output_type": "display_data"
        },
        {
          "data": {
            "application/vnd.jupyter.widget-view+json": {
              "model_id": "",
              "version_major": 2,
              "version_minor": 0
            },
            "text/plain": [
              "FloatProgress(value=0.0, bar_style='info', description='Progress:', layout=Layout(height='25px', width='50%'),…"
            ]
          },
          "metadata": {},
          "output_type": "display_data"
        },
        {
          "name": "stderr",
          "output_type": "stream",
          "text": [
            "An error was encountered:\n",
            "name 'numericTrain' is not defined\n",
            "Traceback (most recent call last):\n",
            "NameError: name 'numericTrain' is not defined\n",
            "\n"
          ]
        }
      ],
      "source": [
        "#logestic regression -- need to fine tune hyperparam as required\n",
        "lr = LogisticRegression(labelCol=\"rating\", featuresCol=\"features\", \n",
        "                        maxIter=10, regParam=0.01)\n",
        "model = lr.fit(numericTrain)\n",
        "print (\"Training Done\")"
      ]
    },
    {
      "cell_type": "markdown",
      "id": "54f5a3e5",
      "metadata": {
        "id": "54f5a3e5"
      },
      "source": [
        "# Random Forest "
      ]
    },
    {
      "cell_type": "code",
      "execution_count": null,
      "id": "ee5299df",
      "metadata": {
        "id": "ee5299df",
        "outputId": "6f489dda-3dd2-4cc1-d5b4-910b47017555",
        "colab": {
          "referenced_widgets": [
            "3689e4bf81454179b20d1129beb7d68a",
            ""
          ]
        }
      },
      "outputs": [
        {
          "data": {
            "application/vnd.jupyter.widget-view+json": {
              "model_id": "3689e4bf81454179b20d1129beb7d68a",
              "version_major": 2,
              "version_minor": 0
            },
            "text/plain": [
              "VBox()"
            ]
          },
          "metadata": {},
          "output_type": "display_data"
        },
        {
          "data": {
            "application/vnd.jupyter.widget-view+json": {
              "model_id": "",
              "version_major": 2,
              "version_minor": 0
            },
            "text/plain": [
              "FloatProgress(value=0.0, bar_style='info', description='Progress:', layout=Layout(height='25px', width='50%'),…"
            ]
          },
          "metadata": {},
          "output_type": "display_data"
        },
        {
          "name": "stderr",
          "output_type": "stream",
          "text": [
            "An error was encountered:\n",
            "features does not exist. Available: reviews, rating\n",
            "Traceback (most recent call last):\n",
            "  File \"/mnt1/yarn/usercache/livy/appcache/application_1683768549765_0001/container_1683768549765_0001_01_000001/pyspark.zip/pyspark/ml/base.py\", line 262, in transform\n",
            "    return self._transform(dataset)\n",
            "  File \"/mnt1/yarn/usercache/livy/appcache/application_1683768549765_0001/container_1683768549765_0001_01_000001/pyspark.zip/pyspark/ml/pipeline.py\", line 304, in _transform\n",
            "    dataset = t.transform(dataset)\n",
            "  File \"/mnt1/yarn/usercache/livy/appcache/application_1683768549765_0001/container_1683768549765_0001_01_000001/pyspark.zip/pyspark/ml/base.py\", line 262, in transform\n",
            "    return self._transform(dataset)\n",
            "  File \"/mnt1/yarn/usercache/livy/appcache/application_1683768549765_0001/container_1683768549765_0001_01_000001/pyspark.zip/pyspark/ml/wrapper.py\", line 396, in _transform\n",
            "    return DataFrame(self._java_obj.transform(dataset._jdf), dataset.sparkSession)\n",
            "  File \"/mnt1/yarn/usercache/livy/appcache/application_1683768549765_0001/container_1683768549765_0001_01_000001/py4j-0.10.9.5-src.zip/py4j/java_gateway.py\", line 1322, in __call__\n",
            "    answer, self.gateway_client, self.target_id, self.name)\n",
            "  File \"/mnt1/yarn/usercache/livy/appcache/application_1683768549765_0001/container_1683768549765_0001_01_000001/pyspark.zip/pyspark/sql/utils.py\", line 196, in deco\n",
            "    raise converted from None\n",
            "pyspark.sql.utils.IllegalArgumentException: features does not exist. Available: reviews, rating\n",
            "\n"
          ]
        }
      ],
      "source": [
        "import pyspark.ml.tuning as tune\n",
        "import pyspark.ml.classification as cl\n",
        "import pyspark.ml.evaluation as ev\n",
        "\n",
        "\n",
        "vectorAssembler = feat.VectorAssembler(\n",
        "    inputCols=[\"features\"]\n",
        "    , outputCol='feature_vector')\n",
        "\n",
        "rf_obj = cl.RandomForestClassifier(\n",
        "    labelCol='label'\n",
        "    , featuresCol='feature_vector'\n",
        ")\n",
        "\n",
        "#use ParamGridBuilder to build a grid of parameters\n",
        "rf_grid = (\n",
        "    tune.ParamGridBuilder()\n",
        "    #try 3 values for numTrees\n",
        "    .addGrid(rf_obj.numTrees\n",
        "            , [5, 10, 15]\n",
        "        )\n",
        "    #try 3 values for maxDepth\n",
        "    .addGrid(rf_obj.maxDepth\n",
        "            , [5, 10, 15]\n",
        "        )\n",
        "    .build()\n",
        ")\n",
        "\n",
        "rf_ev = ev.MulticlassClassificationEvaluator(\n",
        "    predictionCol='prediction'\n",
        "        , labelCol='label')\n",
        "\n",
        "# use K-fold cross validation for grid search\n",
        "# CrossValidator binds all of these together\n",
        "# default value is k=3\n",
        "cross_v = tune.CrossValidator(\n",
        "    estimator=rf_obj\n",
        "    , estimatorParamMaps=rf_grid\n",
        "    , evaluator=rf_ev\n",
        ")\n",
        "\n",
        "pipeline = Pipeline(stages=[vectorAssembler])\n",
        "data_trans = pipeline.fit(df_review)\n",
        "\n",
        "rf_modelTest = cross_v.fit(\n",
        "    data_trans.transform(df_review)\n",
        ")\n",
        "\n",
        "print('Best params - numTrees: {}, maxDepth: {}'.format(\n",
        "    rf_modelTest.bestModel._java_obj.getNumTrees(),\n",
        "      rf_modelTest.bestModel._java_obj.getMaxDepth()))\n",
        "\n",
        "import pandas as pd\n",
        "tuning_results = pd.DataFrame([list(x.values()) for x in rf_grid], columns=['numTrees', 'maxDepth'])\n",
        "tuning_results['F-1'] = rf_modelTest.avgMetrics\n",
        "tuning_results.sort_values('F-1', ascending=False)\n"
      ]
    },
    {
      "cell_type": "code",
      "execution_count": null,
      "id": "15216a01",
      "metadata": {
        "id": "15216a01"
      },
      "outputs": [],
      "source": []
    }
  ],
  "metadata": {
    "kernelspec": {
      "display_name": "PySpark",
      "language": "python",
      "name": "pysparkkernel"
    },
    "language_info": {
      "codemirror_mode": {
        "name": "python",
        "version": 3
      },
      "file_extension": ".py",
      "mimetype": "text/x-python",
      "name": "pyspark",
      "pygments_lexer": "python3"
    },
    "colab": {
      "provenance": []
    }
  },
  "nbformat": 4,
  "nbformat_minor": 5
}