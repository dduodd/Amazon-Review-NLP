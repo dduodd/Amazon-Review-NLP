{
  "cells": [
    {
      "cell_type": "code",
      "execution_count": null,
      "id": "24771019",
      "metadata": {
        "id": "24771019",
        "outputId": "6bd5288b-8ee9-4acc-ca3d-0684e56d7518",
        "colab": {
          "referenced_widgets": [
            "d836e3abe2da44e4857f473e1faae1d1",
            ""
          ]
        }
      },
      "outputs": [
        {
          "data": {
            "application/vnd.jupyter.widget-view+json": {
              "model_id": "d836e3abe2da44e4857f473e1faae1d1",
              "version_major": 2,
              "version_minor": 0
            },
            "text/plain": [
              "VBox()"
            ]
          },
          "metadata": {},
          "output_type": "display_data"
        },
        {
          "name": "stdout",
          "output_type": "stream",
          "text": [
            "Starting Spark application\n"
          ]
        },
        {
          "data": {
            "text/html": [
              "<table>\n",
              "<tr><th>ID</th><th>YARN Application ID</th><th>Kind</th><th>State</th><th>Spark UI</th><th>Driver log</th><th>User</th><th>Current session?</th></tr><tr><td>2</td><td>application_1682627123102_0003</td><td>pyspark</td><td>idle</td><td><a target=\"_blank\" href=\"http://ip-172-31-11-148.ec2.internal:20888/proxy/application_1682627123102_0003/\" class=\"emr-proxy-link\" emr-resource=\"j-14N4DO0HNRJCR\n",
              "\" application-id=\"application_1682627123102_0003\">Link</a></td><td><a target=\"_blank\" href=\"http://ip-172-31-10-246.ec2.internal:8042/node/containerlogs/container_1682627123102_0003_01_000001/livy\" >Link</a></td><td>None</td><td>✔</td></tr></table>"
            ],
            "text/plain": [
              "<IPython.core.display.HTML object>"
            ]
          },
          "metadata": {},
          "output_type": "display_data"
        },
        {
          "data": {
            "application/vnd.jupyter.widget-view+json": {
              "model_id": "",
              "version_major": 2,
              "version_minor": 0
            },
            "text/plain": [
              "FloatProgress(value=0.0, bar_style='info', description='Progress:', layout=Layout(height='25px', width='50%'),…"
            ]
          },
          "metadata": {},
          "output_type": "display_data"
        },
        {
          "name": "stdout",
          "output_type": "stream",
          "text": [
            "SparkSession available as 'spark'.\n"
          ]
        },
        {
          "data": {
            "application/vnd.jupyter.widget-view+json": {
              "model_id": "",
              "version_major": 2,
              "version_minor": 0
            },
            "text/plain": [
              "FloatProgress(value=0.0, bar_style='info', description='Progress:', layout=Layout(height='25px', width='50%'),…"
            ]
          },
          "metadata": {},
          "output_type": "display_data"
        }
      ],
      "source": [
        "#import db"
      ]
    },
    {
      "cell_type": "code",
      "execution_count": null,
      "id": "5495aec9",
      "metadata": {
        "id": "5495aec9",
        "outputId": "3bd39e56-82a4-4b08-9ec6-791361291f17",
        "colab": {
          "referenced_widgets": [
            "6f1861947a6b4f15a4968664adb85c3c",
            ""
          ]
        }
      },
      "outputs": [
        {
          "data": {
            "application/vnd.jupyter.widget-view+json": {
              "model_id": "6f1861947a6b4f15a4968664adb85c3c",
              "version_major": 2,
              "version_minor": 0
            },
            "text/plain": [
              "VBox()"
            ]
          },
          "metadata": {},
          "output_type": "display_data"
        },
        {
          "data": {
            "application/vnd.jupyter.widget-view+json": {
              "model_id": "",
              "version_major": 2,
              "version_minor": 0
            },
            "text/plain": [
              "FloatProgress(value=0.0, bar_style='info', description='Progress:', layout=Layout(height='25px', width='50%'),…"
            ]
          },
          "metadata": {},
          "output_type": "display_data"
        }
      ],
      "source": [
        "from pyspark.sql import Window\n",
        "from pyspark.sql import functions as F \n",
        "from pyspark.sql.functions import *\n",
        "from pyspark.sql.types import *\n",
        "import pyspark.pandas as ps\n",
        "import pandas as pd"
      ]
    },
    {
      "cell_type": "code",
      "execution_count": null,
      "id": "a98cca14",
      "metadata": {
        "id": "a98cca14",
        "outputId": "e311a14b-c751-4fba-b0ae-d1fe2c9690dc",
        "colab": {
          "referenced_widgets": [
            "35b77b08a422439dab66a1fddcd3b19b",
            ""
          ]
        }
      },
      "outputs": [
        {
          "data": {
            "application/vnd.jupyter.widget-view+json": {
              "model_id": "35b77b08a422439dab66a1fddcd3b19b",
              "version_major": 2,
              "version_minor": 0
            },
            "text/plain": [
              "VBox()"
            ]
          },
          "metadata": {},
          "output_type": "display_data"
        },
        {
          "data": {
            "application/vnd.jupyter.widget-view+json": {
              "model_id": "",
              "version_major": 2,
              "version_minor": 0
            },
            "text/plain": [
              "FloatProgress(value=0.0, bar_style='info', description='Progress:', layout=Layout(height='25px', width='50%'),…"
            ]
          },
          "metadata": {},
          "output_type": "display_data"
        },
        {
          "name": "stdout",
          "output_type": "stream",
          "text": [
            "+----------+-------+--------------------+--------------+--------------------+--------------------+----+\n",
            "|      asin|overall|          reviewText|    reviewerID|        reviewerName|             summary|vote|\n",
            "+----------+-------+--------------------+--------------+--------------------+--------------------+----+\n",
            "|1118461304|    5.0|Not one thing in ...|A3NHUQ33CFH3VM|              Greeny|Clear on what lea...|   2|\n",
            "|1118461304|    5.0|As I began to rea...|A26JGAM6GZMM4V|       Robert Morris|How and why it is...|  10|\n",
            "|1118461304|    4.0|A compelling book...|A3VF3A5A3O04E1|           spsanders|Strangely Interes...|   2|\n",
            "|1118461304|    5.0|Alan Gregerman's ...|A14DW5UMQ1M96O|        Mike Jannini|The Power of Inno...|   3|\n",
            "|1118461304|    5.0|I usually find bu...|A2I5QME4S7CLFI|            Laura F.|A New Twist on Ou...|   2|\n",
            "|1118461304|    4.0|Seriously! We alw...|A33HIV8RXRDM88|     Kanishk Rastogi|First 20 pages wi...|   2|\n",
            "|1118461304|    5.0|Very thought prov...| ALZ2S4839OZUQ|Darrell A. Kammer...|Best recent book ...|   5|\n",
            "|B00004SQHD|    5.0|Needed another co...|A2KG6AWJSWILPR|  Christopher J Park|         Perfect Fit|   2|\n",
            "|B00004YWK2|    5.0|This allows you t...|A2UAX5WTHHKBBF|      Mark S. Holden|   A wonderful idea.|  30|\n",
            "|B00004YWK2|    5.0|This works exactl...| ALNRBNT7WMHCQ|          Keeya Judd|Cheap but does th...|   2|\n",
            "|B00004YWK2|    4.0|I considered this...| AJUJNCLKHWJD4|               Rezin|This is a great s...|   2|\n",
            "|B00004YWK2|    1.0|First I'll say th...|A2WJIDZ6PKRE8R|             Rachael|Leaks air like us...|   4|\n",
            "|B00004YWK2|    5.0|This is a very co...| AOYXV10BM183J|            Mellissa|Greatest Inventio...|   2|\n",
            "|B00004YWK2|    2.0|There is a small ...| AUFMOG33T7YNH|              gjd618|Can only be used ...|   4|\n",
            "|B00004YWK2|    5.0|First this is bes...|A2DIQTZPF26T1L|            Snowmass|Awesome simple me...|   5|\n",
            "|B00004YWK2|    4.0|First of all, let...|A2AE8D96OG49C3|         El__Quijote|Perfect for me, w...|   2|\n",
            "|B00004YWK2|    4.0|Got it today, ins...|A1Y9K3QLN51BXF|               MattD|I've been missing...|   2|\n",
            "|B00004YWK2|    2.0|Poorly engineered...| A6MDJBO9LWDGH|      HiggetyPiggety|       Disappointing|   3|\n",
            "|B00004YWK2|    5.0|It worked great. ...|A3LZ13IS49DF09|           Hennes123|Worked great last...|   2|\n",
            "|B00004YWK2|    4.0|This was really e...|A313BC9WNQ0E5Y|                Ishy|Works how it's su...|   2|\n",
            "+----------+-------+--------------------+--------------+--------------------+--------------------+----+\n",
            "only showing top 20 rows"
          ]
        }
      ],
      "source": [
        "#appliance db\n",
        "df = spark.read.json('s3://cis4567/project1/Appliances.json')\n",
        "df = df.drop('image', 'reviewTime', 'style', 'unixReviewTime', 'verified')\n",
        "df = df.na.drop()\n",
        "df.show()"
      ]
    },
    {
      "cell_type": "code",
      "execution_count": null,
      "id": "05ef9e57",
      "metadata": {
        "id": "05ef9e57",
        "outputId": "43769d31-ba4e-45c7-be8d-4a4202d44aed",
        "colab": {
          "referenced_widgets": [
            "b17eb6e147d6470b882a3dec8b7004b9",
            ""
          ]
        }
      },
      "outputs": [
        {
          "data": {
            "application/vnd.jupyter.widget-view+json": {
              "model_id": "b17eb6e147d6470b882a3dec8b7004b9",
              "version_major": 2,
              "version_minor": 0
            },
            "text/plain": [
              "VBox()"
            ]
          },
          "metadata": {},
          "output_type": "display_data"
        },
        {
          "data": {
            "application/vnd.jupyter.widget-view+json": {
              "model_id": "",
              "version_major": 2,
              "version_minor": 0
            },
            "text/plain": [
              "FloatProgress(value=0.0, bar_style='info', description='Progress:', layout=Layout(height='25px', width='50%'),…"
            ]
          },
          "metadata": {},
          "output_type": "display_data"
        },
        {
          "name": "stdout",
          "output_type": "stream",
          "text": [
            "+----------+--------------+--------------------+--------------------+--------------------+\n",
            "|      asin|         brand|            category|               title|               price|\n",
            "+----------+--------------+--------------------+--------------------+--------------------+\n",
            "|7301113188|    Tupperware|[Appliances, Refr...|Tupperware Freeze...|                    |\n",
            "|7861850250|    Tupperware|[Appliances, Refr...|2 X Tupperware Pu...|               $3.62|\n",
            "|8792559360|The Cigar Book|[Appliances, Part...|The Cigar - Momen...|             $150.26|\n",
            "|9792954481|     Caraselle|[Appliances, Part...|Caraselle 2X 50G ...|.a-box-inner{back...|\n",
            "|B00002N5EL|  EATON Wiring|[Appliances, Part...|EATON Wiring 39CH...|               $3.43|\n",
            "|B00002N7HY|       Leviton|[Appliances, Part...|Leviton 5050 B01-...|               $6.98|\n",
            "|B00002N7IL|       Leviton|[Appliances, Part...|Leviton 5206 50 A...|                    |\n",
            "|B00002N9OE|       Amerock|[Appliances, Part...|Amerock BP5322-BJ...|               $7.68|\n",
            "|B00002NARC|       Leviton|[Appliances, Part...|Leviton 5207 125/...|               $5.79|\n",
            "|B00004SQHD| Coleman Cable|[Appliances, Part...|Coleman Cable 090...|               $1.41|\n",
            "|B00004SQHH| Coleman Cable|[Appliances, Part...|Coleman Cable 091...|                    |\n",
            "|B00004X18E|   Electricord|[Appliances, Part...|Electricord A1459...|                    |\n",
            "|B00004YUMW|       Leviton|[Appliances, Part...|Leviton 5054 Drye...|               $9.33|\n",
            "|B00004YUMU|       Leviton|[Appliances, Part...|Leviton 5050 Indu...|               $6.95|\n",
            "|B00004YWK7| Dundas Jafine|[Appliances, Part...|Dundas Jafine MLF...|              $19.78|\n",
            "|B00004YWK2| Dundas Jafine|[Appliances, Part...|Dundas Jafine CHK...|               $9.90|\n",
            "|B000056J8D|       Pro Tec|[Appliances, Part...|Protec DynaFilter...|                    |\n",
            "|B00005OU6T|        Holmes|[Appliances, Part...|Holmes &quot;C&qu...|               $5.98|\n",
            "|B00006IV17|        Holmes|[Appliances, Part...|Holmes &quot;A&qu...|              $11.89|\n",
            "|B00006JKZX|         Sanyo|[Appliances, Refr...|Sanyo BC1206 Kege...|                    |\n",
            "+----------+--------------+--------------------+--------------------+--------------------+\n",
            "only showing top 20 rows"
          ]
        }
      ],
      "source": [
        "#appliance meta db\n",
        "df_meta = spark.read.json('s3://cis4567/project1/meta_Appliances.json')\n",
        "df_meta = df_meta.select('asin', 'brand', 'category', 'title', 'price')\n",
        "df_meta = df_meta.na.drop()\n",
        "df_meta.show()"
      ]
    },
    {
      "cell_type": "code",
      "execution_count": null,
      "id": "fafa979d",
      "metadata": {
        "id": "fafa979d",
        "outputId": "eca274be-cfb7-43e0-983f-bccc4ed9aec8",
        "colab": {
          "referenced_widgets": [
            "c2064158bbdf4eaf8dbd2af2ba325c05",
            ""
          ]
        }
      },
      "outputs": [
        {
          "data": {
            "application/vnd.jupyter.widget-view+json": {
              "model_id": "c2064158bbdf4eaf8dbd2af2ba325c05",
              "version_major": 2,
              "version_minor": 0
            },
            "text/plain": [
              "VBox()"
            ]
          },
          "metadata": {},
          "output_type": "display_data"
        },
        {
          "data": {
            "application/vnd.jupyter.widget-view+json": {
              "model_id": "",
              "version_major": 2,
              "version_minor": 0
            },
            "text/plain": [
              "FloatProgress(value=0.0, bar_style='info', description='Progress:', layout=Layout(height='25px', width='50%'),…"
            ]
          },
          "metadata": {},
          "output_type": "display_data"
        },
        {
          "name": "stdout",
          "output_type": "stream",
          "text": [
            "+----------+-------+--------------------+--------------+--------------------+--------------------+----+----------------+--------------------+--------------------+------+\n",
            "|      asin|overall|          reviewText|    reviewerID|        reviewerName|             summary|vote|           brand|            category|               title| price|\n",
            "+----------+-------+--------------------+--------------+--------------------+--------------------+----+----------------+--------------------+--------------------+------+\n",
            "|B001HSAP6S|    5.0|A great hard to f...|A1WUZXABDBTFK6|              jackal|Good replacement ...|   2|  American Metal|[Appliances, Part...| Aluminum Range H...|$14.50|\n",
            "|B001KGX0XC|    5.0|If your oven didn...|A105G3GP8ARVMS|              g-star|Neat rack for Whi...|   4|       Whirlpool|[Appliances, Part...|Whirlpool Part Nu...|      |\n",
            "|B0046C04XQ|    5.0|Something spilled...|A3UPW6K80CG9OG|           Happy Ten|Very pleased with...|   3|           Supco|[Appliances, Part...|Replacement Bake ...|$21.38|\n",
            "|B0046C04XQ|    5.0|I'm a housewife w...| ACR1D2CKPH0AG|         Penelope D.|    Worked perfectly|   2|           Supco|[Appliances, Part...|Replacement Bake ...|$21.38|\n",
            "|B0046C04XQ|    5.0|Worked like a cha...| A9BQRAN2JPD2R|           E. Carman|Excellent Replace...|   3|           Supco|[Appliances, Part...|Replacement Bake ...|$21.38|\n",
            "|B000UEX256|    4.0|I looked all over...|A3OROAV19ECC4Y|          JJMorrocco|Hard to find in C...|  13|Anderson Barrows|[Appliances, Part...|Anderson Barrows ...|$13.90|\n",
            "|B000UEX256|    2.0|Deceptive produce...|A10OS8T58X1RBE|                  CE|Deceptive produce...|   2|Anderson Barrows|[Appliances, Part...|Anderson Barrows ...|$13.90|\n",
            "|B000UEX256|    1.0|If you read some ...| AT2SX7XKRPF6B|               stacy|         Watts sucks|   4|Anderson Barrows|[Appliances, Part...|Anderson Barrows ...|$13.90|\n",
            "|B000UEX256|    1.0|Fittings were che...| AUHSA4NY3OUVJ|gilbert m. harrin...| Not what I ordered.|   5|Anderson Barrows|[Appliances, Part...|Anderson Barrows ...|$13.90|\n",
            "|B000UEX256|    4.0|This a very nice ...|A2PYOG163LOFGB|                  JK|Nice set of hoses...|   3|Anderson Barrows|[Appliances, Part...|Anderson Barrows ...|$13.90|\n",
            "|B000UEX256|    1.0|Disappointed I re...| APJEDST5KNL8O|                 Ron|Received cheap ca...|  20|Anderson Barrows|[Appliances, Part...|Anderson Barrows ...|$13.90|\n",
            "|B000UEX256|    1.0|When you order th...| ACLGXBLDHPXEL|           Anne Nonn|BELIEVE OTHER REV...|  74|Anderson Barrows|[Appliances, Part...|Anderson Barrows ...|$13.90|\n",
            "|B000UEX256|    1.0|When i got my del...|A16VG9MLNYH0QF|         Mike Choate|Don't even try th...|  32|Anderson Barrows|[Appliances, Part...|Anderson Barrows ...|$13.90|\n",
            "|B000UEX256|    5.0|Excellent quality...|A1S2ED110SEMNR|              Ben P.|Small innovations...|   2|Anderson Barrows|[Appliances, Part...|Anderson Barrows ...|$13.90|\n",
            "|B000UEX256|    1.0|I received a chea...| AA0DGGUGWI0U7|                  JP|Not as Advertised...|  50|Anderson Barrows|[Appliances, Part...|Anderson Barrows ...|$13.90|\n",
            "|B000UEX256|    5.0|I have bought a c...|A3CU97MJGB89ZY|  steves landscaping|       piece of mind|   2|Anderson Barrows|[Appliances, Part...|Anderson Barrows ...|$13.90|\n",
            "|B000UEX256|    2.0|Ordered it a mont...|A1TYSWTMSRHUFN|    RONALD K HARTLEY|Angle connection ...|  15|Anderson Barrows|[Appliances, Part...|Anderson Barrows ...|$13.90|\n",
            "|B000UEX256|    4.0|The only braided ...|A2DQD3T4FLLRVP|           K. Harper|The only braided ...|   2|Anderson Barrows|[Appliances, Part...|Anderson Barrows ...|$13.90|\n",
            "|B000UEX256|    5.0|Make sure you get...|A1OYMKOUA451FJ|                  BS|Good hose - but w...|  42|Anderson Barrows|[Appliances, Part...|Anderson Barrows ...|$13.90|\n",
            "|B000UEX256|    4.0|These appear to b...| A4ZJZHXP7WZVE|                 DRW|Apparently well made|   3|Anderson Barrows|[Appliances, Part...|Anderson Barrows ...|$13.90|\n",
            "+----------+-------+--------------------+--------------+--------------------+--------------------+----+----------------+--------------------+--------------------+------+\n",
            "only showing top 20 rows"
          ]
        }
      ],
      "source": [
        "#join both db\n",
        "df_join = df.join(df_meta, on = 'asin', how = 'inner')\n",
        "df_join.show()"
      ]
    },
    {
      "cell_type": "code",
      "execution_count": null,
      "id": "9571ee37",
      "metadata": {
        "id": "9571ee37"
      },
      "outputs": [],
      "source": []
    },
    {
      "cell_type": "code",
      "execution_count": null,
      "id": "92acb8ed",
      "metadata": {
        "id": "92acb8ed"
      },
      "outputs": [],
      "source": []
    },
    {
      "cell_type": "code",
      "execution_count": null,
      "id": "49541f3f",
      "metadata": {
        "id": "49541f3f"
      },
      "outputs": [],
      "source": [
        "#preprocess"
      ]
    },
    {
      "cell_type": "code",
      "execution_count": null,
      "id": "7a02983a",
      "metadata": {
        "id": "7a02983a",
        "outputId": "390d00c0-38f6-44bb-b1bf-b4182762e47e",
        "colab": {
          "referenced_widgets": [
            "0888580d705647ca9588850607783c06",
            ""
          ]
        }
      },
      "outputs": [
        {
          "data": {
            "application/vnd.jupyter.widget-view+json": {
              "model_id": "0888580d705647ca9588850607783c06",
              "version_major": 2,
              "version_minor": 0
            },
            "text/plain": [
              "VBox()"
            ]
          },
          "metadata": {},
          "output_type": "display_data"
        },
        {
          "data": {
            "application/vnd.jupyter.widget-view+json": {
              "model_id": "",
              "version_major": 2,
              "version_minor": 0
            },
            "text/plain": [
              "FloatProgress(value=0.0, bar_style='info', description='Progress:', layout=Layout(height='25px', width='50%'),…"
            ]
          },
          "metadata": {},
          "output_type": "display_data"
        },
        {
          "name": "stdout",
          "output_type": "stream",
          "text": [
            "+----------+------+--------------------+--------------+--------------------+--------------------+-----------+----------------+--------------------+--------------------+------+\n",
            "|      asin|rating|              review|   customer ID|       customer name|             summary|rating vote|           brand|            category|        product name| price|\n",
            "+----------+------+--------------------+--------------+--------------------+--------------------+-----------+----------------+--------------------+--------------------+------+\n",
            "|B001HSAP6S|   5.0|A great hard to f...|A1WUZXABDBTFK6|              jackal|Good replacement ...|          2|  American Metal|[Appliances, Part...| Aluminum Range H...|$14.50|\n",
            "|B001KGX0XC|   5.0|If your oven didn...|A105G3GP8ARVMS|              g-star|Neat rack for Whi...|          4|       Whirlpool|[Appliances, Part...|Whirlpool Part Nu...|      |\n",
            "|B0046C04XQ|   5.0|Something spilled...|A3UPW6K80CG9OG|           Happy Ten|Very pleased with...|          3|           Supco|[Appliances, Part...|Replacement Bake ...|$21.38|\n",
            "|B0046C04XQ|   5.0|I'm a housewife w...| ACR1D2CKPH0AG|         Penelope D.|    Worked perfectly|          2|           Supco|[Appliances, Part...|Replacement Bake ...|$21.38|\n",
            "|B0046C04XQ|   5.0|Worked like a cha...| A9BQRAN2JPD2R|           E. Carman|Excellent Replace...|          3|           Supco|[Appliances, Part...|Replacement Bake ...|$21.38|\n",
            "|B000UEX256|   4.0|I looked all over...|A3OROAV19ECC4Y|          JJMorrocco|Hard to find in C...|         13|Anderson Barrows|[Appliances, Part...|Anderson Barrows ...|$13.90|\n",
            "|B000UEX256|   2.0|Deceptive produce...|A10OS8T58X1RBE|                  CE|Deceptive produce...|          2|Anderson Barrows|[Appliances, Part...|Anderson Barrows ...|$13.90|\n",
            "|B000UEX256|   1.0|If you read some ...| AT2SX7XKRPF6B|               stacy|         Watts sucks|          4|Anderson Barrows|[Appliances, Part...|Anderson Barrows ...|$13.90|\n",
            "|B000UEX256|   1.0|Fittings were che...| AUHSA4NY3OUVJ|gilbert m. harrin...| Not what I ordered.|          5|Anderson Barrows|[Appliances, Part...|Anderson Barrows ...|$13.90|\n",
            "|B000UEX256|   4.0|This a very nice ...|A2PYOG163LOFGB|                  JK|Nice set of hoses...|          3|Anderson Barrows|[Appliances, Part...|Anderson Barrows ...|$13.90|\n",
            "|B000UEX256|   1.0|Disappointed I re...| APJEDST5KNL8O|                 Ron|Received cheap ca...|         20|Anderson Barrows|[Appliances, Part...|Anderson Barrows ...|$13.90|\n",
            "|B000UEX256|   1.0|When you order th...| ACLGXBLDHPXEL|           Anne Nonn|BELIEVE OTHER REV...|         74|Anderson Barrows|[Appliances, Part...|Anderson Barrows ...|$13.90|\n",
            "|B000UEX256|   1.0|When i got my del...|A16VG9MLNYH0QF|         Mike Choate|Don't even try th...|         32|Anderson Barrows|[Appliances, Part...|Anderson Barrows ...|$13.90|\n",
            "|B000UEX256|   5.0|Excellent quality...|A1S2ED110SEMNR|              Ben P.|Small innovations...|          2|Anderson Barrows|[Appliances, Part...|Anderson Barrows ...|$13.90|\n",
            "|B000UEX256|   1.0|I received a chea...| AA0DGGUGWI0U7|                  JP|Not as Advertised...|         50|Anderson Barrows|[Appliances, Part...|Anderson Barrows ...|$13.90|\n",
            "|B000UEX256|   5.0|I have bought a c...|A3CU97MJGB89ZY|  steves landscaping|       piece of mind|          2|Anderson Barrows|[Appliances, Part...|Anderson Barrows ...|$13.90|\n",
            "|B000UEX256|   2.0|Ordered it a mont...|A1TYSWTMSRHUFN|    RONALD K HARTLEY|Angle connection ...|         15|Anderson Barrows|[Appliances, Part...|Anderson Barrows ...|$13.90|\n",
            "|B000UEX256|   4.0|The only braided ...|A2DQD3T4FLLRVP|           K. Harper|The only braided ...|          2|Anderson Barrows|[Appliances, Part...|Anderson Barrows ...|$13.90|\n",
            "|B000UEX256|   5.0|Make sure you get...|A1OYMKOUA451FJ|                  BS|Good hose - but w...|         42|Anderson Barrows|[Appliances, Part...|Anderson Barrows ...|$13.90|\n",
            "|B000UEX256|   4.0|These appear to b...| A4ZJZHXP7WZVE|                 DRW|Apparently well made|          3|Anderson Barrows|[Appliances, Part...|Anderson Barrows ...|$13.90|\n",
            "+----------+------+--------------------+--------------+--------------------+--------------------+-----------+----------------+--------------------+--------------------+------+\n",
            "only showing top 20 rows"
          ]
        }
      ],
      "source": [
        "#rename column\n",
        "df_join = df_join.withColumnRenamed('overall', 'rating')\\\n",
        "    .withColumnRenamed('reviewText', 'review')\\\n",
        "    .withColumnRenamed('reviewerID', 'customer ID')\\\n",
        "    .withColumnRenamed('reviewerName', 'customer name')\\\n",
        "    .withColumnRenamed('vote', 'rating vote')\\\n",
        "    .withColumnRenamed('title', 'product name')\n",
        "\n",
        "df_join.show()"
      ]
    },
    {
      "cell_type": "code",
      "execution_count": null,
      "id": "0ee4dc57",
      "metadata": {
        "id": "0ee4dc57",
        "outputId": "0c727b11-e34d-4cbc-8dcd-e156c62a1463",
        "colab": {
          "referenced_widgets": [
            "d61951662428407f8efe4d910815f08e",
            ""
          ]
        }
      },
      "outputs": [
        {
          "data": {
            "application/vnd.jupyter.widget-view+json": {
              "model_id": "d61951662428407f8efe4d910815f08e",
              "version_major": 2,
              "version_minor": 0
            },
            "text/plain": [
              "VBox()"
            ]
          },
          "metadata": {},
          "output_type": "display_data"
        },
        {
          "data": {
            "application/vnd.jupyter.widget-view+json": {
              "model_id": "",
              "version_major": 2,
              "version_minor": 0
            },
            "text/plain": [
              "FloatProgress(value=0.0, bar_style='info', description='Progress:', layout=Layout(height='25px', width='50%'),…"
            ]
          },
          "metadata": {},
          "output_type": "display_data"
        },
        {
          "name": "stdout",
          "output_type": "stream",
          "text": [
            "+----------+------+--------------------+--------------+----------------+--------------------+-----------+-------------+--------------------+--------------------+------+-------------------+\n",
            "|      asin|rating|              review|   customer ID|   customer name|             summary|rating vote|        brand|            category|        product name| price|Duplicate_indicator|\n",
            "+----------+------+--------------------+--------------+----------------+--------------------+-----------+-------------+--------------------+--------------------+------+-------------------+\n",
            "|B00004YWK2|   5.0|It worked great. ...|A3LZ13IS49DF09|       Hennes123|Worked great last...|          2|Dundas Jafine|[Appliances, Part...|Dundas Jafine CHK...| $9.90|               true|\n",
            "|B00004YWK2|   5.0|It worked great. ...|A3LZ13IS49DF09|       Hennes123|Worked great last...|          2|Dundas Jafine|[Appliances, Part...|Dundas Jafine CHK...| $9.90|               true|\n",
            "|B00006IV17|   1.0|Dear product dist...|A17THI32CXXUMG|Robert J. Jacobs|      Buyer beware..|          4|       Holmes|[Appliances, Part...|Holmes &quot;A&qu...|$11.89|               true|\n",
            "|B00006IV17|   1.0|Dear product dist...|A17THI32CXXUMG|Robert J. Jacobs|      Buyer beware..|          4|       Holmes|[Appliances, Part...|Holmes &quot;A&qu...|$11.89|               true|\n",
            "|B00006IV17|   5.0|I was glad that I...|A27C026RX9ZXQD|  Mark J. Spaeth|   Humidifyer Filter|          2|       Holmes|[Appliances, Part...|Holmes &quot;A&qu...|$11.89|               true|\n",
            "|B00006IV17|   5.0|I was glad that I...|A27C026RX9ZXQD|  Mark J. Spaeth|   Humidifyer Filter|          2|       Holmes|[Appliances, Part...|Holmes &quot;A&qu...|$11.89|               true|\n",
            "|B00007E7RZ|   1.0|I have ordered HO...|A1JQV740J131JM|       G from VT|How do I get the ...|          4|    Honeywell|[Appliances, Part...|HONEYWELL HAC-504...|$20.99|               true|\n",
            "|B00007E7RZ|   1.0|I have ordered HO...|A1JQV740J131JM|       G from VT|How do I get the ...|          4|    Honeywell|[Appliances, Part...|HONEYWELL HAC-504...|$20.99|               true|\n",
            "|B00007E7RZ|   5.0|These were shippe...|A23SQF9EKW0TBD|  blossomcorners|         Best of all|          3|    Honeywell|[Appliances, Part...|HONEYWELL HAC-504...|$20.99|               true|\n",
            "|B00007E7RZ|   5.0|These were shippe...|A23SQF9EKW0TBD|  blossomcorners|         Best of all|          3|    Honeywell|[Appliances, Part...|HONEYWELL HAC-504...|$20.99|               true|\n",
            "|B00009V3UC|   3.0|These are nice kn...| AJ00DXOOCDL2C|        Kaleberg|it's okay, but no...|          2|  Range Kleen|[Appliances, Part...|Range Kleen 8134 ...|$17.95|               true|\n",
            "|B00009V3UC|   3.0|These are nice kn...| AJ00DXOOCDL2C|        Kaleberg|it's okay, but no...|          2|  Range Kleen|[Appliances, Part...|Range Kleen 8134 ...|$17.95|               true|\n",
            "|B00009V3UE|   4.0|I ordered these t...|A2XXO4NDGULP0M|            Fran|Modifications nec...|          6|  Range Kleen|[Appliances, Part...|Range Kleen 8224 ...|$13.68|               true|\n",
            "|B00009V3UE|   4.0|I ordered these t...|A2XXO4NDGULP0M|            Fran|Modifications nec...|          6|  Range Kleen|[Appliances, Part...|Range Kleen 8224 ...|$13.68|               true|\n",
            "|B00009W3HD|   5.0|This is the perfe...|A38WQ21L9Q1XBE|         Chowlee|           Quick fix|          3|     Deflecto|[Appliances, Part...|Deflecto Dryer Li...|$13.90|               true|\n",
            "|B00009W3HD|   5.0|This is the perfe...|A38WQ21L9Q1XBE|         Chowlee|           Quick fix|          3|     Deflecto|[Appliances, Part...|Deflecto Dryer Li...|$13.90|               true|\n",
            "|B00009W3I4|   2.0|Bought two of the...| A4OL4VT7B7ZJV|         Bruce F|NO better than th...|          3|    HEARTLAND|[Appliances, Part...|HEARTLAND 21000 E...|$36.20|               true|\n",
            "|B00009W3I4|   2.0|Bought two of the...| A4OL4VT7B7ZJV|         Bruce F|NO better than th...|          3|    HEARTLAND|[Appliances, Part...|HEARTLAND 21000 E...|$36.20|               true|\n",
            "|B00009W3I4|   2.0|Honestly, it is t...|A1Y9IGHV09X14X|           K. S.|           Too bulky|          3|    HEARTLAND|[Appliances, Part...|HEARTLAND 21000 E...|$36.20|               true|\n",
            "|B00009W3I4|   2.0|Honestly, it is t...|A1Y9IGHV09X14X|           K. S.|           Too bulky|          3|    HEARTLAND|[Appliances, Part...|HEARTLAND 21000 E...|$36.20|               true|\n",
            "+----------+------+--------------------+--------------+----------------+--------------------+-----------+-------------+--------------------+--------------------+------+-------------------+\n",
            "only showing top 20 rows"
          ]
        }
      ],
      "source": [
        "#check for dup\n",
        "df_join.join(df_join.groupBy(df_join.columns).agg((F.count('*') > 1).cast('string').alias('Duplicate_indicator')),\n",
        "             on = df_join.columns,how = 'inner').show()"
      ]
    },
    {
      "cell_type": "code",
      "execution_count": null,
      "id": "30241c3c",
      "metadata": {
        "id": "30241c3c",
        "outputId": "ea71e7d9-716a-47b4-bdd2-b4d61d7e4625",
        "colab": {
          "referenced_widgets": [
            "bf579304a5eb43faaa4d7512c62bc27b",
            ""
          ]
        }
      },
      "outputs": [
        {
          "data": {
            "application/vnd.jupyter.widget-view+json": {
              "model_id": "bf579304a5eb43faaa4d7512c62bc27b",
              "version_major": 2,
              "version_minor": 0
            },
            "text/plain": [
              "VBox()"
            ]
          },
          "metadata": {},
          "output_type": "display_data"
        },
        {
          "data": {
            "application/vnd.jupyter.widget-view+json": {
              "model_id": "",
              "version_major": 2,
              "version_minor": 0
            },
            "text/plain": [
              "FloatProgress(value=0.0, bar_style='info', description='Progress:', layout=Layout(height='25px', width='50%'),…"
            ]
          },
          "metadata": {},
          "output_type": "display_data"
        },
        {
          "name": "stdout",
          "output_type": "stream",
          "text": [
            "+----+------+------+-----------+-------------+-------+-----------+-----+--------+------------+-----+\n",
            "|asin|rating|review|customer ID|customer name|summary|rating vote|brand|category|product name|price|\n",
            "+----+------+------+-----------+-------------+-------+-----------+-----+--------+------------+-----+\n",
            "+----+------+------+-----------+-------------+-------+-----------+-----+--------+------------+-----+"
          ]
        }
      ],
      "source": [
        "#check and drop nan\n",
        "df_join = df_join.na.drop()\n",
        "df_join.where(col('review').isNull()).show()"
      ]
    },
    {
      "cell_type": "code",
      "execution_count": null,
      "id": "31b70310",
      "metadata": {
        "id": "31b70310",
        "outputId": "76ea03f5-c8ef-43f7-9da6-48addbf1b648",
        "colab": {
          "referenced_widgets": [
            "508498d6fb9845539ba117ecef523253",
            ""
          ]
        }
      },
      "outputs": [
        {
          "data": {
            "application/vnd.jupyter.widget-view+json": {
              "model_id": "508498d6fb9845539ba117ecef523253",
              "version_major": 2,
              "version_minor": 0
            },
            "text/plain": [
              "VBox()"
            ]
          },
          "metadata": {},
          "output_type": "display_data"
        },
        {
          "data": {
            "application/vnd.jupyter.widget-view+json": {
              "model_id": "",
              "version_major": 2,
              "version_minor": 0
            },
            "text/plain": [
              "FloatProgress(value=0.0, bar_style='info', description='Progress:', layout=Layout(height='25px', width='50%'),…"
            ]
          },
          "metadata": {},
          "output_type": "display_data"
        },
        {
          "name": "stdout",
          "output_type": "stream",
          "text": [
            "+--------------------+------+\n",
            "|              review|rating|\n",
            "+--------------------+------+\n",
            "|A great hard to f...|     5|\n",
            "|If your oven didn...|     5|\n",
            "|Something spilled...|     5|\n",
            "|I'm a housewife w...|     5|\n",
            "|Worked like a cha...|     5|\n",
            "|I looked all over...|     4|\n",
            "|Deceptive produce...|     2|\n",
            "|If you read some ...|     1|\n",
            "|Fittings were che...|     1|\n",
            "|This a very nice ...|     4|\n",
            "|Disappointed I re...|     1|\n",
            "|When you order th...|     1|\n",
            "|When i got my del...|     1|\n",
            "|Excellent quality...|     5|\n",
            "|I received a chea...|     1|\n",
            "|I have bought a c...|     5|\n",
            "|Ordered it a mont...|     2|\n",
            "|The only braided ...|     4|\n",
            "|Make sure you get...|     5|\n",
            "|These appear to b...|     4|\n",
            "+--------------------+------+\n",
            "only showing top 20 rows"
          ]
        }
      ],
      "source": [
        "#only select review and rating column (and convert rating to int)\n",
        "df_join_select = df_join.select('review', col('rating').cast('Int'))\n",
        "df_join_select.show()"
      ]
    },
    {
      "cell_type": "code",
      "execution_count": null,
      "id": "dfc317c1",
      "metadata": {
        "id": "dfc317c1",
        "outputId": "7c1927ad-078c-47eb-b2f3-1fed69638189",
        "colab": {
          "referenced_widgets": [
            "583ae9ec9f1545d7b7bcb3ba8c5f95ae",
            ""
          ]
        }
      },
      "outputs": [
        {
          "data": {
            "application/vnd.jupyter.widget-view+json": {
              "model_id": "583ae9ec9f1545d7b7bcb3ba8c5f95ae",
              "version_major": 2,
              "version_minor": 0
            },
            "text/plain": [
              "VBox()"
            ]
          },
          "metadata": {},
          "output_type": "display_data"
        },
        {
          "data": {
            "application/vnd.jupyter.widget-view+json": {
              "model_id": "",
              "version_major": 2,
              "version_minor": 0
            },
            "text/plain": [
              "FloatProgress(value=0.0, bar_style='info', description='Progress:', layout=Layout(height='25px', width='50%'),…"
            ]
          },
          "metadata": {},
          "output_type": "display_data"
        },
        {
          "name": "stdout",
          "output_type": "stream",
          "text": [
            "49828 16720"
          ]
        }
      ],
      "source": [
        "#train text according to 75-25 rule\n",
        "split_data = df_join_select.randomSplit([0.75, 0.25])\n",
        "\n",
        "train_data = split_data[0]\n",
        "test_data = split_data[1]\n",
        "\n",
        "print(train_data.count(), test_data.count())"
      ]
    },
    {
      "cell_type": "code",
      "execution_count": null,
      "id": "7ada79ce",
      "metadata": {
        "id": "7ada79ce",
        "outputId": "38f3ce98-2bce-485f-cc4a-bbcf3b58ca51",
        "colab": {
          "referenced_widgets": [
            "6ef2a820a6644d699a41e658dd0de4e6",
            ""
          ]
        }
      },
      "outputs": [
        {
          "data": {
            "application/vnd.jupyter.widget-view+json": {
              "model_id": "6ef2a820a6644d699a41e658dd0de4e6",
              "version_major": 2,
              "version_minor": 0
            },
            "text/plain": [
              "VBox()"
            ]
          },
          "metadata": {},
          "output_type": "display_data"
        },
        {
          "data": {
            "application/vnd.jupyter.widget-view+json": {
              "model_id": "",
              "version_major": 2,
              "version_minor": 0
            },
            "text/plain": [
              "FloatProgress(value=0.0, bar_style='info', description='Progress:', layout=Layout(height='25px', width='50%'),…"
            ]
          },
          "metadata": {},
          "output_type": "display_data"
        }
      ],
      "source": [
        "from nltk.tokenize import word_tokenize\n",
        "from pyspark.ml.feature import Tokenizer, StopWordsRemover, HashingTF"
      ]
    },
    {
      "cell_type": "code",
      "execution_count": null,
      "id": "e0cb8081",
      "metadata": {
        "id": "e0cb8081",
        "outputId": "47af87b1-f285-4f5e-ce9b-5fecbcf0e34c",
        "colab": {
          "referenced_widgets": [
            "fa1717637c104ae6980d0ed4aaedf0dd",
            ""
          ]
        }
      },
      "outputs": [
        {
          "data": {
            "application/vnd.jupyter.widget-view+json": {
              "model_id": "fa1717637c104ae6980d0ed4aaedf0dd",
              "version_major": 2,
              "version_minor": 0
            },
            "text/plain": [
              "VBox()"
            ]
          },
          "metadata": {},
          "output_type": "display_data"
        },
        {
          "data": {
            "application/vnd.jupyter.widget-view+json": {
              "model_id": "",
              "version_major": 2,
              "version_minor": 0
            },
            "text/plain": [
              "FloatProgress(value=0.0, bar_style='info', description='Progress:', layout=Layout(height='25px', width='50%'),…"
            ]
          },
          "metadata": {},
          "output_type": "display_data"
        },
        {
          "name": "stdout",
          "output_type": "stream",
          "text": [
            "+--------------------+------+--------------------+\n",
            "|              review|rating|      SentimentWords|\n",
            "+--------------------+------+--------------------+\n",
            "|(this is a copy o...|     5|[(this, is, a, co...|\n",
            "|--Edgestar Portab...|     4|[--edgestar, port...|\n",
            "|1st fridge was de...|     2|[1st, fridge, was...|\n",
            "|4 months after pu...|     1|[4, months, after...|\n",
            "|6inch pipe wouldn...|     3|[6inch, pipe, wou...|\n",
            "|<a data-hook=\"pro...|     5|[<a, data-hook=\"p...|\n",
            "|<a data-hook=\"pro...|     5|[<a, data-hook=\"p...|\n",
            "|<div id=\"video-bl...|     4|[<div, id=\"video-...|\n",
            "|<div id=\"video-bl...|     5|[<div, id=\"video-...|\n",
            "|<div id=\"video-bl...|     4|[<div, id=\"video-...|\n",
            "|A complete piece ...|     1|[a, complete, pie...|\n",
            "|A couple small it...|     4|[a, couple, small...|\n",
            "|A good buy that i...|     5|[a, good, buy, th...|\n",
            "|A good buy that i...|     5|[a, good, buy, th...|\n",
            "|A hard to find it...|     3|[a, hard, to, fin...|\n",
            "|A joke.  Save you...|     1|[a, joke., , save...|\n",
            "|A joke.  Save you...|     1|[a, joke., , save...|\n",
            "|A large floral br...|     1|[a, large, floral...|\n",
            "|A little pricey, ...|     4|[a, little, price...|\n",
            "|A perfect, identi...|     5|[a, perfect,, ide...|\n",
            "+--------------------+------+--------------------+\n",
            "only showing top 20 rows"
          ]
        }
      ],
      "source": [
        "#tokenize text\n",
        "tokenizer = Tokenizer(inputCol=\"review\", outputCol=\"SentimentWords\")\n",
        "tokenizedTrain = tokenizer.transform(train_data)\n",
        "tokenizedTrain.show()"
      ]
    },
    {
      "cell_type": "code",
      "execution_count": null,
      "id": "f2d92be6",
      "metadata": {
        "id": "f2d92be6",
        "outputId": "34d35256-c226-4bd3-a207-1faacb520a0e",
        "colab": {
          "referenced_widgets": [
            "4684e7a31cae4a25b69ab46e33509d54",
            ""
          ]
        }
      },
      "outputs": [
        {
          "data": {
            "application/vnd.jupyter.widget-view+json": {
              "model_id": "4684e7a31cae4a25b69ab46e33509d54",
              "version_major": 2,
              "version_minor": 0
            },
            "text/plain": [
              "VBox()"
            ]
          },
          "metadata": {},
          "output_type": "display_data"
        },
        {
          "data": {
            "application/vnd.jupyter.widget-view+json": {
              "model_id": "",
              "version_major": 2,
              "version_minor": 0
            },
            "text/plain": [
              "FloatProgress(value=0.0, bar_style='info', description='Progress:', layout=Layout(height='25px', width='50%'),…"
            ]
          },
          "metadata": {},
          "output_type": "display_data"
        },
        {
          "name": "stdout",
          "output_type": "stream",
          "text": [
            "+--------------------+------+--------------------+--------------------+\n",
            "|              review|rating|      SentimentWords|     MeaningfulWords|\n",
            "+--------------------+------+--------------------+--------------------+\n",
            "|(this is a copy o...|     5|[(this, is, a, co...|[(this, copy, rev...|\n",
            "|--Edgestar Portab...|     4|[--edgestar, port...|[--edgestar, port...|\n",
            "|1st fridge was de...|     2|[1st, fridge, was...|[1st, fridge, del...|\n",
            "|4 months after pu...|     1|[4, months, after...|[4, months, purch...|\n",
            "|6inch pipe wouldn...|     3|[6inch, pipe, wou...|[6inch, pipe, fit...|\n",
            "|<a data-hook=\"pro...|     5|[<a, data-hook=\"p...|[<a, data-hook=\"p...|\n",
            "|<a data-hook=\"pro...|     5|[<a, data-hook=\"p...|[<a, data-hook=\"p...|\n",
            "|<div id=\"video-bl...|     4|[<div, id=\"video-...|[<div, id=\"video-...|\n",
            "|<div id=\"video-bl...|     5|[<div, id=\"video-...|[<div, id=\"video-...|\n",
            "|<div id=\"video-bl...|     4|[<div, id=\"video-...|[<div, id=\"video-...|\n",
            "|A complete piece ...|     1|[a, complete, pie...|[complete, piece,...|\n",
            "|A couple small it...|     4|[a, couple, small...|[couple, small, i...|\n",
            "|A good buy that i...|     5|[a, good, buy, th...|[good, buy, is,, ...|\n",
            "|A good buy that i...|     5|[a, good, buy, th...|[good, buy, is,, ...|\n",
            "|A hard to find it...|     3|[a, hard, to, fin...|[hard, find, item...|\n",
            "|A joke.  Save you...|     1|[a, joke., , save...|[joke., , save, m...|\n",
            "|A joke.  Save you...|     1|[a, joke., , save...|[joke., , save, m...|\n",
            "|A large floral br...|     1|[a, large, floral...|[large, floral, b...|\n",
            "|A little pricey, ...|     4|[a, little, price...|[little, pricey,,...|\n",
            "|A perfect, identi...|     5|[a, perfect,, ide...|[perfect,, identi...|\n",
            "+--------------------+------+--------------------+--------------------+\n",
            "only showing top 20 rows"
          ]
        }
      ],
      "source": [
        "#remove stopwords\n",
        "swr = StopWordsRemover(inputCol=tokenizer.getOutputCol(), \n",
        "                       outputCol=\"MeaningfulWords\")\n",
        "SwRemovedTrain = swr.transform(tokenizedTrain)\n",
        "SwRemovedTrain.show()"
      ]
    },
    {
      "cell_type": "code",
      "execution_count": null,
      "id": "35a3cfc1",
      "metadata": {
        "id": "35a3cfc1",
        "outputId": "0c86cc13-546f-4893-d0fd-9b4c84c0b6f2",
        "colab": {
          "referenced_widgets": [
            "74e475c870f64389b4c770c68f828cbb",
            ""
          ]
        }
      },
      "outputs": [
        {
          "data": {
            "application/vnd.jupyter.widget-view+json": {
              "model_id": "74e475c870f64389b4c770c68f828cbb",
              "version_major": 2,
              "version_minor": 0
            },
            "text/plain": [
              "VBox()"
            ]
          },
          "metadata": {},
          "output_type": "display_data"
        },
        {
          "data": {
            "application/vnd.jupyter.widget-view+json": {
              "model_id": "",
              "version_major": 2,
              "version_minor": 0
            },
            "text/plain": [
              "FloatProgress(value=0.0, bar_style='info', description='Progress:', layout=Layout(height='25px', width='50%'),…"
            ]
          },
          "metadata": {},
          "output_type": "display_data"
        }
      ],
      "source": [
        "#hash words - use to prep the below code\n",
        "hashTF = HashingTF(inputCol=swr.getOutputCol(), outputCol=\"features\")"
      ]
    },
    {
      "cell_type": "code",
      "execution_count": null,
      "id": "83c92880",
      "metadata": {
        "id": "83c92880",
        "outputId": "e8e16eb4-e18d-4507-a08e-58dcbe867b8e",
        "colab": {
          "referenced_widgets": [
            "d970dbb56f9e4317894c40aa22186f46",
            ""
          ]
        }
      },
      "outputs": [
        {
          "data": {
            "application/vnd.jupyter.widget-view+json": {
              "model_id": "d970dbb56f9e4317894c40aa22186f46",
              "version_major": 2,
              "version_minor": 0
            },
            "text/plain": [
              "VBox()"
            ]
          },
          "metadata": {},
          "output_type": "display_data"
        },
        {
          "data": {
            "application/vnd.jupyter.widget-view+json": {
              "model_id": "",
              "version_major": 2,
              "version_minor": 0
            },
            "text/plain": [
              "FloatProgress(value=0.0, bar_style='info', description='Progress:', layout=Layout(height='25px', width='50%'),…"
            ]
          },
          "metadata": {},
          "output_type": "display_data"
        },
        {
          "name": "stdout",
          "output_type": "stream",
          "text": [
            "+--------------------+------+--------------------+--------------------+--------------------+\n",
            "|              review|rating|      SentimentWords|     MeaningfulWords|            features|\n",
            "+--------------------+------+--------------------+--------------------+--------------------+\n",
            "|(this is a copy o...|     5|[(this, is, a, co...|[(this, copy, rev...|(262144,[3121,383...|\n",
            "|--Edgestar Portab...|     4|[--edgestar, port...|[--edgestar, port...|(262144,[2437,352...|\n",
            "|1st fridge was de...|     2|[1st, fridge, was...|[1st, fridge, del...|(262144,[3230,155...|\n",
            "|4 months after pu...|     1|[4, months, after...|[4, months, purch...|(262144,[1546,898...|\n",
            "|6inch pipe wouldn...|     3|[6inch, pipe, wou...|[6inch, pipe, fit...|(262144,[12650,25...|\n",
            "|<a data-hook=\"pro...|     5|[<a, data-hook=\"p...|[<a, data-hook=\"p...|(262144,[908,1415...|\n",
            "|<a data-hook=\"pro...|     5|[<a, data-hook=\"p...|[<a, data-hook=\"p...|(262144,[908,1415...|\n",
            "|<div id=\"video-bl...|     4|[<div, id=\"video-...|[<div, id=\"video-...|(262144,[3121,800...|\n",
            "|<div id=\"video-bl...|     5|[<div, id=\"video-...|[<div, id=\"video-...|(262144,[4389,553...|\n",
            "|<div id=\"video-bl...|     4|[<div, id=\"video-...|[<div, id=\"video-...|(262144,[2306,271...|\n",
            "|A complete piece ...|     1|[a, complete, pie...|[complete, piece,...|(262144,[34343,44...|\n",
            "|A couple small it...|     4|[a, couple, small...|[couple, small, i...|(262144,[21641,24...|\n",
            "|A good buy that i...|     5|[a, good, buy, th...|[good, buy, is,, ...|(262144,[3121,953...|\n",
            "|A good buy that i...|     5|[a, good, buy, th...|[good, buy, is,, ...|(262144,[3121,953...|\n",
            "|A hard to find it...|     3|[a, hard, to, fin...|[hard, find, item...|(262144,[2437,181...|\n",
            "|A joke.  Save you...|     1|[a, joke., , save...|[joke., , save, m...|(262144,[10617,14...|\n",
            "|A joke.  Save you...|     1|[a, joke., , save...|[joke., , save, m...|(262144,[10617,14...|\n",
            "|A large floral br...|     1|[a, large, floral...|[large, floral, b...|(262144,[1519,154...|\n",
            "|A little pricey, ...|     4|[a, little, price...|[little, pricey,,...|(262144,[5551,576...|\n",
            "|A perfect, identi...|     5|[a, perfect,, ide...|[perfect,, identi...|(262144,[11382,17...|\n",
            "+--------------------+------+--------------------+--------------------+--------------------+\n",
            "only showing top 20 rows"
          ]
        }
      ],
      "source": [
        "#hash words -- USE THIS FOR LOGISTIC REGRESSION\n",
        "numericTrain = hashTF.transform(SwRemovedTrain)\n",
        "numericTrain.show()"
      ]
    },
    {
      "cell_type": "code",
      "execution_count": null,
      "id": "6b87551a",
      "metadata": {
        "id": "6b87551a",
        "outputId": "ebb4a6ed-631e-42f8-fd6e-9b04b8c4bce0",
        "colab": {
          "referenced_widgets": [
            "163ed9865d2e4678abe498a353e837eb",
            ""
          ]
        }
      },
      "outputs": [
        {
          "data": {
            "application/vnd.jupyter.widget-view+json": {
              "model_id": "163ed9865d2e4678abe498a353e837eb",
              "version_major": 2,
              "version_minor": 0
            },
            "text/plain": [
              "VBox()"
            ]
          },
          "metadata": {},
          "output_type": "display_data"
        },
        {
          "data": {
            "application/vnd.jupyter.widget-view+json": {
              "model_id": "",
              "version_major": 2,
              "version_minor": 0
            },
            "text/plain": [
              "FloatProgress(value=0.0, bar_style='info', description='Progress:', layout=Layout(height='25px', width='50%'),…"
            ]
          },
          "metadata": {},
          "output_type": "display_data"
        },
        {
          "name": "stdout",
          "output_type": "stream",
          "text": [
            "+--------------------+------+--------------------+\n",
            "|     MeaningfulWords|rating|            features|\n",
            "+--------------------+------+--------------------+\n",
            "|[(this, copy, rev...|     5|(262144,[3121,383...|\n",
            "|[--edgestar, port...|     4|(262144,[2437,352...|\n",
            "|[1st, fridge, del...|     2|(262144,[3230,155...|\n",
            "|[4, months, purch...|     1|(262144,[1546,898...|\n",
            "|[6inch, pipe, fit...|     3|(262144,[12650,25...|\n",
            "|[<a, data-hook=\"p...|     5|(262144,[908,1415...|\n",
            "|[<a, data-hook=\"p...|     5|(262144,[908,1415...|\n",
            "|[<div, id=\"video-...|     4|(262144,[3121,800...|\n",
            "|[<div, id=\"video-...|     5|(262144,[4389,553...|\n",
            "|[<div, id=\"video-...|     4|(262144,[2306,271...|\n",
            "|[complete, piece,...|     1|(262144,[34343,44...|\n",
            "|[couple, small, i...|     4|(262144,[21641,24...|\n",
            "|[good, buy, is,, ...|     5|(262144,[3121,953...|\n",
            "|[good, buy, is,, ...|     5|(262144,[3121,953...|\n",
            "|[hard, find, item...|     3|(262144,[2437,181...|\n",
            "|[joke., , save, m...|     1|(262144,[10617,14...|\n",
            "|[joke., , save, m...|     1|(262144,[10617,14...|\n",
            "|[large, floral, b...|     1|(262144,[1519,154...|\n",
            "|[little, pricey,,...|     4|(262144,[5551,576...|\n",
            "|[perfect,, identi...|     5|(262144,[11382,17...|\n",
            "+--------------------+------+--------------------+\n",
            "only showing top 20 rows"
          ]
        }
      ],
      "source": [
        "#hash words -- USE THIS FOR RANDOM FOREST\n",
        "numericTrain2 = numericTrain.select('MeaningfulWords', col('rating').cast('Int'), 'features')\n",
        "numericTrain2.show()"
      ]
    },
    {
      "cell_type": "code",
      "execution_count": null,
      "id": "2d5e82a8",
      "metadata": {
        "id": "2d5e82a8"
      },
      "outputs": [],
      "source": []
    },
    {
      "cell_type": "code",
      "execution_count": null,
      "id": "27521bf2",
      "metadata": {
        "id": "27521bf2"
      },
      "outputs": [],
      "source": []
    },
    {
      "cell_type": "code",
      "execution_count": null,
      "id": "a67dfa45",
      "metadata": {
        "id": "a67dfa45"
      },
      "outputs": [],
      "source": [
        "#logistic regression"
      ]
    },
    {
      "cell_type": "code",
      "execution_count": null,
      "id": "fa44027e",
      "metadata": {
        "id": "fa44027e"
      },
      "outputs": [],
      "source": [
        "from pyspark.ml.classification import LogisticRegression"
      ]
    },
    {
      "cell_type": "code",
      "execution_count": null,
      "id": "fef52876",
      "metadata": {
        "id": "fef52876"
      },
      "outputs": [],
      "source": [
        "#logestic regression -- need to fine tune hyperparam as required\n",
        "lr = LogisticRegression(labelCol=\"rating\", featuresCol=\"features\", \n",
        "                        maxIter=10, regParam=0.01)\n",
        "model = lr.fit(numericTrain)\n",
        "print (\"Training Done\")"
      ]
    },
    {
      "cell_type": "code",
      "execution_count": null,
      "id": "ac69cbaa",
      "metadata": {
        "id": "ac69cbaa"
      },
      "outputs": [],
      "source": [
        "#prepare testing data\n",
        "tokenizedTest = tokenizer.transform(test_data)\n",
        "SwRemovedTest = swr.transform(tokenizedTest)\n",
        "numericTest = hashTF.transform(SwRemovedTest)\n",
        "numericTest.show()"
      ]
    },
    {
      "cell_type": "code",
      "execution_count": null,
      "id": "fb43f172",
      "metadata": {
        "id": "fb43f172"
      },
      "outputs": [],
      "source": [
        "#prepare prediction\n",
        "raw_prediction = model.transform(numericTest)"
      ]
    },
    {
      "cell_type": "code",
      "execution_count": null,
      "id": "cca039df",
      "metadata": {
        "id": "cca039df"
      },
      "outputs": [],
      "source": [
        "#prediction\n",
        "Final_prediction = raw_prediction.select(\"MeaningfulWords\", \"prediction\", \"rating\")\n",
        "Final_prediction.show()"
      ]
    },
    {
      "cell_type": "code",
      "execution_count": null,
      "id": "20a35140",
      "metadata": {
        "id": "20a35140"
      },
      "outputs": [],
      "source": [
        "#evulation\n",
        "otal_True=Final_prediction.filter(Final_prediction['prediction']==Final_prediction['rating']).count()\n",
        "Alldata=Final_prediction.count()\n",
        "Accuracy=Total_True/Alldata\n",
        "print(Accuracy*100)"
      ]
    },
    {
      "cell_type": "code",
      "execution_count": null,
      "id": "bb4bfa9d",
      "metadata": {
        "id": "bb4bfa9d"
      },
      "outputs": [],
      "source": []
    },
    {
      "cell_type": "code",
      "execution_count": null,
      "id": "d1c995d2",
      "metadata": {
        "id": "d1c995d2"
      },
      "outputs": [],
      "source": []
    },
    {
      "cell_type": "code",
      "execution_count": null,
      "id": "337f58ff",
      "metadata": {
        "id": "337f58ff"
      },
      "outputs": [],
      "source": [
        "#random forest"
      ]
    },
    {
      "cell_type": "code",
      "execution_count": null,
      "id": "8596a7b1",
      "metadata": {
        "id": "8596a7b1",
        "outputId": "2ca7f6ab-66ca-4b36-d874-7bde4d562555",
        "colab": {
          "referenced_widgets": [
            "ef7b9d9845214133b0a8ac51f19328ff",
            ""
          ]
        }
      },
      "outputs": [
        {
          "data": {
            "application/vnd.jupyter.widget-view+json": {
              "model_id": "ef7b9d9845214133b0a8ac51f19328ff",
              "version_major": 2,
              "version_minor": 0
            },
            "text/plain": [
              "VBox()"
            ]
          },
          "metadata": {},
          "output_type": "display_data"
        },
        {
          "data": {
            "application/vnd.jupyter.widget-view+json": {
              "model_id": "",
              "version_major": 2,
              "version_minor": 0
            },
            "text/plain": [
              "FloatProgress(value=0.0, bar_style='info', description='Progress:', layout=Layout(height='25px', width='50%'),…"
            ]
          },
          "metadata": {},
          "output_type": "display_data"
        }
      ],
      "source": [
        "from pyspark.ml.classification import RandomForestClassifier"
      ]
    },
    {
      "cell_type": "code",
      "execution_count": null,
      "id": "58ef1d76",
      "metadata": {
        "id": "58ef1d76",
        "outputId": "80f7d1fb-c0f8-4a9b-b1c7-83fc4fc4f762",
        "colab": {
          "referenced_widgets": [
            "6ae6915462c244a2a25bf180dc5ee062",
            ""
          ]
        }
      },
      "outputs": [
        {
          "data": {
            "application/vnd.jupyter.widget-view+json": {
              "model_id": "6ae6915462c244a2a25bf180dc5ee062",
              "version_major": 2,
              "version_minor": 0
            },
            "text/plain": [
              "VBox()"
            ]
          },
          "metadata": {},
          "output_type": "display_data"
        },
        {
          "data": {
            "application/vnd.jupyter.widget-view+json": {
              "model_id": "",
              "version_major": 2,
              "version_minor": 0
            },
            "text/plain": [
              "FloatProgress(value=0.0, bar_style='info', description='Progress:', layout=Layout(height='25px', width='50%'),…"
            ]
          },
          "metadata": {},
          "output_type": "display_data"
        }
      ],
      "source": [
        "#random forest -- need to fine tune hyperparam as required\n",
        "rf = RandomForestClassifier(labelCol=\"rating\", \\\n",
        "                            featuresCol=\"features\", \\\n",
        "                            numTrees = 100, \\\n",
        "                            maxDepth = 4, \\\n",
        "                            maxBins = 32)"
      ]
    },
    {
      "cell_type": "code",
      "execution_count": null,
      "id": "070713b2",
      "metadata": {
        "id": "070713b2",
        "outputId": "656cf7f2-12c3-484c-fc0c-ed741c956a26",
        "colab": {
          "referenced_widgets": [
            "dc7881b90ba24da0bd4cd80cadba7d0c",
            "6cc56746f5fa41a69361c479dbe60397"
          ]
        }
      },
      "outputs": [
        {
          "data": {
            "application/vnd.jupyter.widget-view+json": {
              "model_id": "dc7881b90ba24da0bd4cd80cadba7d0c",
              "version_major": 2,
              "version_minor": 0
            },
            "text/plain": [
              "VBox()"
            ]
          },
          "metadata": {},
          "output_type": "display_data"
        },
        {
          "data": {
            "application/vnd.jupyter.widget-view+json": {
              "model_id": "6cc56746f5fa41a69361c479dbe60397",
              "version_major": 2,
              "version_minor": 0
            },
            "text/plain": [
              "FloatProgress(value=0.0, bar_style='info', description='Progress:', layout=Layout(height='25px', width='50%'),…"
            ]
          },
          "metadata": {},
          "output_type": "display_data"
        },
        {
          "name": "stderr",
          "output_type": "stream",
          "text": [
            "Interrupted by user\n"
          ]
        }
      ],
      "source": [
        "rfModel = rf.fit(numericTrain2)"
      ]
    },
    {
      "cell_type": "code",
      "execution_count": null,
      "id": "16d5b76c",
      "metadata": {
        "id": "16d5b76c"
      },
      "outputs": [],
      "source": [
        "tree_predictions = rfModel.transform(testData)"
      ]
    },
    {
      "cell_type": "code",
      "execution_count": null,
      "id": "6380d225",
      "metadata": {
        "id": "6380d225"
      },
      "outputs": [],
      "source": [
        "tree_predictions.filter(tree_predictions['prediction'] == 0) \\\n",
        "    .select(\"clean_text\",\"category\",\"probability\",\"label\",\"prediction\") \\\n",
        "    .orderBy(\"probability\", ascending=False) \\\n",
        "    .show(n = 10, truncate = 30)"
      ]
    },
    {
      "cell_type": "code",
      "execution_count": null,
      "id": "3a928d3c",
      "metadata": {
        "id": "3a928d3c"
      },
      "outputs": [],
      "source": []
    }
  ],
  "metadata": {
    "kernelspec": {
      "display_name": "PySpark",
      "language": "python",
      "name": "pysparkkernel"
    },
    "language_info": {
      "codemirror_mode": {
        "name": "python",
        "version": 3
      },
      "file_extension": ".py",
      "mimetype": "text/x-python",
      "name": "pyspark",
      "pygments_lexer": "python3"
    },
    "colab": {
      "provenance": []
    }
  },
  "nbformat": 4,
  "nbformat_minor": 5
}